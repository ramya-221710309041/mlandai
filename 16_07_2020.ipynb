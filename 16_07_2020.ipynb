{
  "nbformat": 4,
  "nbformat_minor": 0,
  "metadata": {
    "colab": {
      "name": "16-07-2020.ipynb",
      "provenance": []
    },
    "kernelspec": {
      "name": "python3",
      "display_name": "Python 3"
    }
  },
  "cells": [
    {
      "cell_type": "code",
      "metadata": {
        "id": "fmFaLnO-712D",
        "colab_type": "code",
        "colab": {
          "base_uri": "https://localhost:8080/",
          "height": 51
        },
        "outputId": "29baa6f2-15e4-4993-adcf-0b0f95af629e"
      },
      "source": [
        "## Mount the Gdrive\n",
        "from google.colab import drive\n",
        "drive.mount('/gdrive')\n",
        "%cd /gdrive"
      ],
      "execution_count": 52,
      "outputs": [
        {
          "output_type": "stream",
          "text": [
            "Drive already mounted at /gdrive; to attempt to forcibly remount, call drive.mount(\"/gdrive\", force_remount=True).\n",
            "/gdrive\n"
          ],
          "name": "stdout"
        }
      ]
    },
    {
      "cell_type": "code",
      "metadata": {
        "id": "wkaiq_hAaCTO",
        "colab_type": "code",
        "colab": {
          "base_uri": "https://localhost:8080/",
          "height": 51
        },
        "outputId": "c8e3aa95-c8a7-47db-f773-e4dc640a2b70"
      },
      "source": [
        "!ls 'My Drive/Summer internship'"
      ],
      "execution_count": 53,
      "outputs": [
        {
          "output_type": "stream",
          "text": [
            "1908_17155_bundle_archive.zip  all_stocks_5yr.csv\n",
            "20-06-2020.ipynb\t       titanic.csv\n"
          ],
          "name": "stdout"
        }
      ]
    },
    {
      "cell_type": "code",
      "metadata": {
        "id": "FSXZwwc8aYsf",
        "colab_type": "code",
        "colab": {
          "base_uri": "https://localhost:8080/",
          "height": 34
        },
        "outputId": "b9567d64-1b28-4925-a86f-786a6ea4b663"
      },
      "source": [
        "# all_stocks_5yr.csv\n",
        "import pandas as pd\n",
        "data = pd.read_csv('My Drive/Summer internship/all_stocks_5yr.csv')\n",
        "data.shape"
      ],
      "execution_count": 54,
      "outputs": [
        {
          "output_type": "execute_result",
          "data": {
            "text/plain": [
              "(619040, 7)"
            ]
          },
          "metadata": {
            "tags": []
          },
          "execution_count": 54
        }
      ]
    },
    {
      "cell_type": "code",
      "metadata": {
        "id": "jFwDqBtrafMu",
        "colab_type": "code",
        "colab": {
          "base_uri": "https://localhost:8080/",
          "height": 204
        },
        "outputId": "ffd4a2bb-7b24-4d91-d03c-95642aa9e135"
      },
      "source": [
        "# Top Five rows\n",
        "data.head()"
      ],
      "execution_count": 55,
      "outputs": [
        {
          "output_type": "execute_result",
          "data": {
            "text/html": [
              "<div>\n",
              "<style scoped>\n",
              "    .dataframe tbody tr th:only-of-type {\n",
              "        vertical-align: middle;\n",
              "    }\n",
              "\n",
              "    .dataframe tbody tr th {\n",
              "        vertical-align: top;\n",
              "    }\n",
              "\n",
              "    .dataframe thead th {\n",
              "        text-align: right;\n",
              "    }\n",
              "</style>\n",
              "<table border=\"1\" class=\"dataframe\">\n",
              "  <thead>\n",
              "    <tr style=\"text-align: right;\">\n",
              "      <th></th>\n",
              "      <th>date</th>\n",
              "      <th>open</th>\n",
              "      <th>high</th>\n",
              "      <th>low</th>\n",
              "      <th>close</th>\n",
              "      <th>volume</th>\n",
              "      <th>Name</th>\n",
              "    </tr>\n",
              "  </thead>\n",
              "  <tbody>\n",
              "    <tr>\n",
              "      <th>0</th>\n",
              "      <td>2013-02-08</td>\n",
              "      <td>15.07</td>\n",
              "      <td>15.12</td>\n",
              "      <td>14.63</td>\n",
              "      <td>14.75</td>\n",
              "      <td>8407500</td>\n",
              "      <td>AAL</td>\n",
              "    </tr>\n",
              "    <tr>\n",
              "      <th>1</th>\n",
              "      <td>2013-02-11</td>\n",
              "      <td>14.89</td>\n",
              "      <td>15.01</td>\n",
              "      <td>14.26</td>\n",
              "      <td>14.46</td>\n",
              "      <td>8882000</td>\n",
              "      <td>AAL</td>\n",
              "    </tr>\n",
              "    <tr>\n",
              "      <th>2</th>\n",
              "      <td>2013-02-12</td>\n",
              "      <td>14.45</td>\n",
              "      <td>14.51</td>\n",
              "      <td>14.10</td>\n",
              "      <td>14.27</td>\n",
              "      <td>8126000</td>\n",
              "      <td>AAL</td>\n",
              "    </tr>\n",
              "    <tr>\n",
              "      <th>3</th>\n",
              "      <td>2013-02-13</td>\n",
              "      <td>14.30</td>\n",
              "      <td>14.94</td>\n",
              "      <td>14.25</td>\n",
              "      <td>14.66</td>\n",
              "      <td>10259500</td>\n",
              "      <td>AAL</td>\n",
              "    </tr>\n",
              "    <tr>\n",
              "      <th>4</th>\n",
              "      <td>2013-02-14</td>\n",
              "      <td>14.94</td>\n",
              "      <td>14.96</td>\n",
              "      <td>13.16</td>\n",
              "      <td>13.99</td>\n",
              "      <td>31879900</td>\n",
              "      <td>AAL</td>\n",
              "    </tr>\n",
              "  </tbody>\n",
              "</table>\n",
              "</div>"
            ],
            "text/plain": [
              "         date   open   high    low  close    volume Name\n",
              "0  2013-02-08  15.07  15.12  14.63  14.75   8407500  AAL\n",
              "1  2013-02-11  14.89  15.01  14.26  14.46   8882000  AAL\n",
              "2  2013-02-12  14.45  14.51  14.10  14.27   8126000  AAL\n",
              "3  2013-02-13  14.30  14.94  14.25  14.66  10259500  AAL\n",
              "4  2013-02-14  14.94  14.96  13.16  13.99  31879900  AAL"
            ]
          },
          "metadata": {
            "tags": []
          },
          "execution_count": 55
        }
      ]
    },
    {
      "cell_type": "code",
      "metadata": {
        "id": "TOVkiyEDnj7L",
        "colab_type": "code",
        "colab": {
          "base_uri": "https://localhost:8080/",
          "height": 34
        },
        "outputId": "8a2608ab-ca37-4843-88ff-ee023859af86"
      },
      "source": [
        "data.columns"
      ],
      "execution_count": 56,
      "outputs": [
        {
          "output_type": "execute_result",
          "data": {
            "text/plain": [
              "Index(['date', 'open', 'high', 'low', 'close', 'volume', 'Name'], dtype='object')"
            ]
          },
          "metadata": {
            "tags": []
          },
          "execution_count": 56
        }
      ]
    },
    {
      "cell_type": "code",
      "metadata": {
        "id": "mlKl8BpSnmht",
        "colab_type": "code",
        "colab": {
          "base_uri": "https://localhost:8080/",
          "height": 34
        },
        "outputId": "3e57cd38-36a1-4e19-a1f7-ad7993ef44c9"
      },
      "source": [
        "### How many company's data we have here?\n",
        "data.Name.nunique()"
      ],
      "execution_count": 57,
      "outputs": [
        {
          "output_type": "execute_result",
          "data": {
            "text/plain": [
              "505"
            ]
          },
          "metadata": {
            "tags": []
          },
          "execution_count": 57
        }
      ]
    },
    {
      "cell_type": "code",
      "metadata": {
        "id": "SHn-0w8vnoC7",
        "colab_type": "code",
        "colab": {
          "base_uri": "https://localhost:8080/",
          "height": 34
        },
        "outputId": "eaa02df6-71f1-4c91-b28d-549353dbf2a0"
      },
      "source": [
        "## Selecting the data AAL\n",
        "df = data[data['Name']=='AAL']\n",
        "df.shape"
      ],
      "execution_count": 58,
      "outputs": [
        {
          "output_type": "execute_result",
          "data": {
            "text/plain": [
              "(1259, 7)"
            ]
          },
          "metadata": {
            "tags": []
          },
          "execution_count": 58
        }
      ]
    },
    {
      "cell_type": "code",
      "metadata": {
        "id": "vS2aGMwqnpmD",
        "colab_type": "code",
        "colab": {
          "base_uri": "https://localhost:8080/",
          "height": 34
        },
        "outputId": "4b512766-a58d-40b8-c79c-93dfc10319ad"
      },
      "source": [
        "df.columns"
      ],
      "execution_count": 59,
      "outputs": [
        {
          "output_type": "execute_result",
          "data": {
            "text/plain": [
              "Index(['date', 'open', 'high', 'low', 'close', 'volume', 'Name'], dtype='object')"
            ]
          },
          "metadata": {
            "tags": []
          },
          "execution_count": 59
        }
      ]
    },
    {
      "cell_type": "code",
      "metadata": {
        "id": "NtxzwGJXnr0g",
        "colab_type": "code",
        "colab": {
          "base_uri": "https://localhost:8080/",
          "height": 419
        },
        "outputId": "cc8d0111-2bed-4773-8651-158c83028ac5"
      },
      "source": [
        "#select the columns date and close price\n",
        "df = df[['date','close']]\n",
        "df"
      ],
      "execution_count": 60,
      "outputs": [
        {
          "output_type": "execute_result",
          "data": {
            "text/html": [
              "<div>\n",
              "<style scoped>\n",
              "    .dataframe tbody tr th:only-of-type {\n",
              "        vertical-align: middle;\n",
              "    }\n",
              "\n",
              "    .dataframe tbody tr th {\n",
              "        vertical-align: top;\n",
              "    }\n",
              "\n",
              "    .dataframe thead th {\n",
              "        text-align: right;\n",
              "    }\n",
              "</style>\n",
              "<table border=\"1\" class=\"dataframe\">\n",
              "  <thead>\n",
              "    <tr style=\"text-align: right;\">\n",
              "      <th></th>\n",
              "      <th>date</th>\n",
              "      <th>close</th>\n",
              "    </tr>\n",
              "  </thead>\n",
              "  <tbody>\n",
              "    <tr>\n",
              "      <th>0</th>\n",
              "      <td>2013-02-08</td>\n",
              "      <td>14.75</td>\n",
              "    </tr>\n",
              "    <tr>\n",
              "      <th>1</th>\n",
              "      <td>2013-02-11</td>\n",
              "      <td>14.46</td>\n",
              "    </tr>\n",
              "    <tr>\n",
              "      <th>2</th>\n",
              "      <td>2013-02-12</td>\n",
              "      <td>14.27</td>\n",
              "    </tr>\n",
              "    <tr>\n",
              "      <th>3</th>\n",
              "      <td>2013-02-13</td>\n",
              "      <td>14.66</td>\n",
              "    </tr>\n",
              "    <tr>\n",
              "      <th>4</th>\n",
              "      <td>2013-02-14</td>\n",
              "      <td>13.99</td>\n",
              "    </tr>\n",
              "    <tr>\n",
              "      <th>...</th>\n",
              "      <td>...</td>\n",
              "      <td>...</td>\n",
              "    </tr>\n",
              "    <tr>\n",
              "      <th>1254</th>\n",
              "      <td>2018-02-01</td>\n",
              "      <td>53.88</td>\n",
              "    </tr>\n",
              "    <tr>\n",
              "      <th>1255</th>\n",
              "      <td>2018-02-02</td>\n",
              "      <td>52.10</td>\n",
              "    </tr>\n",
              "    <tr>\n",
              "      <th>1256</th>\n",
              "      <td>2018-02-05</td>\n",
              "      <td>49.76</td>\n",
              "    </tr>\n",
              "    <tr>\n",
              "      <th>1257</th>\n",
              "      <td>2018-02-06</td>\n",
              "      <td>51.18</td>\n",
              "    </tr>\n",
              "    <tr>\n",
              "      <th>1258</th>\n",
              "      <td>2018-02-07</td>\n",
              "      <td>51.40</td>\n",
              "    </tr>\n",
              "  </tbody>\n",
              "</table>\n",
              "<p>1259 rows × 2 columns</p>\n",
              "</div>"
            ],
            "text/plain": [
              "            date  close\n",
              "0     2013-02-08  14.75\n",
              "1     2013-02-11  14.46\n",
              "2     2013-02-12  14.27\n",
              "3     2013-02-13  14.66\n",
              "4     2013-02-14  13.99\n",
              "...          ...    ...\n",
              "1254  2018-02-01  53.88\n",
              "1255  2018-02-02  52.10\n",
              "1256  2018-02-05  49.76\n",
              "1257  2018-02-06  51.18\n",
              "1258  2018-02-07  51.40\n",
              "\n",
              "[1259 rows x 2 columns]"
            ]
          },
          "metadata": {
            "tags": []
          },
          "execution_count": 60
        }
      ]
    },
    {
      "cell_type": "code",
      "metadata": {
        "id": "83PlHnBGntWv",
        "colab_type": "code",
        "colab": {
          "base_uri": "https://localhost:8080/",
          "height": 283
        },
        "outputId": "65bac3e4-4cd4-4e0c-d5ec-80cb2bf877b8"
      },
      "source": [
        "# Line plot\n",
        "import matplotlib.pyplot as plt\n",
        "plt.plot(df['date'],df['close'])"
      ],
      "execution_count": 61,
      "outputs": [
        {
          "output_type": "execute_result",
          "data": {
            "text/plain": [
              "[<matplotlib.lines.Line2D at 0x7ff75e18f208>]"
            ]
          },
          "metadata": {
            "tags": []
          },
          "execution_count": 61
        },
        {
          "output_type": "display_data",
          "data": {
            "image/png": "[encoded data removed]",
            "text/plain": [
              "<Figure size 432x288 with 1 Axes>"
            ]
          },
          "metadata": {
            "tags": [],
            "needs_background": "light"
          }
        }
      ]
    },
    {
      "cell_type": "code",
      "metadata": {
        "id": "uRwfH4PVnveD",
        "colab_type": "code",
        "colab": {
          "base_uri": "https://localhost:8080/",
          "height": 204
        },
        "outputId": "3a30c575-e856-49cd-8395-f2b0e9a892f9"
      },
      "source": [
        "df.date[:10]"
      ],
      "execution_count": 62,
      "outputs": [
        {
          "output_type": "execute_result",
          "data": {
            "text/plain": [
              "0    2013-02-08\n",
              "1    2013-02-11\n",
              "2    2013-02-12\n",
              "3    2013-02-13\n",
              "4    2013-02-14\n",
              "5    2013-02-15\n",
              "6    2013-02-19\n",
              "7    2013-02-20\n",
              "8    2013-02-21\n",
              "9    2013-02-22\n",
              "Name: date, dtype: object"
            ]
          },
          "metadata": {
            "tags": []
          },
          "execution_count": 62
        }
      ]
    },
    {
      "cell_type": "code",
      "metadata": {
        "id": "5J2pS15anz46",
        "colab_type": "code",
        "colab": {
          "base_uri": "https://localhost:8080/",
          "height": 68
        },
        "outputId": "e67c435f-3265-4379-943d-ef188213e0c4"
      },
      "source": [
        "### Missing values in the data\n",
        "df.isnull().sum()"
      ],
      "execution_count": 63,
      "outputs": [
        {
          "output_type": "execute_result",
          "data": {
            "text/plain": [
              "date     0\n",
              "close    0\n",
              "dtype: int64"
            ]
          },
          "metadata": {
            "tags": []
          },
          "execution_count": 63
        }
      ]
    },
    {
      "cell_type": "code",
      "metadata": {
        "id": "4cjBt323n12M",
        "colab_type": "code",
        "colab": {
          "base_uri": "https://localhost:8080/",
          "height": 272
        },
        "outputId": "9439f75a-ba4c-49ee-cc73-643d77b5f3b0"
      },
      "source": [
        "## Preparing the data\n",
        "## Features and target\n",
        "## Input and output\n",
        "## last 7 days data as input\n",
        "## X -- [[d1-d7],[d9,d15],[d17,23]....]\n",
        "## y -- [d8,d16,d24,...]\n",
        "\n",
        "## X = [[d1-d7],[d2-d8],]\n",
        "## y = [d8,d9]\n",
        "X = [] ## input\n",
        "y = [] ## ouput\n",
        "for i  in range(df.shape[0]-7-1):   \n",
        "  X.append(df['close'][i:i+7])# 0 -->[0:7], 1-->[1:8]\n",
        "  y.append(df['close'][i+7])# 7,8,9\n",
        "print(X[:2])"
      ],
      "execution_count": 64,
      "outputs": [
        {
          "output_type": "stream",
          "text": [
            "[0    14.75\n",
            "1    14.46\n",
            "2    14.27\n",
            "3    14.66\n",
            "4    13.99\n",
            "5    14.50\n",
            "6    14.26\n",
            "Name: close, dtype: float64, 1    14.46\n",
            "2    14.27\n",
            "3    14.66\n",
            "4    13.99\n",
            "5    14.50\n",
            "6    14.26\n",
            "7    13.33\n",
            "Name: close, dtype: float64]\n"
          ],
          "name": "stdout"
        }
      ]
    },
    {
      "cell_type": "code",
      "metadata": {
        "id": "irPAczOcn4aU",
        "colab_type": "code",
        "colab": {}
      },
      "source": [
        "import numpy as np\n",
        "X = np.array(X)"
      ],
      "execution_count": 65,
      "outputs": []
    },
    {
      "cell_type": "code",
      "metadata": {
        "id": "-t7vB1_-n6jw",
        "colab_type": "code",
        "colab": {
          "base_uri": "https://localhost:8080/",
          "height": 204
        },
        "outputId": "7d7fa613-7d2d-437b-b5ec-0ac50aff5b9b"
      },
      "source": [
        "df1  = pd.DataFrame(X,columns=['d1','d2','d3','d4','d5','d6','d7'])\n",
        "df1.head()"
      ],
      "execution_count": 66,
      "outputs": [
        {
          "output_type": "execute_result",
          "data": {
            "text/html": [
              "<div>\n",
              "<style scoped>\n",
              "    .dataframe tbody tr th:only-of-type {\n",
              "        vertical-align: middle;\n",
              "    }\n",
              "\n",
              "    .dataframe tbody tr th {\n",
              "        vertical-align: top;\n",
              "    }\n",
              "\n",
              "    .dataframe thead th {\n",
              "        text-align: right;\n",
              "    }\n",
              "</style>\n",
              "<table border=\"1\" class=\"dataframe\">\n",
              "  <thead>\n",
              "    <tr style=\"text-align: right;\">\n",
              "      <th></th>\n",
              "      <th>d1</th>\n",
              "      <th>d2</th>\n",
              "      <th>d3</th>\n",
              "      <th>d4</th>\n",
              "      <th>d5</th>\n",
              "      <th>d6</th>\n",
              "      <th>d7</th>\n",
              "    </tr>\n",
              "  </thead>\n",
              "  <tbody>\n",
              "    <tr>\n",
              "      <th>0</th>\n",
              "      <td>14.75</td>\n",
              "      <td>14.46</td>\n",
              "      <td>14.27</td>\n",
              "      <td>14.66</td>\n",
              "      <td>13.99</td>\n",
              "      <td>14.50</td>\n",
              "      <td>14.26</td>\n",
              "    </tr>\n",
              "    <tr>\n",
              "      <th>1</th>\n",
              "      <td>14.46</td>\n",
              "      <td>14.27</td>\n",
              "      <td>14.66</td>\n",
              "      <td>13.99</td>\n",
              "      <td>14.50</td>\n",
              "      <td>14.26</td>\n",
              "      <td>13.33</td>\n",
              "    </tr>\n",
              "    <tr>\n",
              "      <th>2</th>\n",
              "      <td>14.27</td>\n",
              "      <td>14.66</td>\n",
              "      <td>13.99</td>\n",
              "      <td>14.50</td>\n",
              "      <td>14.26</td>\n",
              "      <td>13.33</td>\n",
              "      <td>13.37</td>\n",
              "    </tr>\n",
              "    <tr>\n",
              "      <th>3</th>\n",
              "      <td>14.66</td>\n",
              "      <td>13.99</td>\n",
              "      <td>14.50</td>\n",
              "      <td>14.26</td>\n",
              "      <td>13.33</td>\n",
              "      <td>13.37</td>\n",
              "      <td>13.57</td>\n",
              "    </tr>\n",
              "    <tr>\n",
              "      <th>4</th>\n",
              "      <td>13.99</td>\n",
              "      <td>14.50</td>\n",
              "      <td>14.26</td>\n",
              "      <td>13.33</td>\n",
              "      <td>13.37</td>\n",
              "      <td>13.57</td>\n",
              "      <td>13.02</td>\n",
              "    </tr>\n",
              "  </tbody>\n",
              "</table>\n",
              "</div>"
            ],
            "text/plain": [
              "      d1     d2     d3     d4     d5     d6     d7\n",
              "0  14.75  14.46  14.27  14.66  13.99  14.50  14.26\n",
              "1  14.46  14.27  14.66  13.99  14.50  14.26  13.33\n",
              "2  14.27  14.66  13.99  14.50  14.26  13.33  13.37\n",
              "3  14.66  13.99  14.50  14.26  13.33  13.37  13.57\n",
              "4  13.99  14.50  14.26  13.33  13.37  13.57  13.02"
            ]
          },
          "metadata": {
            "tags": []
          },
          "execution_count": 66
        }
      ]
    },
    {
      "cell_type": "code",
      "metadata": {
        "id": "5H2QC7mNn-RG",
        "colab_type": "code",
        "colab": {
          "base_uri": "https://localhost:8080/",
          "height": 204
        },
        "outputId": "1b30f8b2-a1b5-458d-a73d-1dd7ccc0f9c4"
      },
      "source": [
        "df1['d8'] = y\n",
        "df1.head()"
      ],
      "execution_count": 67,
      "outputs": [
        {
          "output_type": "execute_result",
          "data": {
            "text/html": [
              "<div>\n",
              "<style scoped>\n",
              "    .dataframe tbody tr th:only-of-type {\n",
              "        vertical-align: middle;\n",
              "    }\n",
              "\n",
              "    .dataframe tbody tr th {\n",
              "        vertical-align: top;\n",
              "    }\n",
              "\n",
              "    .dataframe thead th {\n",
              "        text-align: right;\n",
              "    }\n",
              "</style>\n",
              "<table border=\"1\" class=\"dataframe\">\n",
              "  <thead>\n",
              "    <tr style=\"text-align: right;\">\n",
              "      <th></th>\n",
              "      <th>d1</th>\n",
              "      <th>d2</th>\n",
              "      <th>d3</th>\n",
              "      <th>d4</th>\n",
              "      <th>d5</th>\n",
              "      <th>d6</th>\n",
              "      <th>d7</th>\n",
              "      <th>d8</th>\n",
              "    </tr>\n",
              "  </thead>\n",
              "  <tbody>\n",
              "    <tr>\n",
              "      <th>0</th>\n",
              "      <td>14.75</td>\n",
              "      <td>14.46</td>\n",
              "      <td>14.27</td>\n",
              "      <td>14.66</td>\n",
              "      <td>13.99</td>\n",
              "      <td>14.50</td>\n",
              "      <td>14.26</td>\n",
              "      <td>13.33</td>\n",
              "    </tr>\n",
              "    <tr>\n",
              "      <th>1</th>\n",
              "      <td>14.46</td>\n",
              "      <td>14.27</td>\n",
              "      <td>14.66</td>\n",
              "      <td>13.99</td>\n",
              "      <td>14.50</td>\n",
              "      <td>14.26</td>\n",
              "      <td>13.33</td>\n",
              "      <td>13.37</td>\n",
              "    </tr>\n",
              "    <tr>\n",
              "      <th>2</th>\n",
              "      <td>14.27</td>\n",
              "      <td>14.66</td>\n",
              "      <td>13.99</td>\n",
              "      <td>14.50</td>\n",
              "      <td>14.26</td>\n",
              "      <td>13.33</td>\n",
              "      <td>13.37</td>\n",
              "      <td>13.57</td>\n",
              "    </tr>\n",
              "    <tr>\n",
              "      <th>3</th>\n",
              "      <td>14.66</td>\n",
              "      <td>13.99</td>\n",
              "      <td>14.50</td>\n",
              "      <td>14.26</td>\n",
              "      <td>13.33</td>\n",
              "      <td>13.37</td>\n",
              "      <td>13.57</td>\n",
              "      <td>13.02</td>\n",
              "    </tr>\n",
              "    <tr>\n",
              "      <th>4</th>\n",
              "      <td>13.99</td>\n",
              "      <td>14.50</td>\n",
              "      <td>14.26</td>\n",
              "      <td>13.33</td>\n",
              "      <td>13.37</td>\n",
              "      <td>13.57</td>\n",
              "      <td>13.02</td>\n",
              "      <td>13.26</td>\n",
              "    </tr>\n",
              "  </tbody>\n",
              "</table>\n",
              "</div>"
            ],
            "text/plain": [
              "      d1     d2     d3     d4     d5     d6     d7     d8\n",
              "0  14.75  14.46  14.27  14.66  13.99  14.50  14.26  13.33\n",
              "1  14.46  14.27  14.66  13.99  14.50  14.26  13.33  13.37\n",
              "2  14.27  14.66  13.99  14.50  14.26  13.33  13.37  13.57\n",
              "3  14.66  13.99  14.50  14.26  13.33  13.37  13.57  13.02\n",
              "4  13.99  14.50  14.26  13.33  13.37  13.57  13.02  13.26"
            ]
          },
          "metadata": {
            "tags": []
          },
          "execution_count": 67
        }
      ]
    },
    {
      "cell_type": "code",
      "metadata": {
        "id": "8_bLTyJen_8D",
        "colab_type": "code",
        "colab": {
          "base_uri": "https://localhost:8080/",
          "height": 34
        },
        "outputId": "d3c90f08-4acc-408f-afd1-f9e87fc2b18e"
      },
      "source": [
        "df1.shape"
      ],
      "execution_count": 68,
      "outputs": [
        {
          "output_type": "execute_result",
          "data": {
            "text/plain": [
              "(1251, 8)"
            ]
          },
          "metadata": {
            "tags": []
          },
          "execution_count": 68
        }
      ]
    },
    {
      "cell_type": "code",
      "metadata": {
        "id": "sq6qXizYoB6Y",
        "colab_type": "code",
        "colab": {
          "base_uri": "https://localhost:8080/",
          "height": 34
        },
        "outputId": "d9f4cd1e-8c79-4076-b2aa-9867db3ee28b"
      },
      "source": [
        "1251 * 0.8"
      ],
      "execution_count": 69,
      "outputs": [
        {
          "output_type": "execute_result",
          "data": {
            "text/plain": [
              "1000.8000000000001"
            ]
          },
          "metadata": {
            "tags": []
          },
          "execution_count": 69
        }
      ]
    },
    {
      "cell_type": "code",
      "metadata": {
        "id": "bPurkbDqoDUv",
        "colab_type": "code",
        "colab": {
          "base_uri": "https://localhost:8080/",
          "height": 85
        },
        "outputId": "58375ff1-eb7f-4bf7-e844-ef3b0d171e5a"
      },
      "source": [
        "## Train test split\n",
        "X_train = df1.iloc[0:1000,0:7]\n",
        "X_test = df1.iloc[1000:,0:7]\n",
        "y_train =  df1['d8'][:1000]\n",
        "y_test  = df1['d8'][1000:]\n",
        "print(X_train.shape)\n",
        "print(y_train.shape)\n",
        "print(X_test.shape)\n",
        "print(y_test.shape)"
      ],
      "execution_count": 70,
      "outputs": [
        {
          "output_type": "stream",
          "text": [
            "(1000, 7)\n",
            "(1000,)\n",
            "(251, 7)\n",
            "(251,)\n"
          ],
          "name": "stdout"
        }
      ]
    },
    {
      "cell_type": "code",
      "metadata": {
        "id": "zeT4aopvoFz8",
        "colab_type": "code",
        "colab": {
          "base_uri": "https://localhost:8080/",
          "height": 297
        },
        "outputId": "96ff361e-1ffc-4643-d476-850307fbeda8"
      },
      "source": [
        "## Sacling the data\n",
        "from sklearn.preprocessing import StandardScaler\n",
        "sc = StandardScaler()\n",
        "sc.fit(X_train)\n",
        "X_train_sc = pd.DataFrame(sc.transform(X_train),columns = X_train.columns)\n",
        "X_test_sc = pd.DataFrame(sc.transform(X_test),columns = X_train.columns)\n",
        "X_train_sc.describe()"
      ],
      "execution_count": 71,
      "outputs": [
        {
          "output_type": "execute_result",
          "data": {
            "text/html": [
              "<div>\n",
              "<style scoped>\n",
              "    .dataframe tbody tr th:only-of-type {\n",
              "        vertical-align: middle;\n",
              "    }\n",
              "\n",
              "    .dataframe tbody tr th {\n",
              "        vertical-align: top;\n",
              "    }\n",
              "\n",
              "    .dataframe thead th {\n",
              "        text-align: right;\n",
              "    }\n",
              "</style>\n",
              "<table border=\"1\" class=\"dataframe\">\n",
              "  <thead>\n",
              "    <tr style=\"text-align: right;\">\n",
              "      <th></th>\n",
              "      <th>d1</th>\n",
              "      <th>d2</th>\n",
              "      <th>d3</th>\n",
              "      <th>d4</th>\n",
              "      <th>d5</th>\n",
              "      <th>d6</th>\n",
              "      <th>d7</th>\n",
              "    </tr>\n",
              "  </thead>\n",
              "  <tbody>\n",
              "    <tr>\n",
              "      <th>count</th>\n",
              "      <td>1.000000e+03</td>\n",
              "      <td>1.000000e+03</td>\n",
              "      <td>1.000000e+03</td>\n",
              "      <td>1.000000e+03</td>\n",
              "      <td>1.000000e+03</td>\n",
              "      <td>1.000000e+03</td>\n",
              "      <td>1.000000e+03</td>\n",
              "    </tr>\n",
              "    <tr>\n",
              "      <th>mean</th>\n",
              "      <td>5.107026e-17</td>\n",
              "      <td>1.179057e-16</td>\n",
              "      <td>3.196332e-16</td>\n",
              "      <td>8.437695e-18</td>\n",
              "      <td>-2.058353e-16</td>\n",
              "      <td>6.408207e-16</td>\n",
              "      <td>3.573808e-16</td>\n",
              "    </tr>\n",
              "    <tr>\n",
              "      <th>std</th>\n",
              "      <td>1.000500e+00</td>\n",
              "      <td>1.000500e+00</td>\n",
              "      <td>1.000500e+00</td>\n",
              "      <td>1.000500e+00</td>\n",
              "      <td>1.000500e+00</td>\n",
              "      <td>1.000500e+00</td>\n",
              "      <td>1.000500e+00</td>\n",
              "    </tr>\n",
              "    <tr>\n",
              "      <th>min</th>\n",
              "      <td>-2.119798e+00</td>\n",
              "      <td>-2.125939e+00</td>\n",
              "      <td>-2.132307e+00</td>\n",
              "      <td>-2.138824e+00</td>\n",
              "      <td>-2.145197e+00</td>\n",
              "      <td>-2.151939e+00</td>\n",
              "      <td>-2.158392e+00</td>\n",
              "    </tr>\n",
              "    <tr>\n",
              "      <th>25%</th>\n",
              "      <td>-5.582080e-01</td>\n",
              "      <td>-5.486430e-01</td>\n",
              "      <td>-5.493180e-01</td>\n",
              "      <td>-5.516601e-01</td>\n",
              "      <td>-5.450605e-01</td>\n",
              "      <td>-5.350756e-01</td>\n",
              "      <td>-5.332242e-01</td>\n",
              "    </tr>\n",
              "    <tr>\n",
              "      <th>50%</th>\n",
              "      <td>2.659776e-01</td>\n",
              "      <td>2.649882e-01</td>\n",
              "      <td>2.640589e-01</td>\n",
              "      <td>2.640761e-01</td>\n",
              "      <td>2.641178e-01</td>\n",
              "      <td>2.631759e-01</td>\n",
              "      <td>2.621305e-01</td>\n",
              "    </tr>\n",
              "    <tr>\n",
              "      <th>75%</th>\n",
              "      <td>6.620601e-01</td>\n",
              "      <td>6.644832e-01</td>\n",
              "      <td>6.649275e-01</td>\n",
              "      <td>6.633158e-01</td>\n",
              "      <td>6.633343e-01</td>\n",
              "      <td>6.668651e-01</td>\n",
              "      <td>6.666995e-01</td>\n",
              "    </tr>\n",
              "    <tr>\n",
              "      <th>max</th>\n",
              "      <td>1.847059e+00</td>\n",
              "      <td>1.847165e+00</td>\n",
              "      <td>1.847513e+00</td>\n",
              "      <td>1.847976e+00</td>\n",
              "      <td>1.848369e+00</td>\n",
              "      <td>1.848914e+00</td>\n",
              "      <td>1.849089e+00</td>\n",
              "    </tr>\n",
              "  </tbody>\n",
              "</table>\n",
              "</div>"
            ],
            "text/plain": [
              "                 d1            d2  ...            d6            d7\n",
              "count  1.000000e+03  1.000000e+03  ...  1.000000e+03  1.000000e+03\n",
              "mean   5.107026e-17  1.179057e-16  ...  6.408207e-16  3.573808e-16\n",
              "std    1.000500e+00  1.000500e+00  ...  1.000500e+00  1.000500e+00\n",
              "min   -2.119798e+00 -2.125939e+00  ... -2.151939e+00 -2.158392e+00\n",
              "25%   -5.582080e-01 -5.486430e-01  ... -5.350756e-01 -5.332242e-01\n",
              "50%    2.659776e-01  2.649882e-01  ...  2.631759e-01  2.621305e-01\n",
              "75%    6.620601e-01  6.644832e-01  ...  6.668651e-01  6.666995e-01\n",
              "max    1.847059e+00  1.847165e+00  ...  1.848914e+00  1.849089e+00\n",
              "\n",
              "[8 rows x 7 columns]"
            ]
          },
          "metadata": {
            "tags": []
          },
          "execution_count": 71
        }
      ]
    },
    {
      "cell_type": "code",
      "metadata": {
        "id": "cnpG1_8eoH2w",
        "colab_type": "code",
        "colab": {
          "base_uri": "https://localhost:8080/",
          "height": 221
        },
        "outputId": "078ca40e-36d5-474c-f2da-172480197c31"
      },
      "source": [
        "from keras.models import Sequential\n",
        "from keras.layers import Dense,Dropout,LSTM\n",
        "model = Sequential()\n",
        "# 256 cels\n",
        "model.add(LSTM(256,input_shape=(7,1)))\n",
        "# single neuron\n",
        "model.add(Dense(1))\n",
        "model.summary()"
      ],
      "execution_count": 72,
      "outputs": [
        {
          "output_type": "stream",
          "text": [
            "Model: \"sequential_2\"\n",
            "_________________________________________________________________\n",
            "Layer (type)                 Output Shape              Param #   \n",
            "=================================================================\n",
            "lstm_2 (LSTM)                (None, 256)               264192    \n",
            "_________________________________________________________________\n",
            "dense_2 (Dense)              (None, 1)                 257       \n",
            "=================================================================\n",
            "Total params: 264,449\n",
            "Trainable params: 264,449\n",
            "Non-trainable params: 0\n",
            "_________________________________________________________________\n"
          ],
          "name": "stdout"
        }
      ]
    },
    {
      "cell_type": "code",
      "metadata": {
        "id": "KZi71cN2oLBP",
        "colab_type": "code",
        "colab": {}
      },
      "source": [
        "model.compile(optimizer='adam',loss='mse')"
      ],
      "execution_count": 73,
      "outputs": []
    },
    {
      "cell_type": "code",
      "metadata": {
        "id": "po2RHpEKoP1k",
        "colab_type": "code",
        "colab": {
          "base_uri": "https://localhost:8080/",
          "height": 34
        },
        "outputId": "a56b03f8-9a48-4199-8cf5-f1dec0bb05a6"
      },
      "source": [
        "X_test.shape\n"
      ],
      "execution_count": 74,
      "outputs": [
        {
          "output_type": "execute_result",
          "data": {
            "text/plain": [
              "(251, 7)"
            ]
          },
          "metadata": {
            "tags": []
          },
          "execution_count": 74
        }
      ]
    },
    {
      "cell_type": "code",
      "metadata": {
        "id": "olATGwWBoSnq",
        "colab_type": "code",
        "colab": {}
      },
      "source": [
        "# number of records , time steps,Features\n",
        "X_train_sc = X_train_sc.values.reshape(1000,7,1)\n",
        "X_test_sc = X_test_sc.values.reshape(251,7,1)"
      ],
      "execution_count": 75,
      "outputs": []
    },
    {
      "cell_type": "code",
      "metadata": {
        "id": "CCEkPZN_oUbA",
        "colab_type": "code",
        "colab": {
          "base_uri": "https://localhost:8080/",
          "height": 1000
        },
        "outputId": "72f2e2b2-4de7-4c29-8273-da52348ec7dd"
      },
      "source": [
        "history = model.fit(X_train_sc,y_train,epochs=100,validation_data=(X_test_sc,y_test))"
      ],
      "execution_count": 76,
      "outputs": [
        {
          "output_type": "stream",
          "text": [
            "Train on 1000 samples, validate on 251 samples\n",
            "Epoch 1/100\n",
            "1000/1000 [==============================] - 2s 2ms/step - loss: 1020.5469 - val_loss: 610.9274\n",
            "Epoch 2/100\n",
            "1000/1000 [==============================] - 1s 961us/step - loss: 215.2624 - val_loss: 281.4973\n",
            "Epoch 3/100\n",
            "1000/1000 [==============================] - 1s 938us/step - loss: 94.4901 - val_loss: 161.6735\n",
            "Epoch 4/100\n",
            "1000/1000 [==============================] - 1s 954us/step - loss: 39.0237 - val_loss: 98.4931\n",
            "Epoch 5/100\n",
            "1000/1000 [==============================] - 1s 943us/step - loss: 24.7296 - val_loss: 71.5272\n",
            "Epoch 6/100\n",
            "1000/1000 [==============================] - 1s 935us/step - loss: 18.6138 - val_loss: 57.8653\n",
            "Epoch 7/100\n",
            "1000/1000 [==============================] - 1s 955us/step - loss: 13.1516 - val_loss: 40.2457\n",
            "Epoch 8/100\n",
            "1000/1000 [==============================] - 1s 942us/step - loss: 9.7227 - val_loss: 29.3614\n",
            "Epoch 9/100\n",
            "1000/1000 [==============================] - 1s 980us/step - loss: 7.7944 - val_loss: 24.7180\n",
            "Epoch 10/100\n",
            "1000/1000 [==============================] - 1s 953us/step - loss: 7.3219 - val_loss: 18.2169\n",
            "Epoch 11/100\n",
            "1000/1000 [==============================] - 1s 972us/step - loss: 6.0494 - val_loss: 16.2021\n",
            "Epoch 12/100\n",
            "1000/1000 [==============================] - 1s 978us/step - loss: 5.5094 - val_loss: 12.6800\n",
            "Epoch 13/100\n",
            "1000/1000 [==============================] - 1s 962us/step - loss: 5.0819 - val_loss: 10.9633\n",
            "Epoch 14/100\n",
            "1000/1000 [==============================] - 1s 961us/step - loss: 4.7736 - val_loss: 9.6923\n",
            "Epoch 15/100\n",
            "1000/1000 [==============================] - 1s 946us/step - loss: 4.5398 - val_loss: 8.9800\n",
            "Epoch 16/100\n",
            "1000/1000 [==============================] - 1s 963us/step - loss: 4.3507 - val_loss: 8.1637\n",
            "Epoch 17/100\n",
            "1000/1000 [==============================] - 1s 985us/step - loss: 4.5319 - val_loss: 10.9122\n",
            "Epoch 18/100\n",
            "1000/1000 [==============================] - 1s 961us/step - loss: 4.6852 - val_loss: 7.9253\n",
            "Epoch 19/100\n",
            "1000/1000 [==============================] - 1s 988us/step - loss: 4.2624 - val_loss: 7.8061\n",
            "Epoch 20/100\n",
            "1000/1000 [==============================] - 1s 967us/step - loss: 4.3008 - val_loss: 6.7697\n",
            "Epoch 21/100\n",
            "1000/1000 [==============================] - 1s 925us/step - loss: 4.3095 - val_loss: 6.7489\n",
            "Epoch 22/100\n",
            "1000/1000 [==============================] - 1s 964us/step - loss: 4.4770 - val_loss: 8.3768\n",
            "Epoch 23/100\n",
            "1000/1000 [==============================] - 1s 973us/step - loss: 4.8256 - val_loss: 6.6485\n",
            "Epoch 24/100\n",
            "1000/1000 [==============================] - 1s 971us/step - loss: 4.1169 - val_loss: 6.3103\n",
            "Epoch 25/100\n",
            "1000/1000 [==============================] - 1s 976us/step - loss: 4.1137 - val_loss: 6.0701\n",
            "Epoch 26/100\n",
            "1000/1000 [==============================] - 1s 979us/step - loss: 4.1604 - val_loss: 6.1893\n",
            "Epoch 27/100\n",
            "1000/1000 [==============================] - 1s 967us/step - loss: 4.1583 - val_loss: 6.3169\n",
            "Epoch 28/100\n",
            "1000/1000 [==============================] - 1s 987us/step - loss: 4.0909 - val_loss: 6.5517\n",
            "Epoch 29/100\n",
            "1000/1000 [==============================] - 1s 977us/step - loss: 4.0935 - val_loss: 6.8895\n",
            "Epoch 30/100\n",
            "1000/1000 [==============================] - 1s 971us/step - loss: 4.0703 - val_loss: 5.9360\n",
            "Epoch 31/100\n",
            "1000/1000 [==============================] - 1s 983us/step - loss: 3.9982 - val_loss: 8.0957\n",
            "Epoch 32/100\n",
            "1000/1000 [==============================] - 1s 950us/step - loss: 4.1311 - val_loss: 6.3258\n",
            "Epoch 33/100\n",
            "1000/1000 [==============================] - 1s 939us/step - loss: 4.0278 - val_loss: 5.6844\n",
            "Epoch 34/100\n",
            "1000/1000 [==============================] - 1s 984us/step - loss: 3.9923 - val_loss: 5.7350\n",
            "Epoch 35/100\n",
            "1000/1000 [==============================] - 1s 965us/step - loss: 4.0299 - val_loss: 5.7375\n",
            "Epoch 36/100\n",
            "1000/1000 [==============================] - 1s 945us/step - loss: 3.8195 - val_loss: 5.8694\n",
            "Epoch 37/100\n",
            "1000/1000 [==============================] - 1s 966us/step - loss: 3.8148 - val_loss: 5.2993\n",
            "Epoch 38/100\n",
            "1000/1000 [==============================] - 1s 961us/step - loss: 3.7463 - val_loss: 5.1248\n",
            "Epoch 39/100\n",
            "1000/1000 [==============================] - 1s 966us/step - loss: 4.2215 - val_loss: 5.8527\n",
            "Epoch 40/100\n",
            "1000/1000 [==============================] - 1s 970us/step - loss: 3.8689 - val_loss: 5.5761\n",
            "Epoch 41/100\n",
            "1000/1000 [==============================] - 1s 948us/step - loss: 3.9448 - val_loss: 5.5312\n",
            "Epoch 42/100\n",
            "1000/1000 [==============================] - 1s 959us/step - loss: 3.7454 - val_loss: 4.9675\n",
            "Epoch 43/100\n",
            "1000/1000 [==============================] - 1s 980us/step - loss: 3.7299 - val_loss: 5.0055\n",
            "Epoch 44/100\n",
            "1000/1000 [==============================] - 1s 951us/step - loss: 3.8238 - val_loss: 4.9043\n",
            "Epoch 45/100\n",
            "1000/1000 [==============================] - 1s 972us/step - loss: 3.5972 - val_loss: 4.9419\n",
            "Epoch 46/100\n",
            "1000/1000 [==============================] - 1s 955us/step - loss: 3.7049 - val_loss: 4.5843\n",
            "Epoch 47/100\n",
            "1000/1000 [==============================] - 1s 968us/step - loss: 3.5528 - val_loss: 4.4615\n",
            "Epoch 48/100\n",
            "1000/1000 [==============================] - 1s 945us/step - loss: 3.2696 - val_loss: 5.3705\n",
            "Epoch 49/100\n",
            "1000/1000 [==============================] - 1s 941us/step - loss: 3.3431 - val_loss: 6.4550\n",
            "Epoch 50/100\n",
            "1000/1000 [==============================] - 1s 967us/step - loss: 3.1820 - val_loss: 4.9066\n",
            "Epoch 51/100\n",
            "1000/1000 [==============================] - 1s 938us/step - loss: 3.1927 - val_loss: 5.2568\n",
            "Epoch 52/100\n",
            "1000/1000 [==============================] - 1s 968us/step - loss: 3.1273 - val_loss: 4.1875\n",
            "Epoch 53/100\n",
            "1000/1000 [==============================] - 1s 969us/step - loss: 3.1377 - val_loss: 3.9683\n",
            "Epoch 54/100\n",
            "1000/1000 [==============================] - 1s 970us/step - loss: 3.3605 - val_loss: 4.0206\n",
            "Epoch 55/100\n",
            "1000/1000 [==============================] - 1s 965us/step - loss: 2.7848 - val_loss: 4.5732\n",
            "Epoch 56/100\n",
            "1000/1000 [==============================] - 1s 975us/step - loss: 2.6983 - val_loss: 3.9162\n",
            "Epoch 57/100\n",
            "1000/1000 [==============================] - 1s 971us/step - loss: 2.7884 - val_loss: 3.7077\n",
            "Epoch 58/100\n",
            "1000/1000 [==============================] - 1s 955us/step - loss: 3.0637 - val_loss: 3.7654\n",
            "Epoch 59/100\n",
            "1000/1000 [==============================] - 1s 970us/step - loss: 3.0330 - val_loss: 4.1243\n",
            "Epoch 60/100\n",
            "1000/1000 [==============================] - 1s 950us/step - loss: 2.4775 - val_loss: 4.1554\n",
            "Epoch 61/100\n",
            "1000/1000 [==============================] - 1s 938us/step - loss: 2.3143 - val_loss: 3.5710\n",
            "Epoch 62/100\n",
            "1000/1000 [==============================] - 1s 954us/step - loss: 2.2117 - val_loss: 3.5405\n",
            "Epoch 63/100\n",
            "1000/1000 [==============================] - 1s 960us/step - loss: 2.0425 - val_loss: 3.3447\n",
            "Epoch 64/100\n",
            "1000/1000 [==============================] - 1s 968us/step - loss: 2.3231 - val_loss: 3.9047\n",
            "Epoch 65/100\n",
            "1000/1000 [==============================] - 1s 942us/step - loss: 2.0655 - val_loss: 3.0677\n",
            "Epoch 66/100\n",
            "1000/1000 [==============================] - 1s 968us/step - loss: 2.0518 - val_loss: 2.9532\n",
            "Epoch 67/100\n",
            "1000/1000 [==============================] - 1s 936us/step - loss: 1.9808 - val_loss: 2.8432\n",
            "Epoch 68/100\n",
            "1000/1000 [==============================] - 1s 981us/step - loss: 2.0447 - val_loss: 3.4484\n",
            "Epoch 69/100\n",
            "1000/1000 [==============================] - 1s 942us/step - loss: 1.9340 - val_loss: 4.1240\n",
            "Epoch 70/100\n",
            "1000/1000 [==============================] - 1s 953us/step - loss: 2.0338 - val_loss: 3.7764\n",
            "Epoch 71/100\n",
            "1000/1000 [==============================] - 1s 958us/step - loss: 1.8987 - val_loss: 2.5939\n",
            "Epoch 72/100\n",
            "1000/1000 [==============================] - 1s 960us/step - loss: 1.9511 - val_loss: 3.8874\n",
            "Epoch 73/100\n",
            "1000/1000 [==============================] - 1s 956us/step - loss: 1.8802 - val_loss: 2.5306\n",
            "Epoch 74/100\n",
            "1000/1000 [==============================] - 1s 955us/step - loss: 1.8207 - val_loss: 2.4758\n",
            "Epoch 75/100\n",
            "1000/1000 [==============================] - 1s 944us/step - loss: 1.8419 - val_loss: 2.5920\n",
            "Epoch 76/100\n",
            "1000/1000 [==============================] - 1s 942us/step - loss: 1.8568 - val_loss: 2.3920\n",
            "Epoch 77/100\n",
            "1000/1000 [==============================] - 1s 945us/step - loss: 2.0934 - val_loss: 2.9350\n",
            "Epoch 78/100\n",
            "1000/1000 [==============================] - 1s 948us/step - loss: 2.0768 - val_loss: 2.3175\n",
            "Epoch 79/100\n",
            "1000/1000 [==============================] - 1s 936us/step - loss: 1.8328 - val_loss: 2.3275\n",
            "Epoch 80/100\n",
            "1000/1000 [==============================] - 1s 968us/step - loss: 1.6966 - val_loss: 2.3708\n",
            "Epoch 81/100\n",
            "1000/1000 [==============================] - 1s 976us/step - loss: 1.7477 - val_loss: 2.1125\n",
            "Epoch 82/100\n",
            "1000/1000 [==============================] - 1s 973us/step - loss: 1.9361 - val_loss: 2.1658\n",
            "Epoch 83/100\n",
            "1000/1000 [==============================] - 1s 946us/step - loss: 1.6821 - val_loss: 2.0752\n",
            "Epoch 84/100\n",
            "1000/1000 [==============================] - 1s 951us/step - loss: 1.6258 - val_loss: 2.0259\n",
            "Epoch 85/100\n",
            "1000/1000 [==============================] - 1s 969us/step - loss: 1.5509 - val_loss: 1.9951\n",
            "Epoch 86/100\n",
            "1000/1000 [==============================] - 1s 978us/step - loss: 1.6181 - val_loss: 2.4090\n",
            "Epoch 87/100\n",
            "1000/1000 [==============================] - 1s 979us/step - loss: 1.5623 - val_loss: 2.2191\n",
            "Epoch 88/100\n",
            "1000/1000 [==============================] - 1s 965us/step - loss: 1.6622 - val_loss: 2.4884\n",
            "Epoch 89/100\n",
            "1000/1000 [==============================] - 1s 943us/step - loss: 1.6116 - val_loss: 1.8830\n",
            "Epoch 90/100\n",
            "1000/1000 [==============================] - 1s 979us/step - loss: 1.4864 - val_loss: 2.2353\n",
            "Epoch 91/100\n",
            "1000/1000 [==============================] - 1s 968us/step - loss: 1.6877 - val_loss: 1.8809\n",
            "Epoch 92/100\n",
            "1000/1000 [==============================] - 1s 989us/step - loss: 1.5247 - val_loss: 1.8199\n",
            "Epoch 93/100\n",
            "1000/1000 [==============================] - 1s 982us/step - loss: 1.4254 - val_loss: 1.7448\n",
            "Epoch 94/100\n",
            "1000/1000 [==============================] - 1s 971us/step - loss: 1.4365 - val_loss: 1.7548\n",
            "Epoch 95/100\n",
            "1000/1000 [==============================] - 1s 946us/step - loss: 1.5191 - val_loss: 2.0375\n",
            "Epoch 96/100\n",
            "1000/1000 [==============================] - 1s 954us/step - loss: 1.6420 - val_loss: 1.7941\n",
            "Epoch 97/100\n",
            "1000/1000 [==============================] - 1s 973us/step - loss: 1.3659 - val_loss: 1.6967\n",
            "Epoch 98/100\n",
            "1000/1000 [==============================] - 1s 935us/step - loss: 1.4943 - val_loss: 2.0075\n",
            "Epoch 99/100\n",
            "1000/1000 [==============================] - 1s 968us/step - loss: 1.3851 - val_loss: 1.8113\n",
            "Epoch 100/100\n",
            "1000/1000 [==============================] - 1s 999us/step - loss: 1.4526 - val_loss: 2.1425\n"
          ],
          "name": "stdout"
        }
      ]
    },
    {
      "cell_type": "code",
      "metadata": {
        "id": "9YLB6j8gpH-H",
        "colab_type": "code",
        "colab": {
          "base_uri": "https://localhost:8080/",
          "height": 282
        },
        "outputId": "d5df6127-f07c-4949-cc0d-a3a4bcf6960e"
      },
      "source": [
        "tr_loss = history.history['loss']\n",
        "val_loss = history.history['val_loss']\n",
        "ep = list(range(1,101))\n",
        "plt.plot(ep,tr_loss,color='r')\n",
        "plt.plot(ep,val_loss,color='b')"
      ],
      "execution_count": 77,
      "outputs": [
        {
          "output_type": "execute_result",
          "data": {
            "text/plain": [
              "[<matplotlib.lines.Line2D at 0x7ff75d21c5f8>]"
            ]
          },
          "metadata": {
            "tags": []
          },
          "execution_count": 77
        },
        {
          "output_type": "display_data",
          "data": {
            "image/png": "[encoded data removed]",
            "text/plain": [
              "<Figure size 432x288 with 1 Axes>"
            ]
          },
          "metadata": {
            "tags": [],
            "needs_background": "light"
          }
        }
      ]
    },
    {
      "cell_type": "code",
      "metadata": {
        "id": "wfjrv76rpZ_e",
        "colab_type": "code",
        "colab": {
          "base_uri": "https://localhost:8080/",
          "height": 1000
        },
        "outputId": "6af77ca6-6ffe-498c-c53a-fe72d0d64ce3"
      },
      "source": [
        "model.predict(X_test_sc)"
      ],
      "execution_count": 78,
      "outputs": [
        {
          "output_type": "execute_result",
          "data": {
            "text/plain": [
              "array([[46.008812],\n",
              "       [46.28784 ],\n",
              "       [46.67534 ],\n",
              "       [47.084328],\n",
              "       [47.76937 ],\n",
              "       [47.94185 ],\n",
              "       [48.262405],\n",
              "       [48.215935],\n",
              "       [48.238304],\n",
              "       [48.099606],\n",
              "       [47.853554],\n",
              "       [47.597202],\n",
              "       [47.42083 ],\n",
              "       [47.38485 ],\n",
              "       [47.453346],\n",
              "       [47.72265 ],\n",
              "       [47.551826],\n",
              "       [47.68253 ],\n",
              "       [47.204292],\n",
              "       [46.792274],\n",
              "       [46.2535  ],\n",
              "       [45.48059 ],\n",
              "       [45.105232],\n",
              "       [44.31418 ],\n",
              "       [43.47236 ],\n",
              "       [42.88573 ],\n",
              "       [42.80813 ],\n",
              "       [42.96319 ],\n",
              "       [42.90541 ],\n",
              "       [42.39174 ],\n",
              "       [41.836258],\n",
              "       [41.74991 ],\n",
              "       [42.21865 ],\n",
              "       [42.699364],\n",
              "       [43.15569 ],\n",
              "       [43.321686],\n",
              "       [43.49131 ],\n",
              "       [43.453316],\n",
              "       [43.527214],\n",
              "       [43.026554],\n",
              "       [42.5713  ],\n",
              "       [42.40059 ],\n",
              "       [42.634415],\n",
              "       [43.017914],\n",
              "       [43.806076],\n",
              "       [44.601723],\n",
              "       [44.89405 ],\n",
              "       [45.04233 ],\n",
              "       [45.01773 ],\n",
              "       [45.24829 ],\n",
              "       [45.628166],\n",
              "       [46.045067],\n",
              "       [46.708633],\n",
              "       [47.21176 ],\n",
              "       [47.571186],\n",
              "       [46.897694],\n",
              "       [45.58827 ],\n",
              "       [44.050346],\n",
              "       [43.72404 ],\n",
              "       [44.22552 ],\n",
              "       [44.894848],\n",
              "       [45.26819 ],\n",
              "       [45.632385],\n",
              "       [46.610573],\n",
              "       [47.51626 ],\n",
              "       [47.983585],\n",
              "       [47.760002],\n",
              "       [47.594307],\n",
              "       [47.648254],\n",
              "       [47.296158],\n",
              "       [46.723568],\n",
              "       [46.18052 ],\n",
              "       [46.422733],\n",
              "       [47.07159 ],\n",
              "       [47.619167],\n",
              "       [48.229546],\n",
              "       [48.86611 ],\n",
              "       [49.18563 ],\n",
              "       [49.38463 ],\n",
              "       [49.53724 ],\n",
              "       [49.892166],\n",
              "       [50.265064],\n",
              "       [50.47635 ],\n",
              "       [50.8403  ],\n",
              "       [51.245323],\n",
              "       [51.31567 ],\n",
              "       [51.07556 ],\n",
              "       [50.687687],\n",
              "       [50.38884 ],\n",
              "       [50.23017 ],\n",
              "       [50.073982],\n",
              "       [50.163006],\n",
              "       [49.821983],\n",
              "       [49.72277 ],\n",
              "       [49.623333],\n",
              "       [49.635777],\n",
              "       [49.76911 ],\n",
              "       [49.691048],\n",
              "       [49.82897 ],\n",
              "       [50.060707],\n",
              "       [50.50149 ],\n",
              "       [50.813038],\n",
              "       [51.221146],\n",
              "       [51.6446  ],\n",
              "       [52.19554 ],\n",
              "       [52.474396],\n",
              "       [52.395847],\n",
              "       [52.70336 ],\n",
              "       [52.89025 ],\n",
              "       [53.255974],\n",
              "       [53.37722 ],\n",
              "       [53.220604],\n",
              "       [52.96918 ],\n",
              "       [52.726562],\n",
              "       [52.449677],\n",
              "       [52.14837 ],\n",
              "       [51.774292],\n",
              "       [51.586983],\n",
              "       [51.23055 ],\n",
              "       [51.179626],\n",
              "       [51.09475 ],\n",
              "       [51.267242],\n",
              "       [51.268272],\n",
              "       [51.29535 ],\n",
              "       [51.28434 ],\n",
              "       [51.26172 ],\n",
              "       [51.13024 ],\n",
              "       [50.826187],\n",
              "       [50.30574 ],\n",
              "       [49.8457  ],\n",
              "       [49.65275 ],\n",
              "       [49.572792],\n",
              "       [49.587482],\n",
              "       [48.83339 ],\n",
              "       [47.944733],\n",
              "       [47.06821 ],\n",
              "       [46.617546],\n",
              "       [46.10907 ],\n",
              "       [45.238533],\n",
              "       [45.14203 ],\n",
              "       [45.447796],\n",
              "       [45.91594 ],\n",
              "       [45.806725],\n",
              "       [45.724228],\n",
              "       [45.935608],\n",
              "       [45.78319 ],\n",
              "       [45.642117],\n",
              "       [45.230556],\n",
              "       [44.996788],\n",
              "       [45.51593 ],\n",
              "       [46.353294],\n",
              "       [47.37388 ],\n",
              "       [47.63    ],\n",
              "       [47.56517 ],\n",
              "       [47.10369 ],\n",
              "       [46.42737 ],\n",
              "       [46.18913 ],\n",
              "       [46.467407],\n",
              "       [47.276794],\n",
              "       [48.057137],\n",
              "       [48.490982],\n",
              "       [48.482925],\n",
              "       [48.47568 ],\n",
              "       [48.441124],\n",
              "       [48.63321 ],\n",
              "       [49.542633],\n",
              "       [50.364952],\n",
              "       [51.00204 ],\n",
              "       [51.362274],\n",
              "       [51.33679 ],\n",
              "       [51.937004],\n",
              "       [52.2866  ],\n",
              "       [52.583538],\n",
              "       [52.66558 ],\n",
              "       [52.54725 ],\n",
              "       [52.429848],\n",
              "       [52.346626],\n",
              "       [52.15239 ],\n",
              "       [52.135925],\n",
              "       [51.893845],\n",
              "       [51.984344],\n",
              "       [51.7993  ],\n",
              "       [51.126633],\n",
              "       [50.185978],\n",
              "       [49.126923],\n",
              "       [48.335236],\n",
              "       [48.333298],\n",
              "       [48.421516],\n",
              "       [48.61183 ],\n",
              "       [48.604584],\n",
              "       [48.295635],\n",
              "       [47.977867],\n",
              "       [47.44423 ],\n",
              "       [47.144753],\n",
              "       [46.941566],\n",
              "       [46.918182],\n",
              "       [47.363358],\n",
              "       [47.968758],\n",
              "       [48.433483],\n",
              "       [48.67417 ],\n",
              "       [48.994007],\n",
              "       [49.320957],\n",
              "       [49.57235 ],\n",
              "       [49.58307 ],\n",
              "       [49.742706],\n",
              "       [49.912437],\n",
              "       [50.444008],\n",
              "       [50.40287 ],\n",
              "       [50.592983],\n",
              "       [50.42955 ],\n",
              "       [50.472305],\n",
              "       [50.803783],\n",
              "       [51.12416 ],\n",
              "       [51.483772],\n",
              "       [51.45337 ],\n",
              "       [51.25074 ],\n",
              "       [51.053024],\n",
              "       [51.16073 ],\n",
              "       [51.450134],\n",
              "       [51.71013 ],\n",
              "       [51.937675],\n",
              "       [52.233067],\n",
              "       [52.423965],\n",
              "       [52.63247 ],\n",
              "       [52.59874 ],\n",
              "       [52.567154],\n",
              "       [52.43309 ],\n",
              "       [52.565636],\n",
              "       [52.51699 ],\n",
              "       [52.612766],\n",
              "       [52.614758],\n",
              "       [52.504433],\n",
              "       [52.420452],\n",
              "       [52.713577],\n",
              "       [53.469925],\n",
              "       [54.375645],\n",
              "       [54.811302],\n",
              "       [55.031723],\n",
              "       [55.13218 ],\n",
              "       [55.18258 ],\n",
              "       [55.25493 ],\n",
              "       [55.313034],\n",
              "       [54.76761 ],\n",
              "       [54.088036],\n",
              "       [53.52498 ],\n",
              "       [52.94443 ],\n",
              "       [52.706966],\n",
              "       [53.06404 ],\n",
              "       [53.18779 ],\n",
              "       [52.964943],\n",
              "       [52.18395 ]], dtype=float32)"
            ]
          },
          "metadata": {
            "tags": []
          },
          "execution_count": 78
        }
      ]
    },
    {
      "cell_type": "code",
      "metadata": {
        "id": "xPhocbEhpcwU",
        "colab_type": "code",
        "colab": {
          "base_uri": "https://localhost:8080/",
          "height": 282
        },
        "outputId": "2c4bfe82-ee8e-40ab-de9e-9f29d9512286"
      },
      "source": [
        "plt.plot(range(len(X_test_sc)),model.predict(X_test_sc).flat)\n",
        "plt.plot(range(len(X_test_sc)),y_test)"
      ],
      "execution_count": 79,
      "outputs": [
        {
          "output_type": "execute_result",
          "data": {
            "text/plain": [
              "[<matplotlib.lines.Line2D at 0x7ff75c435c18>]"
            ]
          },
          "metadata": {
            "tags": []
          },
          "execution_count": 79
        },
        {
          "output_type": "display_data",
          "data": {
            "image/png": "[encoded data removed]",
            "text/plain": [
              "<Figure size 432x288 with 1 Axes>"
            ]
          },
          "metadata": {
            "tags": [],
            "needs_background": "light"
          }
        }
      ]
    },
    {
      "cell_type": "code",
      "metadata": {
        "id": "OL20S3qwphmy",
        "colab_type": "code",
        "colab": {
          "base_uri": "https://localhost:8080/",
          "height": 136
        },
        "outputId": "e120685c-c9ee-4ee4-f94b-3640c2ef775f"
      },
      "source": [
        "X_test_sc[0].reshape(1,7,1)\n"
      ],
      "execution_count": 80,
      "outputs": [
        {
          "output_type": "execute_result",
          "data": {
            "text/plain": [
              "array([[[0.83910218],\n",
              "        [0.77719701],\n",
              "        [0.75711333],\n",
              "        [0.75193205],\n",
              "        [0.7682191 ],\n",
              "        [0.86976278],\n",
              "        [0.85612661]]])"
            ]
          },
          "metadata": {
            "tags": []
          },
          "execution_count": 80
        }
      ]
    },
    {
      "cell_type": "code",
      "metadata": {
        "id": "KaaA8FHtpm4c",
        "colab_type": "code",
        "colab": {
          "base_uri": "https://localhost:8080/",
          "height": 34
        },
        "outputId": "62225679-1f12-4e4d-8816-d332b4c56eda"
      },
      "source": [
        "model.predict(X_test_sc[0].reshape(1,7,1))"
      ],
      "execution_count": 81,
      "outputs": [
        {
          "output_type": "execute_result",
          "data": {
            "text/plain": [
              "array([[46.008804]], dtype=float32)"
            ]
          },
          "metadata": {
            "tags": []
          },
          "execution_count": 81
        }
      ]
    },
    {
      "cell_type": "code",
      "metadata": {
        "id": "usS6pZQBpowf",
        "colab_type": "code",
        "colab": {
          "base_uri": "https://localhost:8080/",
          "height": 34
        },
        "outputId": "34cd13be-a564-462b-f270-02ead92f23f0"
      },
      "source": [
        "y_test[1000]"
      ],
      "execution_count": 82,
      "outputs": [
        {
          "output_type": "execute_result",
          "data": {
            "text/plain": [
              "45.06"
            ]
          },
          "metadata": {
            "tags": []
          },
          "execution_count": 82
        }
      ]
    },
    {
      "cell_type": "code",
      "metadata": {
        "id": "JsmB0YM6pqvA",
        "colab_type": "code",
        "colab": {
          "base_uri": "https://localhost:8080/",
          "height": 255
        },
        "outputId": "f0912b82-a106-4789-ca1e-6c23abe8fb2b"
      },
      "source": [
        "from keras.models import Sequential\n",
        "from keras.layers import Dense,Dropout,LSTM\n",
        "model2 = Sequential()\n",
        "# 256 cels\n",
        "model2.add(LSTM(256,input_shape=(7,1)))\n",
        "model2.add(Dropout(0.3))\n",
        "# single neuron\n",
        "model2.add(Dense(1))\n",
        "model2.summary()"
      ],
      "execution_count": 83,
      "outputs": [
        {
          "output_type": "stream",
          "text": [
            "Model: \"sequential_3\"\n",
            "_________________________________________________________________\n",
            "Layer (type)                 Output Shape              Param #   \n",
            "=================================================================\n",
            "lstm_3 (LSTM)                (None, 256)               264192    \n",
            "_________________________________________________________________\n",
            "dropout_1 (Dropout)          (None, 256)               0         \n",
            "_________________________________________________________________\n",
            "dense_3 (Dense)              (None, 1)                 257       \n",
            "=================================================================\n",
            "Total params: 264,449\n",
            "Trainable params: 264,449\n",
            "Non-trainable params: 0\n",
            "_________________________________________________________________\n"
          ],
          "name": "stdout"
        }
      ]
    },
    {
      "cell_type": "code",
      "metadata": {
        "id": "H9sVmtrFpzbC",
        "colab_type": "code",
        "colab": {}
      },
      "source": [
        "model2.compile(optimizer='adam',loss='mse')"
      ],
      "execution_count": 84,
      "outputs": []
    },
    {
      "cell_type": "code",
      "metadata": {
        "id": "z0xE7SRip2mp",
        "colab_type": "code",
        "colab": {
          "base_uri": "https://localhost:8080/",
          "height": 1000
        },
        "outputId": "f21674a1-2ce4-4f60-a223-e71f716303ca"
      },
      "source": [
        "history2 = model2.fit(X_train_sc,y_train,epochs=100,validation_data=(X_test_sc,y_test))"
      ],
      "execution_count": 85,
      "outputs": [
        {
          "output_type": "stream",
          "text": [
            "Train on 1000 samples, validate on 251 samples\n",
            "Epoch 1/100\n",
            "1000/1000 [==============================] - 1s 1ms/step - loss: 995.4662 - val_loss: 592.3431\n",
            "Epoch 2/100\n",
            "1000/1000 [==============================] - 1s 947us/step - loss: 226.0661 - val_loss: 258.8930\n",
            "Epoch 3/100\n",
            "1000/1000 [==============================] - 1s 963us/step - loss: 71.7565 - val_loss: 130.7890\n",
            "Epoch 4/100\n",
            "1000/1000 [==============================] - 1s 955us/step - loss: 34.0267 - val_loss: 85.3649\n",
            "Epoch 5/100\n",
            "1000/1000 [==============================] - 1s 942us/step - loss: 28.3364 - val_loss: 69.8506\n",
            "Epoch 6/100\n",
            "1000/1000 [==============================] - 1s 954us/step - loss: 21.5119 - val_loss: 59.7145\n",
            "Epoch 7/100\n",
            "1000/1000 [==============================] - 1s 970us/step - loss: 17.0378 - val_loss: 43.5787\n",
            "Epoch 8/100\n",
            "1000/1000 [==============================] - 1s 953us/step - loss: 13.7370 - val_loss: 32.2259\n",
            "Epoch 9/100\n",
            "1000/1000 [==============================] - 1s 969us/step - loss: 10.6285 - val_loss: 24.3743\n",
            "Epoch 10/100\n",
            "1000/1000 [==============================] - 1s 972us/step - loss: 10.3248 - val_loss: 18.6245\n",
            "Epoch 11/100\n",
            "1000/1000 [==============================] - 1s 967us/step - loss: 9.4035 - val_loss: 16.9312\n",
            "Epoch 12/100\n",
            "1000/1000 [==============================] - 1s 987us/step - loss: 9.5990 - val_loss: 14.3615\n",
            "Epoch 13/100\n",
            "1000/1000 [==============================] - 1s 971us/step - loss: 8.7986 - val_loss: 16.1237\n",
            "Epoch 14/100\n",
            "1000/1000 [==============================] - 1s 1ms/step - loss: 8.7045 - val_loss: 11.3655\n",
            "Epoch 15/100\n",
            "1000/1000 [==============================] - 1s 965us/step - loss: 7.9564 - val_loss: 9.7934\n",
            "Epoch 16/100\n",
            "1000/1000 [==============================] - 1s 960us/step - loss: 8.2470 - val_loss: 10.6891\n",
            "Epoch 17/100\n",
            "1000/1000 [==============================] - 1s 980us/step - loss: 8.6305 - val_loss: 9.4578\n",
            "Epoch 18/100\n",
            "1000/1000 [==============================] - 1s 944us/step - loss: 7.5335 - val_loss: 10.3077\n",
            "Epoch 19/100\n",
            "1000/1000 [==============================] - 1s 949us/step - loss: 7.5007 - val_loss: 7.6232\n",
            "Epoch 20/100\n",
            "1000/1000 [==============================] - 1s 951us/step - loss: 7.3433 - val_loss: 7.3157\n",
            "Epoch 21/100\n",
            "1000/1000 [==============================] - 1s 960us/step - loss: 7.5022 - val_loss: 10.4635\n",
            "Epoch 22/100\n",
            "1000/1000 [==============================] - 1s 956us/step - loss: 8.3239 - val_loss: 9.3601\n",
            "Epoch 23/100\n",
            "1000/1000 [==============================] - 1s 978us/step - loss: 8.0518 - val_loss: 6.8912\n",
            "Epoch 24/100\n",
            "1000/1000 [==============================] - 1s 960us/step - loss: 7.4643 - val_loss: 9.2675\n",
            "Epoch 25/100\n",
            "1000/1000 [==============================] - 1s 948us/step - loss: 7.5367 - val_loss: 6.4765\n",
            "Epoch 26/100\n",
            "1000/1000 [==============================] - 1s 955us/step - loss: 7.4022 - val_loss: 6.9335\n",
            "Epoch 27/100\n",
            "1000/1000 [==============================] - 1s 948us/step - loss: 7.3673 - val_loss: 6.4013\n",
            "Epoch 28/100\n",
            "1000/1000 [==============================] - 1s 965us/step - loss: 6.8808 - val_loss: 8.6533\n",
            "Epoch 29/100\n",
            "1000/1000 [==============================] - 1s 973us/step - loss: 7.0739 - val_loss: 6.2904\n",
            "Epoch 30/100\n",
            "1000/1000 [==============================] - 1s 982us/step - loss: 7.7599 - val_loss: 7.2698\n",
            "Epoch 31/100\n",
            "1000/1000 [==============================] - 1s 985us/step - loss: 7.6638 - val_loss: 5.7941\n",
            "Epoch 32/100\n",
            "1000/1000 [==============================] - 1s 955us/step - loss: 7.2728 - val_loss: 5.8544\n",
            "Epoch 33/100\n",
            "1000/1000 [==============================] - 1s 986us/step - loss: 7.4524 - val_loss: 5.7517\n",
            "Epoch 34/100\n",
            "1000/1000 [==============================] - 1s 954us/step - loss: 7.6804 - val_loss: 5.7715\n",
            "Epoch 35/100\n",
            "1000/1000 [==============================] - 1s 948us/step - loss: 6.8503 - val_loss: 5.7425\n",
            "Epoch 36/100\n",
            "1000/1000 [==============================] - 1s 954us/step - loss: 7.2116 - val_loss: 5.9815\n",
            "Epoch 37/100\n",
            "1000/1000 [==============================] - 1s 965us/step - loss: 6.9826 - val_loss: 6.5096\n",
            "Epoch 38/100\n",
            "1000/1000 [==============================] - 1s 953us/step - loss: 7.1030 - val_loss: 5.9911\n",
            "Epoch 39/100\n",
            "1000/1000 [==============================] - 1s 970us/step - loss: 7.2220 - val_loss: 5.6869\n",
            "Epoch 40/100\n",
            "1000/1000 [==============================] - 1s 948us/step - loss: 7.1749 - val_loss: 8.1255\n",
            "Epoch 41/100\n",
            "1000/1000 [==============================] - 1s 978us/step - loss: 6.6777 - val_loss: 5.8224\n",
            "Epoch 42/100\n",
            "1000/1000 [==============================] - 1s 978us/step - loss: 7.0399 - val_loss: 5.5540\n",
            "Epoch 43/100\n",
            "1000/1000 [==============================] - 1s 960us/step - loss: 6.5398 - val_loss: 5.5341\n",
            "Epoch 44/100\n",
            "1000/1000 [==============================] - 1s 947us/step - loss: 6.4720 - val_loss: 5.8470\n",
            "Epoch 45/100\n",
            "1000/1000 [==============================] - 1s 954us/step - loss: 6.5373 - val_loss: 5.2487\n",
            "Epoch 46/100\n",
            "1000/1000 [==============================] - 1s 954us/step - loss: 6.3466 - val_loss: 6.5233\n",
            "Epoch 47/100\n",
            "1000/1000 [==============================] - 1s 949us/step - loss: 6.6157 - val_loss: 5.0516\n",
            "Epoch 48/100\n",
            "1000/1000 [==============================] - 1s 965us/step - loss: 6.7637 - val_loss: 5.6486\n",
            "Epoch 49/100\n",
            "1000/1000 [==============================] - 1s 952us/step - loss: 6.6286 - val_loss: 7.6789\n",
            "Epoch 50/100\n",
            "1000/1000 [==============================] - 1s 942us/step - loss: 6.6545 - val_loss: 5.9832\n",
            "Epoch 51/100\n",
            "1000/1000 [==============================] - 1s 940us/step - loss: 6.5217 - val_loss: 5.5035\n",
            "Epoch 52/100\n",
            "1000/1000 [==============================] - 1s 978us/step - loss: 6.1113 - val_loss: 5.1303\n",
            "Epoch 53/100\n",
            "1000/1000 [==============================] - 1s 950us/step - loss: 6.2112 - val_loss: 4.7772\n",
            "Epoch 54/100\n",
            "1000/1000 [==============================] - 1s 958us/step - loss: 6.0432 - val_loss: 4.6772\n",
            "Epoch 55/100\n",
            "1000/1000 [==============================] - 1s 991us/step - loss: 5.8642 - val_loss: 5.2302\n",
            "Epoch 56/100\n",
            "1000/1000 [==============================] - 1s 972us/step - loss: 6.1753 - val_loss: 5.8601\n",
            "Epoch 57/100\n",
            "1000/1000 [==============================] - 1s 947us/step - loss: 5.7678 - val_loss: 5.7664\n",
            "Epoch 58/100\n",
            "1000/1000 [==============================] - 1s 962us/step - loss: 5.9537 - val_loss: 4.2739\n",
            "Epoch 59/100\n",
            "1000/1000 [==============================] - 1s 965us/step - loss: 5.8329 - val_loss: 4.9943\n",
            "Epoch 60/100\n",
            "1000/1000 [==============================] - 1s 961us/step - loss: 5.5579 - val_loss: 5.1196\n",
            "Epoch 61/100\n",
            "1000/1000 [==============================] - 1s 978us/step - loss: 5.3563 - val_loss: 5.8378\n",
            "Epoch 62/100\n",
            "1000/1000 [==============================] - 1s 998us/step - loss: 5.0034 - val_loss: 4.5200\n",
            "Epoch 63/100\n",
            "1000/1000 [==============================] - 1s 983us/step - loss: 5.5921 - val_loss: 3.7498\n",
            "Epoch 64/100\n",
            "1000/1000 [==============================] - 1s 979us/step - loss: 5.3274 - val_loss: 4.8568\n",
            "Epoch 65/100\n",
            "1000/1000 [==============================] - 1s 977us/step - loss: 5.4780 - val_loss: 3.9983\n",
            "Epoch 66/100\n",
            "1000/1000 [==============================] - 1s 984us/step - loss: 5.5305 - val_loss: 5.1419\n",
            "Epoch 67/100\n",
            "1000/1000 [==============================] - 1s 952us/step - loss: 5.2905 - val_loss: 4.3588\n",
            "Epoch 68/100\n",
            "1000/1000 [==============================] - 1s 976us/step - loss: 5.3903 - val_loss: 3.9286\n",
            "Epoch 69/100\n",
            "1000/1000 [==============================] - 1s 959us/step - loss: 4.6001 - val_loss: 3.3474\n",
            "Epoch 70/100\n",
            "1000/1000 [==============================] - 1s 1ms/step - loss: 4.9593 - val_loss: 3.1126\n",
            "Epoch 71/100\n",
            "1000/1000 [==============================] - 1s 964us/step - loss: 4.9844 - val_loss: 3.6603\n",
            "Epoch 72/100\n",
            "1000/1000 [==============================] - 1s 988us/step - loss: 4.7280 - val_loss: 3.2943\n",
            "Epoch 73/100\n",
            "1000/1000 [==============================] - 1s 979us/step - loss: 4.6437 - val_loss: 3.4023\n",
            "Epoch 74/100\n",
            "1000/1000 [==============================] - 1s 986us/step - loss: 5.8372 - val_loss: 2.9453\n",
            "Epoch 75/100\n",
            "1000/1000 [==============================] - 1s 964us/step - loss: 4.9940 - val_loss: 3.1638\n",
            "Epoch 76/100\n",
            "1000/1000 [==============================] - 1s 981us/step - loss: 4.9661 - val_loss: 3.0334\n",
            "Epoch 77/100\n",
            "1000/1000 [==============================] - 1s 954us/step - loss: 4.7243 - val_loss: 3.0436\n",
            "Epoch 78/100\n",
            "1000/1000 [==============================] - 1s 953us/step - loss: 4.1613 - val_loss: 2.8265\n",
            "Epoch 79/100\n",
            "1000/1000 [==============================] - 1s 981us/step - loss: 4.8860 - val_loss: 2.7968\n",
            "Epoch 80/100\n",
            "1000/1000 [==============================] - 1s 963us/step - loss: 4.5546 - val_loss: 4.4806\n",
            "Epoch 81/100\n",
            "1000/1000 [==============================] - 1s 951us/step - loss: 4.7930 - val_loss: 2.7135\n",
            "Epoch 82/100\n",
            "1000/1000 [==============================] - 1s 1000us/step - loss: 4.6367 - val_loss: 3.1465\n",
            "Epoch 83/100\n",
            "1000/1000 [==============================] - 1s 1ms/step - loss: 4.6179 - val_loss: 2.4467\n",
            "Epoch 84/100\n",
            "1000/1000 [==============================] - 1s 1ms/step - loss: 4.5209 - val_loss: 3.1315\n",
            "Epoch 85/100\n",
            "1000/1000 [==============================] - 1s 1ms/step - loss: 4.6045 - val_loss: 2.4140\n",
            "Epoch 86/100\n",
            "1000/1000 [==============================] - 1s 1ms/step - loss: 4.5473 - val_loss: 2.4608\n",
            "Epoch 87/100\n",
            "1000/1000 [==============================] - 1s 1ms/step - loss: 4.0996 - val_loss: 2.3366\n",
            "Epoch 88/100\n",
            "1000/1000 [==============================] - 1s 970us/step - loss: 4.2792 - val_loss: 2.2357\n",
            "Epoch 89/100\n",
            "1000/1000 [==============================] - 1s 958us/step - loss: 3.9698 - val_loss: 2.1814\n",
            "Epoch 90/100\n",
            "1000/1000 [==============================] - 1s 1ms/step - loss: 4.1145 - val_loss: 2.1722\n",
            "Epoch 91/100\n",
            "1000/1000 [==============================] - 1s 968us/step - loss: 4.1793 - val_loss: 2.6982\n",
            "Epoch 92/100\n",
            "1000/1000 [==============================] - 1s 976us/step - loss: 4.8628 - val_loss: 2.2139\n",
            "Epoch 93/100\n",
            "1000/1000 [==============================] - 1s 959us/step - loss: 4.3963 - val_loss: 2.9878\n",
            "Epoch 94/100\n",
            "1000/1000 [==============================] - 1s 991us/step - loss: 4.7680 - val_loss: 2.7558\n",
            "Epoch 95/100\n",
            "1000/1000 [==============================] - 1s 968us/step - loss: 3.9027 - val_loss: 2.2315\n",
            "Epoch 96/100\n",
            "1000/1000 [==============================] - 1s 967us/step - loss: 4.2215 - val_loss: 3.2313\n",
            "Epoch 97/100\n",
            "1000/1000 [==============================] - 1s 965us/step - loss: 4.3475 - val_loss: 2.1915\n",
            "Epoch 98/100\n",
            "1000/1000 [==============================] - 1s 960us/step - loss: 3.8995 - val_loss: 3.5375\n",
            "Epoch 99/100\n",
            "1000/1000 [==============================] - 1s 955us/step - loss: 4.5726 - val_loss: 2.2661\n",
            "Epoch 100/100\n",
            "1000/1000 [==============================] - 1s 998us/step - loss: 4.6844 - val_loss: 4.3654\n"
          ],
          "name": "stdout"
        }
      ]
    },
    {
      "cell_type": "code",
      "metadata": {
        "id": "hja05Opyp6dd",
        "colab_type": "code",
        "colab": {
          "base_uri": "https://localhost:8080/",
          "height": 282
        },
        "outputId": "2dc3ce4f-e4cc-41b3-e31f-8abf7fe3cbe8"
      },
      "source": [
        "tr_loss = history2.history['loss']\n",
        "val_loss = history2.history['val_loss']\n",
        "ep = list(range(1,101))\n",
        "plt.plot(ep,tr_loss,color='r')\n",
        "plt.plot(ep,val_loss,color='b')"
      ],
      "execution_count": 86,
      "outputs": [
        {
          "output_type": "execute_result",
          "data": {
            "text/plain": [
              "[<matplotlib.lines.Line2D at 0x7ff75c1d6358>]"
            ]
          },
          "metadata": {
            "tags": []
          },
          "execution_count": 86
        },
        {
          "output_type": "display_data",
          "data": {
            "image/png": "[encoded data removed]",
            "text/plain": [
              "<Figure size 432x288 with 1 Axes>"
            ]
          },
          "metadata": {
            "tags": [],
            "needs_background": "light"
          }
        }
      ]
    },
    {
      "cell_type": "markdown",
      "metadata": {
        "id": "wSkE_BYcqEzr",
        "colab_type": "text"
      },
      "source": [
        "### Get the data\n",
        "### what is the target\n",
        "### Take the target and observe downtrend or uptrend\n",
        "### Craete input(features) and ouputs(target)\n",
        "### Train_test_split\n",
        "### Apply scaling if it required\n",
        "### Reshape the inputs\n",
        "### Create a Model\n",
        "### Compile the model with the proper optimizer and loss\n",
        "### Metrics =['mse','mae']\n",
        "### Evaluate the model with test data\n",
        "### compare the results\n",
        "### Check for overfitting and underfitting\n",
        "### If It is an overfitted model apply dropout. or check another model\n",
        "### Check raw data"
      ]
    }
  ]
}