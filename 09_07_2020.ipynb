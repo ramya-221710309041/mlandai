{
  "nbformat": 4,
  "nbformat_minor": 0,
  "metadata": {
    "colab": {
      "name": "09-07-2020.ipynb",
      "provenance": []
    },
    "kernelspec": {
      "name": "python3",
      "display_name": "Python 3"
    }
  },
  "cells": [
    {
      "cell_type": "markdown",
      "metadata": {
        "id": "KCR4ts7Wu9YB",
        "colab_type": "text"
      },
      "source": [
        "Handwritten digit recognition"
      ]
    },
    {
      "cell_type": "markdown",
      "metadata": {
        "id": "xIdpygwdu61B",
        "colab_type": "text"
      },
      "source": [
        "data collection"
      ]
    },
    {
      "cell_type": "code",
      "metadata": {
        "id": "6Oq30EUSvFFP",
        "colab_type": "code",
        "colab": {}
      },
      "source": [
        "import tensorflow as tf\n",
        "import tensorflow.keras as keras\n",
        "import numpy as np\n",
        "import matplotlib.pyplot as plt\n",
        "%matplotlib inline"
      ],
      "execution_count": null,
      "outputs": []
    },
    {
      "cell_type": "markdown",
      "metadata": {
        "id": "feZhLz6Kvipk",
        "colab_type": "text"
      },
      "source": [
        "Load the MINIST dataset"
      ]
    },
    {
      "cell_type": "code",
      "metadata": {
        "id": "oszCPX1GvxiA",
        "colab_type": "code",
        "colab": {}
      },
      "source": [
        "from keras.datasets.mnist import load_data"
      ],
      "execution_count": null,
      "outputs": []
    },
    {
      "cell_type": "code",
      "metadata": {
        "id": "6KFAYqMHv1Hl",
        "colab_type": "code",
        "colab": {
          "base_uri": "https://localhost:8080/",
          "height": 68
        },
        "outputId": "26fdd7e3-eb40-4472-d1e8-9b9aa62e1759"
      },
      "source": [
        "## load_data\n",
        "(train_digits,train_labels),(test_digits,test_labels) = load_data()\n",
        "print(train_digits.shape)"
      ],
      "execution_count": null,
      "outputs": [
        {
          "output_type": "stream",
          "text": [
            "Downloading data from https://s3.amazonaws.com/img-datasets/mnist.npz\n",
            "11493376/11490434 [==============================] - 0s 0us/step\n",
            "(60000, 28, 28)\n"
          ],
          "name": "stdout"
        }
      ]
    },
    {
      "cell_type": "markdown",
      "metadata": {
        "id": "irACU_MuwdCt",
        "colab_type": "text"
      },
      "source": [
        "There are 60000 images in the training data. Each image size is 28*28"
      ]
    },
    {
      "cell_type": "code",
      "metadata": {
        "id": "5UTgpd6pwky4",
        "colab_type": "code",
        "colab": {
          "base_uri": "https://localhost:8080/",
          "height": 34
        },
        "outputId": "56656a76-0f66-4599-d346-198f9b4f50d0"
      },
      "source": [
        "print(test_digits.shape)"
      ],
      "execution_count": null,
      "outputs": [
        {
          "output_type": "stream",
          "text": [
            "(10000, 28, 28)\n"
          ],
          "name": "stdout"
        }
      ]
    },
    {
      "cell_type": "markdown",
      "metadata": {
        "id": "UEy1kbtdxG3G",
        "colab_type": "text"
      },
      "source": [
        "There are 10 classes from class 0 to 9"
      ]
    },
    {
      "cell_type": "code",
      "metadata": {
        "id": "0rrtXuFIxLe7",
        "colab_type": "code",
        "colab": {
          "base_uri": "https://localhost:8080/",
          "height": 34
        },
        "outputId": "93eff0ac-86d0-4749-f44c-f4fd58b0c07c"
      },
      "source": [
        "print(train_labels.shape)"
      ],
      "execution_count": null,
      "outputs": [
        {
          "output_type": "stream",
          "text": [
            "(60000,)\n"
          ],
          "name": "stdout"
        }
      ]
    },
    {
      "cell_type": "markdown",
      "metadata": {
        "id": "KgWLsns2x6zE",
        "colab_type": "text"
      },
      "source": [
        "Class wise images count"
      ]
    },
    {
      "cell_type": "code",
      "metadata": {
        "id": "stfzTTzFyAfH",
        "colab_type": "code",
        "colab": {
          "base_uri": "https://localhost:8080/",
          "height": 34
        },
        "outputId": "6ba1d26c-de57-4471-94e8-27a5113b1030"
      },
      "source": [
        "type(train_labels)"
      ],
      "execution_count": null,
      "outputs": [
        {
          "output_type": "execute_result",
          "data": {
            "text/plain": [
              "numpy.ndarray"
            ]
          },
          "metadata": {
            "tags": []
          },
          "execution_count": 8
        }
      ]
    },
    {
      "cell_type": "code",
      "metadata": {
        "id": "_bBPOlB7yn60",
        "colab_type": "code",
        "colab": {
          "base_uri": "https://localhost:8080/",
          "height": 204
        },
        "outputId": "0a066196-ae3c-4898-fe5c-9b22c99ec304"
      },
      "source": [
        "import pandas as pd\n",
        "pd.Series(train_labels).value_counts()"
      ],
      "execution_count": null,
      "outputs": [
        {
          "output_type": "execute_result",
          "data": {
            "text/plain": [
              "1    6742\n",
              "7    6265\n",
              "3    6131\n",
              "2    5958\n",
              "9    5949\n",
              "0    5923\n",
              "6    5918\n",
              "8    5851\n",
              "4    5842\n",
              "5    5421\n",
              "dtype: int64"
            ]
          },
          "metadata": {
            "tags": []
          },
          "execution_count": 9
        }
      ]
    },
    {
      "cell_type": "markdown",
      "metadata": {
        "id": "a_GR1t7yzTK1",
        "colab_type": "text"
      },
      "source": [
        "Image count for each label in test data"
      ]
    },
    {
      "cell_type": "code",
      "metadata": {
        "id": "u8dlRv5hzYRj",
        "colab_type": "code",
        "colab": {
          "base_uri": "https://localhost:8080/",
          "height": 204
        },
        "outputId": "58c48264-9911-4ee6-cad5-cc5ed4106262"
      },
      "source": [
        "pd.Series(test_labels).value_counts()"
      ],
      "execution_count": null,
      "outputs": [
        {
          "output_type": "execute_result",
          "data": {
            "text/plain": [
              "1    1135\n",
              "2    1032\n",
              "7    1028\n",
              "3    1010\n",
              "9    1009\n",
              "4     982\n",
              "0     980\n",
              "8     974\n",
              "6     958\n",
              "5     892\n",
              "dtype: int64"
            ]
          },
          "metadata": {
            "tags": []
          },
          "execution_count": 10
        }
      ]
    },
    {
      "cell_type": "markdown",
      "metadata": {
        "id": "fILpO8oUz2Wq",
        "colab_type": "text"
      },
      "source": [
        "EDA"
      ]
    },
    {
      "cell_type": "code",
      "metadata": {
        "id": "_BLo0rjwz3s9",
        "colab_type": "code",
        "colab": {
          "base_uri": "https://localhost:8080/",
          "height": 282
        },
        "outputId": "2c710c1a-dd8e-43d9-cc71-c54d2afff916"
      },
      "source": [
        "plt.imshow(train_digits[0])"
      ],
      "execution_count": null,
      "outputs": [
        {
          "output_type": "execute_result",
          "data": {
            "text/plain": [
              "<matplotlib.image.AxesImage at 0x7f8cf170c5f8>"
            ]
          },
          "metadata": {
            "tags": []
          },
          "execution_count": 11
        },
        {
          "output_type": "display_data",
          "data": {
            "image/png": "[encoded data removed]",
            "text/plain": [
              "<Figure size 432x288 with 1 Axes>"
            ]
          },
          "metadata": {
            "tags": [],
            "needs_background": "light"
          }
        }
      ]
    },
    {
      "cell_type": "code",
      "metadata": {
        "id": "6iJrp6lLz-F6",
        "colab_type": "code",
        "colab": {
          "base_uri": "https://localhost:8080/",
          "height": 298
        },
        "outputId": "023a9f5e-9acb-4a54-f436-9e3ed34f168c"
      },
      "source": [
        "plt.imshow(train_digits[0],cmap='gray')\n",
        "plt.title(\"Digit \"+ str(train_labels[0]))"
      ],
      "execution_count": null,
      "outputs": [
        {
          "output_type": "execute_result",
          "data": {
            "text/plain": [
              "Text(0.5, 1.0, 'Digit 5')"
            ]
          },
          "metadata": {
            "tags": []
          },
          "execution_count": 15
        },
        {
          "output_type": "display_data",
          "data": {
            "image/png": "[encoded data removed]",
            "text/plain": [
              "<Figure size 432x288 with 1 Axes>"
            ]
          },
          "metadata": {
            "tags": [],
            "needs_background": "light"
          }
        }
      ]
    },
    {
      "cell_type": "code",
      "metadata": {
        "id": "up7CF78U3Mgb",
        "colab_type": "code",
        "colab": {
          "base_uri": "https://localhost:8080/",
          "height": 102
        },
        "outputId": "0fabb168-1867-4838-d100-3564016a20d3"
      },
      "source": [
        "train_digits[0][5:10,22:25]"
      ],
      "execution_count": null,
      "outputs": [
        {
          "output_type": "execute_result",
          "data": {
            "text/plain": [
              "array([[247, 127,   0],\n",
              "       [195,  64,   0],\n",
              "       [ 39,   0,   0],\n",
              "       [  0,   0,   0],\n",
              "       [  0,   0,   0]], dtype=uint8)"
            ]
          },
          "metadata": {
            "tags": []
          },
          "execution_count": 30
        }
      ]
    },
    {
      "cell_type": "code",
      "metadata": {
        "id": "MeXsbwID3TS5",
        "colab_type": "code",
        "colab": {
          "base_uri": "https://localhost:8080/",
          "height": 34
        },
        "outputId": "4b0fc8df-2270-4d32-b22c-0b903cf1638e"
      },
      "source": [
        "28*28"
      ],
      "execution_count": null,
      "outputs": [
        {
          "output_type": "execute_result",
          "data": {
            "text/plain": [
              "784"
            ]
          },
          "metadata": {
            "tags": []
          },
          "execution_count": 27
        }
      ]
    },
    {
      "cell_type": "code",
      "metadata": {
        "id": "IAVixHxw3TnZ",
        "colab_type": "code",
        "colab": {
          "base_uri": "https://localhost:8080/",
          "height": 792
        },
        "outputId": "f756d62b-0970-4d8d-ca70-62cb2a4343f0"
      },
      "source": [
        "plt.hist(train_digits[0])"
      ],
      "execution_count": null,
      "outputs": [
        {
          "output_type": "execute_result",
          "data": {
            "text/plain": [
              "(array([[28.,  0.,  0.,  0.,  0.,  0.,  0.,  0.,  0.,  0.],\n",
              "        [28.,  0.,  0.,  0.,  0.,  0.,  0.,  0.,  0.,  0.],\n",
              "        [28.,  0.,  0.,  0.,  0.,  0.,  0.,  0.,  0.,  0.],\n",
              "        [28.,  0.,  0.,  0.,  0.,  0.,  0.,  0.,  0.,  0.],\n",
              "        [26.,  0.,  1.,  0.,  0.,  1.,  0.,  0.,  0.,  0.],\n",
              "        [26.,  0.,  0.,  0.,  0.,  0.,  1.,  0.,  0.,  1.],\n",
              "        [26.,  0.,  0.,  0.,  0.,  0.,  0.,  0.,  1.,  1.],\n",
              "        [24.,  1.,  0.,  0.,  0.,  0.,  1.,  0.,  0.,  2.],\n",
              "        [21.,  1.,  0.,  1.,  0.,  0.,  0.,  0.,  3.,  2.],\n",
              "        [20.,  1.,  1.,  0.,  0.,  1.,  1.,  0.,  0.,  4.],\n",
              "        [20.,  0.,  0.,  1.,  1.,  1.,  0.,  0.,  1.,  4.],\n",
              "        [18.,  0.,  0.,  0.,  1.,  1.,  2.,  0.,  0.,  6.],\n",
              "        [15.,  2.,  0.,  0.,  0.,  1.,  1.,  1.,  1.,  7.],\n",
              "        [15.,  0.,  0.,  2.,  0.,  1.,  0.,  2.,  1.,  7.],\n",
              "        [16.,  2.,  1.,  1.,  0.,  0.,  0.,  1.,  2.,  5.],\n",
              "        [18.,  0.,  0.,  0.,  0.,  1.,  1.,  3.,  0.,  5.],\n",
              "        [15.,  1.,  0.,  2.,  2.,  0.,  0.,  1.,  0.,  7.],\n",
              "        [16.,  0.,  0.,  0.,  1.,  1.,  1.,  1.,  0.,  8.],\n",
              "        [19.,  0.,  0.,  2.,  0.,  1.,  1.,  0.,  1.,  4.],\n",
              "        [20.,  2.,  0.,  1.,  0.,  0.,  1.,  2.,  1.,  1.],\n",
              "        [24.,  0.,  1.,  1.,  0.,  0.,  1.,  0.,  0.,  1.],\n",
              "        [25.,  0.,  1.,  0.,  0.,  0.,  0.,  0.,  0.,  2.],\n",
              "        [25.,  1.,  0.,  0.,  0.,  0.,  0.,  1.,  0.,  1.],\n",
              "        [26.,  0.,  1.,  0.,  1.,  0.,  0.,  0.,  0.,  0.],\n",
              "        [28.,  0.,  0.,  0.,  0.,  0.,  0.,  0.,  0.,  0.],\n",
              "        [28.,  0.,  0.,  0.,  0.,  0.,  0.,  0.,  0.,  0.],\n",
              "        [28.,  0.,  0.,  0.,  0.,  0.,  0.,  0.,  0.,  0.],\n",
              "        [28.,  0.,  0.,  0.,  0.,  0.,  0.,  0.,  0.,  0.]]),\n",
              " array([  0. ,  25.5,  51. ,  76.5, 102. , 127.5, 153. , 178.5, 204. ,\n",
              "        229.5, 255. ]),\n",
              " <a list of 28 Lists of Patches objects>)"
            ]
          },
          "metadata": {
            "tags": []
          },
          "execution_count": 29
        },
        {
          "output_type": "display_data",
          "data": {
            "image/png": "[encoded data removed]",
            "text/plain": [
              "<Figure size 432x288 with 1 Axes>"
            ]
          },
          "metadata": {
            "tags": [],
            "needs_background": "light"
          }
        }
      ]
    },
    {
      "cell_type": "code",
      "metadata": {
        "id": "YmOCah1Y0Gsg",
        "colab_type": "code",
        "colab": {
          "base_uri": "https://localhost:8080/",
          "height": 265
        },
        "outputId": "966b01c2-0f0d-43f5-a743-f508b6a5d3bd"
      },
      "source": [
        "plt.hist(train_digits[0])\n",
        "plt.show()"
      ],
      "execution_count": null,
      "outputs": [
        {
          "output_type": "display_data",
          "data": {
            "image/png": "[encoded data removed]",
            "text/plain": [
              "<Figure size 432x288 with 1 Axes>"
            ]
          },
          "metadata": {
            "tags": [],
            "needs_background": "light"
          }
        }
      ]
    },
    {
      "cell_type": "code",
      "metadata": {
        "id": "o1iD7DuR07kU",
        "colab_type": "code",
        "colab": {
          "base_uri": "https://localhost:8080/",
          "height": 265
        },
        "outputId": "6a226cd5-2a49-4e07-d95e-51fcc617fc6d"
      },
      "source": [
        "plt.hist(train_digits[0],bins=225)\n",
        "plt.show()"
      ],
      "execution_count": null,
      "outputs": [
        {
          "output_type": "display_data",
          "data": {
            "image/png": "[encoded data removed]",
            "text/plain": [
              "<Figure size 432x288 with 1 Axes>"
            ]
          },
          "metadata": {
            "tags": [],
            "needs_background": "light"
          }
        }
      ]
    },
    {
      "cell_type": "code",
      "metadata": {
        "id": "i0c0Beaf1ghP",
        "colab_type": "code",
        "colab": {
          "base_uri": "https://localhost:8080/",
          "height": 333
        },
        "outputId": "05d5e195-f774-47df-84f1-a0979d9e5f71"
      },
      "source": [
        "plt.hist(train_digits[0].flat)"
      ],
      "execution_count": null,
      "outputs": [
        {
          "output_type": "execute_result",
          "data": {
            "text/plain": [
              "(array([639.,  11.,   6.,  11.,   6.,   9.,  11.,  12.,  11.,  68.]),\n",
              " array([  0. ,  25.5,  51. ,  76.5, 102. , 127.5, 153. , 178.5, 204. ,\n",
              "        229.5, 255. ]),\n",
              " <a list of 10 Patch objects>)"
            ]
          },
          "metadata": {
            "tags": []
          },
          "execution_count": 19
        },
        {
          "output_type": "display_data",
          "data": {
            "image/png": "[encoded data removed]",
            "text/plain": [
              "<Figure size 432x288 with 1 Axes>"
            ]
          },
          "metadata": {
            "tags": [],
            "needs_background": "light"
          }
        }
      ]
    },
    {
      "cell_type": "code",
      "metadata": {
        "id": "pukn2Kof2Z_N",
        "colab_type": "code",
        "colab": {
          "base_uri": "https://localhost:8080/",
          "height": 265
        },
        "outputId": "df4d52cd-03d2-493b-f50f-f545d5c07446"
      },
      "source": [
        "plt.hist(train_digits[0].flat,bins=225)\n",
        "plt.show()"
      ],
      "execution_count": null,
      "outputs": [
        {
          "output_type": "display_data",
          "data": {
            "image/png": "[encoded data removed]",
            "text/plain": [
              "<Figure size 432x288 with 1 Axes>"
            ]
          },
          "metadata": {
            "tags": [],
            "needs_background": "light"
          }
        }
      ]
    },
    {
      "cell_type": "code",
      "metadata": {
        "id": "7p1-6Gn02ilQ",
        "colab_type": "code",
        "colab": {
          "base_uri": "https://localhost:8080/",
          "height": 333
        },
        "outputId": "0eee52b6-01e5-41d2-be2d-9c45fc44ad84"
      },
      "source": [
        "#pixel distribution for digit 1\n",
        "plt.hist(train_digits[14].flat)"
      ],
      "execution_count": null,
      "outputs": [
        {
          "output_type": "execute_result",
          "data": {
            "text/plain": [
              "(array([713.,  17.,   1.,   2.,  10.,   0.,   4.,   4.,   2.,  31.]),\n",
              " array([  0. ,  25.5,  51. ,  76.5, 102. , 127.5, 153. , 178.5, 204. ,\n",
              "        229.5, 255. ]),\n",
              " <a list of 10 Patch objects>)"
            ]
          },
          "metadata": {
            "tags": []
          },
          "execution_count": 25
        },
        {
          "output_type": "display_data",
          "data": {
            "image/png": "[encoded data removed]",
            "text/plain": [
              "<Figure size 432x288 with 1 Axes>"
            ]
          },
          "metadata": {
            "tags": [],
            "needs_background": "light"
          }
        }
      ]
    },
    {
      "cell_type": "code",
      "metadata": {
        "id": "FugZ7Qcl2oPm",
        "colab_type": "code",
        "colab": {
          "base_uri": "https://localhost:8080/",
          "height": 34
        },
        "outputId": "aad6ee53-ce57-4633-af69-a230cd9a5a5e"
      },
      "source": [
        "train_labels[10:20]"
      ],
      "execution_count": null,
      "outputs": [
        {
          "output_type": "execute_result",
          "data": {
            "text/plain": [
              "array([3, 5, 3, 6, 1, 7, 2, 8, 6, 9], dtype=uint8)"
            ]
          },
          "metadata": {
            "tags": []
          },
          "execution_count": 26
        }
      ]
    },
    {
      "cell_type": "code",
      "metadata": {
        "id": "ouB615mo2syD",
        "colab_type": "code",
        "colab": {
          "base_uri": "https://localhost:8080/",
          "height": 51
        },
        "outputId": "1ed63ee8-a12c-4ce4-951d-c139664e703b"
      },
      "source": [
        "samples = np.random.randint(train_digits.shape[0],size=16)\n",
        "samples"
      ],
      "execution_count": null,
      "outputs": [
        {
          "output_type": "execute_result",
          "data": {
            "text/plain": [
              "array([33304,  5035, 54780, 39948, 25763, 41966, 19664, 21144, 49348,\n",
              "       46025, 33194,   885, 17983, 40064, 57286, 35498])"
            ]
          },
          "metadata": {
            "tags": []
          },
          "execution_count": 32
        }
      ]
    },
    {
      "cell_type": "code",
      "metadata": {
        "id": "KYc0siQD5NVV",
        "colab_type": "code",
        "colab": {
          "base_uri": "https://localhost:8080/",
          "height": 645
        },
        "outputId": "59bbc3f3-bbf0-49ed-bb50-761dcf36b814"
      },
      "source": [
        "plt.figure(figsize=(16,16))\n",
        "j = 1\n",
        "for i in samples:\n",
        "   plt.subplot(4,4,j)\n",
        "   plt.imshow(train_digits[i],cmap='gray')\n",
        "   plt.title(\"Digit: \"+str(train_labels[i]))\n",
        "   plt.axis('off')\n",
        "   j += 1"
      ],
      "execution_count": null,
      "outputs": [
        {
          "output_type": "display_data",
          "data": {
            "image/png": "[encoded data removed]",
            "text/plain": [
              "<Figure size 1152x1152 with 16 Axes>"
            ]
          },
          "metadata": {
            "tags": [],
            "needs_background": "light"
          }
        }
      ]
    },
    {
      "cell_type": "code",
      "metadata": {
        "id": "pkkSFTEo6BtV",
        "colab_type": "code",
        "colab": {
          "base_uri": "https://localhost:8080/",
          "height": 641
        },
        "outputId": "2c4eb720-2328-40cc-d981-7025ba75e260"
      },
      "source": [
        "plt.figure(figsize=(16,16))\n",
        "j = 1\n",
        "for i in samples:\n",
        "   plt.subplot(4,4,j)\n",
        "   plt.hist(train_digits[i].flat)\n",
        "   plt.title(\"Digit: \"+str(train_labels[i]))\n",
        "   plt.axis('off')\n",
        "   j += 1"
      ],
      "execution_count": null,
      "outputs": [
        {
          "output_type": "display_data",
          "data": {
            "image/png": "[encoded data removed]",
            "text/plain": [
              "<Figure size 1152x1152 with 16 Axes>"
            ]
          },
          "metadata": {
            "tags": [],
            "needs_background": "light"
          }
        }
      ]
    },
    {
      "cell_type": "markdown",
      "metadata": {
        "id": "Ku3rnMFI8VFo",
        "colab_type": "text"
      },
      "source": [
        "### Preprocessing"
      ]
    },
    {
      "cell_type": "markdown",
      "metadata": {
        "id": "jQlQx40i8ZAk",
        "colab_type": "text"
      },
      "source": [
        "Scaling"
      ]
    },
    {
      "cell_type": "code",
      "metadata": {
        "id": "foHqi7WP8X97",
        "colab_type": "code",
        "colab": {}
      },
      "source": [
        "## Pixel values are from 0 to 255\n",
        "train_digits_sc = train_digits/225.0\n",
        "test_digits_sc = test_digits/255.0"
      ],
      "execution_count": null,
      "outputs": []
    },
    {
      "cell_type": "code",
      "metadata": {
        "id": "6XBDWXZa8mTv",
        "colab_type": "code",
        "colab": {
          "base_uri": "https://localhost:8080/",
          "height": 34
        },
        "outputId": "426b7e87-c81f-4e2e-942a-e281d39eefd7"
      },
      "source": [
        "train_labels"
      ],
      "execution_count": null,
      "outputs": [
        {
          "output_type": "execute_result",
          "data": {
            "text/plain": [
              "array([5, 0, 4, ..., 5, 6, 8], dtype=uint8)"
            ]
          },
          "metadata": {
            "tags": []
          },
          "execution_count": 41
        }
      ]
    },
    {
      "cell_type": "code",
      "metadata": {
        "id": "IhvsWaBV8sKB",
        "colab_type": "code",
        "colab": {}
      },
      "source": [
        "from keras.utils import to_categorical"
      ],
      "execution_count": null,
      "outputs": []
    },
    {
      "cell_type": "code",
      "metadata": {
        "id": "91ld2Eqa88WS",
        "colab_type": "code",
        "colab": {}
      },
      "source": [
        "train_labels_cat = to_categorical(train_labels)"
      ],
      "execution_count": null,
      "outputs": []
    },
    {
      "cell_type": "code",
      "metadata": {
        "id": "KsqkQPZZ9Idf",
        "colab_type": "code",
        "colab": {
          "base_uri": "https://localhost:8080/",
          "height": 34
        },
        "outputId": "e91bebf4-446a-4245-bf5f-0a875ff1d9eb"
      },
      "source": [
        "train_labels_cat[0]"
      ],
      "execution_count": null,
      "outputs": [
        {
          "output_type": "execute_result",
          "data": {
            "text/plain": [
              "array([0., 0., 0., 0., 0., 1., 0., 0., 0., 0.], dtype=float32)"
            ]
          },
          "metadata": {
            "tags": []
          },
          "execution_count": 44
        }
      ]
    },
    {
      "cell_type": "code",
      "metadata": {
        "id": "jiZkKhUB9LYC",
        "colab_type": "code",
        "colab": {
          "base_uri": "https://localhost:8080/",
          "height": 34
        },
        "outputId": "ee8d5d75-f370-46b4-d2c9-66949e36d9a3"
      },
      "source": [
        "test_labels_cat = to_categorical(train_labels)\n",
        "test_labels_cat[9]"
      ],
      "execution_count": null,
      "outputs": [
        {
          "output_type": "execute_result",
          "data": {
            "text/plain": [
              "array([0., 0., 0., 0., 1., 0., 0., 0., 0., 0.], dtype=float32)"
            ]
          },
          "metadata": {
            "tags": []
          },
          "execution_count": 45
        }
      ]
    },
    {
      "cell_type": "markdown",
      "metadata": {
        "id": "nAbOXmkf-UX2",
        "colab_type": "text"
      },
      "source": [
        "### Split the train data to train and validation"
      ]
    },
    {
      "cell_type": "code",
      "metadata": {
        "id": "3mUUAVRH9bcP",
        "colab_type": "code",
        "colab": {
          "base_uri": "https://localhost:8080/",
          "height": 68
        },
        "outputId": "4658ba89-ca34-4b9f-9646-bddaf38e0588"
      },
      "source": [
        "from sklearn.model_selection import train_test_split\n",
        "X_train,X_val,y_train,y_val = train_test_split(train_digits_sc,train_labels_cat,test_size=0.1,random_state=32)\n",
        "print(X_train.shape)\n",
        "print(X_val.shape)\n",
        "print(y_train.shape)"
      ],
      "execution_count": null,
      "outputs": [
        {
          "output_type": "stream",
          "text": [
            "(54000, 28, 28)\n",
            "(6000, 28, 28)\n",
            "(54000, 10)\n"
          ],
          "name": "stdout"
        }
      ]
    },
    {
      "cell_type": "markdown",
      "metadata": {
        "id": "Sj4Il3Ns_ZGZ",
        "colab_type": "text"
      },
      "source": [
        "### Build the Train the model"
      ]
    },
    {
      "cell_type": "markdown",
      "metadata": {
        "id": "vuzj3edW_eNK",
        "colab_type": "text"
      },
      "source": [
        "Build the model\n",
        "We need to take 1d array as input for Dense layer\n",
        "How many hidden layers you want to add here?\n",
        "How many neurons in each hidden layer?\n",
        "What is activation function for the hidden layers?\n",
        "How many neurons we should take in the output layer?\n",
        "What is the activation function for the output layer?"
      ]
    },
    {
      "cell_type": "code",
      "metadata": {
        "id": "wPS2ZUWB_APi",
        "colab_type": "code",
        "colab": {}
      },
      "source": [
        "#import the methods required\n",
        "from keras.models import Sequential\n",
        "from keras.layers import Dense,Flatten"
      ],
      "execution_count": null,
      "outputs": []
    },
    {
      "cell_type": "code",
      "metadata": {
        "id": "k1Oq6AEFF1JB",
        "colab_type": "code",
        "colab": {
          "base_uri": "https://localhost:8080/",
          "height": 34
        },
        "outputId": "b8e20271-3807-475b-9dfe-edbbd1d75334"
      },
      "source": [
        "784*128+128"
      ],
      "execution_count": null,
      "outputs": [
        {
          "output_type": "execute_result",
          "data": {
            "text/plain": [
              "100480"
            ]
          },
          "metadata": {
            "tags": []
          },
          "execution_count": 54
        }
      ]
    },
    {
      "cell_type": "code",
      "metadata": {
        "id": "1F0wHwhQCzBI",
        "colab_type": "code",
        "colab": {
          "base_uri": "https://localhost:8080/",
          "height": 357
        },
        "outputId": "68693448-eb3f-4562-dec0-b549968e4528"
      },
      "source": [
        "##We are creating the base model\n",
        "model = Sequential()\n",
        "#First layer we need to mention the input shape\n",
        "model.add(Flatten(input_shape=(28,28)))\n",
        "#784 pixel values as input to this dense. 128 neurons in the layers\n",
        "model.add(Dense(128,activation='relu')) #784*128+128\n",
        "model.add(Dense(128,activation='relu')) # 128*128+128\n",
        "model.add(Dense(64,activation='relu'))\n",
        "model.add(Dense(256,activation='relu'))\n",
        "#Final layer there are 10 classes so use 10 neurons\n",
        "model.add(Dense(10,activation='softmax')) #relu--> x\n",
        "model.summary()"
      ],
      "execution_count": null,
      "outputs": [
        {
          "output_type": "stream",
          "text": [
            "Model: \"sequential_1\"\n",
            "_________________________________________________________________\n",
            "Layer (type)                 Output Shape              Param #   \n",
            "=================================================================\n",
            "flatten_1 (Flatten)          (None, 784)               0         \n",
            "_________________________________________________________________\n",
            "dense_1 (Dense)              (None, 128)               100480    \n",
            "_________________________________________________________________\n",
            "dense_2 (Dense)              (None, 128)               16512     \n",
            "_________________________________________________________________\n",
            "dense_3 (Dense)              (None, 64)                8256      \n",
            "_________________________________________________________________\n",
            "dense_4 (Dense)              (None, 256)               16640     \n",
            "_________________________________________________________________\n",
            "dense_5 (Dense)              (None, 10)                2570      \n",
            "=================================================================\n",
            "Total params: 144,458\n",
            "Trainable params: 144,458\n",
            "Non-trainable params: 0\n",
            "_________________________________________________________________\n"
          ],
          "name": "stdout"
        }
      ]
    },
    {
      "cell_type": "markdown",
      "metadata": {
        "id": "yPETfoKKHLvt",
        "colab_type": "text"
      },
      "source": [
        "### Compile the model\n",
        "What is the loss function?\n",
        "What is the optimizer?\n",
        "What are the metrics?\n"
      ]
    },
    {
      "cell_type": "code",
      "metadata": {
        "id": "nVRZmb58FBOJ",
        "colab_type": "code",
        "colab": {}
      },
      "source": [
        "model.compile(optimizer = 'adam',loss=tf.keras.losses.CategoricalCrossentropy(),metrics=['accuracy'])"
      ],
      "execution_count": null,
      "outputs": []
    },
    {
      "cell_type": "markdown",
      "metadata": {
        "id": "vNNMMaUyI-yP",
        "colab_type": "text"
      },
      "source": [
        "### Training the model"
      ]
    },
    {
      "cell_type": "code",
      "metadata": {
        "id": "KOIanhJAH81J",
        "colab_type": "code",
        "colab": {
          "base_uri": "https://localhost:8080/",
          "height": 394
        },
        "outputId": "3528d8b9-3237-493b-e484-c07e37efbbf1"
      },
      "source": [
        "history = model.fit(x=X_train,y=y_train,epochs=10,\\\n",
        "                    validation_data=(X_val,y_val),batch_size=32)"
      ],
      "execution_count": null,
      "outputs": [
        {
          "output_type": "stream",
          "text": [
            "Train on 54000 samples, validate on 6000 samples\n",
            "Epoch 1/10\n",
            "54000/54000 [==============================] - 7s 123us/step - loss: 0.2552 - accuracy: 0.9216 - val_loss: 0.1368 - val_accuracy: 0.9587\n",
            "Epoch 2/10\n",
            "54000/54000 [==============================] - 7s 133us/step - loss: 0.1095 - accuracy: 0.9668 - val_loss: 0.1184 - val_accuracy: 0.9692\n",
            "Epoch 3/10\n",
            "54000/54000 [==============================] - 7s 125us/step - loss: 0.0816 - accuracy: 0.9752 - val_loss: 0.1352 - val_accuracy: 0.9647\n",
            "Epoch 4/10\n",
            "54000/54000 [==============================] - 6s 119us/step - loss: 0.0651 - accuracy: 0.9802 - val_loss: 0.1170 - val_accuracy: 0.9693\n",
            "Epoch 5/10\n",
            "54000/54000 [==============================] - 6s 119us/step - loss: 0.0540 - accuracy: 0.9832 - val_loss: 0.1093 - val_accuracy: 0.9723\n",
            "Epoch 6/10\n",
            "54000/54000 [==============================] - 6s 118us/step - loss: 0.0442 - accuracy: 0.9861 - val_loss: 0.0928 - val_accuracy: 0.9777\n",
            "Epoch 7/10\n",
            "54000/54000 [==============================] - 6s 118us/step - loss: 0.0379 - accuracy: 0.9881 - val_loss: 0.1135 - val_accuracy: 0.9715\n",
            "Epoch 8/10\n",
            "54000/54000 [==============================] - 6s 119us/step - loss: 0.0333 - accuracy: 0.9896 - val_loss: 0.1079 - val_accuracy: 0.9742\n",
            "Epoch 9/10\n",
            "54000/54000 [==============================] - 6s 118us/step - loss: 0.0313 - accuracy: 0.9902 - val_loss: 0.1400 - val_accuracy: 0.9710\n",
            "Epoch 10/10\n",
            "54000/54000 [==============================] - 6s 118us/step - loss: 0.0282 - accuracy: 0.9918 - val_loss: 0.1209 - val_accuracy: 0.9765\n"
          ],
          "name": "stdout"
        }
      ]
    },
    {
      "cell_type": "markdown",
      "metadata": {
        "id": "uvH6PsRsOhdI",
        "colab_type": "text"
      },
      "source": [
        "###Evaluating the model"
      ]
    },
    {
      "cell_type": "code",
      "metadata": {
        "id": "7oErrsPZJnAz",
        "colab_type": "code",
        "colab": {}
      },
      "source": [
        "model.evaluate(test_digits_sc,test_labels_cat)"
      ],
      "execution_count": null,
      "outputs": []
    },
    {
      "cell_type": "code",
      "metadata": {
        "id": "aBJTzsgIOzZP",
        "colab_type": "code",
        "colab": {
          "base_uri": "https://localhost:8080/",
          "height": 68
        },
        "outputId": "1c0d3176-6df6-41da-db34-08c04acd61c4"
      },
      "source": [
        "print(test_digits_sc.shape)\n",
        "print(test_digits_sc[0].shape)\n",
        "print(np.expand_dims(test_digits_sc[0],axis=0).shape)"
      ],
      "execution_count": null,
      "outputs": [
        {
          "output_type": "stream",
          "text": [
            "(10000, 28, 28)\n",
            "(28, 28)\n",
            "(1, 28, 28)\n"
          ],
          "name": "stdout"
        }
      ]
    },
    {
      "cell_type": "code",
      "metadata": {
        "id": "GkqpqbCUQU9m",
        "colab_type": "code",
        "colab": {
          "base_uri": "https://localhost:8080/",
          "height": 34
        },
        "outputId": "eee110f8-11b0-40c7-a494-d53fed01470f"
      },
      "source": [
        "test_labels[0]"
      ],
      "execution_count": null,
      "outputs": [
        {
          "output_type": "execute_result",
          "data": {
            "text/plain": [
              "7"
            ]
          },
          "metadata": {
            "tags": []
          },
          "execution_count": 67
        }
      ]
    },
    {
      "cell_type": "code",
      "metadata": {
        "id": "DXa0SdKuO_oE",
        "colab_type": "code",
        "colab": {
          "base_uri": "https://localhost:8080/",
          "height": 68
        },
        "outputId": "f2bc6641-7269-46d6-93a1-6044ba8d5c3e"
      },
      "source": [
        "model.predict(np.expand_dims(test_digits_sc[0],axis=0))"
      ],
      "execution_count": null,
      "outputs": [
        {
          "output_type": "execute_result",
          "data": {
            "text/plain": [
              "array([[9.3113174e-17, 1.1441922e-07, 2.9619612e-11, 3.6393086e-11,\n",
              "        2.8492768e-12, 5.0220848e-16, 3.1734678e-19, 9.9999976e-01,\n",
              "        1.7073339e-11, 1.0489869e-07]], dtype=float32)"
            ]
          },
          "metadata": {
            "tags": []
          },
          "execution_count": 64
        }
      ]
    },
    {
      "cell_type": "code",
      "metadata": {
        "id": "_1WgSocZPtN5",
        "colab_type": "code",
        "colab": {
          "base_uri": "https://localhost:8080/",
          "height": 527
        },
        "outputId": "48ef1944-fd38-427a-c700-a66aeec13667"
      },
      "source": [
        "model.predict(test_digits_sc[:10])"
      ],
      "execution_count": null,
      "outputs": [
        {
          "output_type": "execute_result",
          "data": {
            "text/plain": [
              "array([[9.31131738e-17, 1.14419002e-07, 2.96196123e-11, 3.63930171e-11,\n",
              "        2.84928223e-12, 5.02208481e-16, 3.17346782e-19, 9.99999762e-01,\n",
              "        1.70733393e-11, 1.04898696e-07],\n",
              "       [2.03568187e-11, 1.77157435e-08, 9.99999881e-01, 2.32471855e-08,\n",
              "        1.79801421e-12, 1.53731167e-10, 5.34894316e-11, 6.14458102e-08,\n",
              "        1.90289048e-10, 6.98891574e-13],\n",
              "       [2.22777310e-15, 9.99999881e-01, 2.03409525e-10, 8.78377232e-13,\n",
              "        2.34125608e-10, 1.54942574e-13, 5.05016862e-10, 2.56972204e-08,\n",
              "        7.33608374e-08, 1.00005486e-12],\n",
              "       [9.99982715e-01, 2.00615110e-12, 6.88973387e-06, 3.91467552e-08,\n",
              "        2.71394480e-08, 1.53450742e-07, 2.26410364e-07, 2.19248633e-07,\n",
              "        1.15938947e-08, 9.75603598e-06],\n",
              "       [5.30832434e-10, 5.03150886e-06, 3.02272809e-07, 2.10158529e-10,\n",
              "        9.99986887e-01, 5.92929510e-08, 1.11844251e-07, 7.06213029e-07,\n",
              "        1.35050424e-08, 6.94332311e-06],\n",
              "       [9.27069785e-18, 1.00000000e+00, 9.97722955e-13, 4.80307322e-15,\n",
              "        1.75628054e-11, 3.11276958e-16, 3.33012003e-12, 2.77362266e-09,\n",
              "        3.19725224e-09, 1.72233799e-14],\n",
              "       [9.53872448e-09, 1.41041064e-05, 2.91180186e-06, 2.10315676e-08,\n",
              "        9.99810159e-01, 2.61340779e-06, 1.51033547e-07, 1.48268680e-06,\n",
              "        1.03617413e-05, 1.58109455e-04],\n",
              "       [3.61746686e-07, 4.26280344e-09, 1.00644104e-06, 1.28053455e-03,\n",
              "        2.12092095e-06, 7.61575284e-05, 2.46964255e-11, 1.10780559e-06,\n",
              "        9.34614235e-08, 9.98638570e-01],\n",
              "       [1.14997192e-05, 1.57870272e-05, 2.46512391e-05, 2.23829079e-06,\n",
              "        2.82789078e-05, 7.74745703e-01, 2.21302167e-01, 2.54208385e-06,\n",
              "        1.53703208e-04, 3.71341174e-03],\n",
              "       [1.34270123e-10, 5.31744683e-11, 1.30127159e-10, 1.13818368e-08,\n",
              "        6.37685844e-06, 1.55950026e-08, 1.53040320e-14, 3.01780965e-08,\n",
              "        8.41245185e-10, 9.99993563e-01]], dtype=float32)"
            ]
          },
          "metadata": {
            "tags": []
          },
          "execution_count": 66
        }
      ]
    },
    {
      "cell_type": "code",
      "metadata": {
        "id": "xVNGQ7uSP-zW",
        "colab_type": "code",
        "colab": {
          "base_uri": "https://localhost:8080/",
          "height": 34
        },
        "outputId": "5cc0725c-d880-4ce6-c11f-5c32f6e6b73d"
      },
      "source": [
        "model.predict_classes(np.expand_dims(test_digits_sc[0],axis=0))"
      ],
      "execution_count": null,
      "outputs": [
        {
          "output_type": "execute_result",
          "data": {
            "text/plain": [
              "array([7])"
            ]
          },
          "metadata": {
            "tags": []
          },
          "execution_count": 68
        }
      ]
    },
    {
      "cell_type": "code",
      "metadata": {
        "id": "6hOMDH84Q2tj",
        "colab_type": "code",
        "colab": {
          "base_uri": "https://localhost:8080/",
          "height": 68
        },
        "outputId": "251c77c8-a01c-4751-f337-6e2eb73e8a85"
      },
      "source": [
        "model.predict_proba(np.expand_dims(test_digits_sc[0],axis=0))"
      ],
      "execution_count": null,
      "outputs": [
        {
          "output_type": "execute_result",
          "data": {
            "text/plain": [
              "array([[9.3113174e-17, 1.1441922e-07, 2.9619612e-11, 3.6393086e-11,\n",
              "        2.8492768e-12, 5.0220848e-16, 3.1734678e-19, 9.9999976e-01,\n",
              "        1.7073339e-11, 1.0489869e-07]], dtype=float32)"
            ]
          },
          "metadata": {
            "tags": []
          },
          "execution_count": 69
        }
      ]
    },
    {
      "cell_type": "code",
      "metadata": {
        "id": "dJulAUpEQ9Y6",
        "colab_type": "code",
        "colab": {
          "base_uri": "https://localhost:8080/",
          "height": 850
        },
        "outputId": "c367de4b-7abc-4c61-b886-18f893ccf860"
      },
      "source": [
        "dir(history)"
      ],
      "execution_count": null,
      "outputs": [
        {
          "output_type": "execute_result",
          "data": {
            "text/plain": [
              "['__class__',\n",
              " '__delattr__',\n",
              " '__dict__',\n",
              " '__dir__',\n",
              " '__doc__',\n",
              " '__eq__',\n",
              " '__format__',\n",
              " '__ge__',\n",
              " '__getattribute__',\n",
              " '__gt__',\n",
              " '__hash__',\n",
              " '__init__',\n",
              " '__init_subclass__',\n",
              " '__le__',\n",
              " '__lt__',\n",
              " '__module__',\n",
              " '__ne__',\n",
              " '__new__',\n",
              " '__reduce__',\n",
              " '__reduce_ex__',\n",
              " '__repr__',\n",
              " '__setattr__',\n",
              " '__sizeof__',\n",
              " '__str__',\n",
              " '__subclasshook__',\n",
              " '__weakref__',\n",
              " 'epoch',\n",
              " 'history',\n",
              " 'model',\n",
              " 'on_batch_begin',\n",
              " 'on_batch_end',\n",
              " 'on_epoch_begin',\n",
              " 'on_epoch_end',\n",
              " 'on_predict_batch_begin',\n",
              " 'on_predict_batch_end',\n",
              " 'on_predict_begin',\n",
              " 'on_predict_end',\n",
              " 'on_test_batch_begin',\n",
              " 'on_test_batch_end',\n",
              " 'on_test_begin',\n",
              " 'on_test_end',\n",
              " 'on_train_batch_begin',\n",
              " 'on_train_batch_end',\n",
              " 'on_train_begin',\n",
              " 'on_train_end',\n",
              " 'params',\n",
              " 'set_model',\n",
              " 'set_params',\n",
              " 'validation_data']"
            ]
          },
          "metadata": {
            "tags": []
          },
          "execution_count": 71
        }
      ]
    },
    {
      "cell_type": "code",
      "metadata": {
        "id": "02hzXxuIRPOj",
        "colab_type": "code",
        "colab": {
          "base_uri": "https://localhost:8080/",
          "height": 697
        },
        "outputId": "e0dd8117-1f22-40d4-9db5-cb412390c201"
      },
      "source": [
        "history.history"
      ],
      "execution_count": null,
      "outputs": [
        {
          "output_type": "execute_result",
          "data": {
            "text/plain": [
              "{'accuracy': [0.92164814,\n",
              "  0.9668148,\n",
              "  0.9751667,\n",
              "  0.9801667,\n",
              "  0.9831852,\n",
              "  0.98605555,\n",
              "  0.9881296,\n",
              "  0.9896296,\n",
              "  0.99024075,\n",
              "  0.99175924],\n",
              " 'loss': [0.25523377766956884,\n",
              "  0.10945029028201544,\n",
              "  0.08159579943565445,\n",
              "  0.06512319510240384,\n",
              "  0.05400232919612986,\n",
              "  0.0441910921011672,\n",
              "  0.03794891825168937,\n",
              "  0.03328096146150535,\n",
              "  0.03132882403646808,\n",
              "  0.02821018659510419],\n",
              " 'val_accuracy': [0.9586666822433472,\n",
              "  0.9691666960716248,\n",
              "  0.9646666646003723,\n",
              "  0.9693333506584167,\n",
              "  0.9723333120346069,\n",
              "  0.9776666760444641,\n",
              "  0.9714999794960022,\n",
              "  0.9741666913032532,\n",
              "  0.9710000157356262,\n",
              "  0.9764999747276306],\n",
              " 'val_loss': [0.13684211080272993,\n",
              "  0.11836763525754214,\n",
              "  0.13521425086197753,\n",
              "  0.11702054460595052,\n",
              "  0.10932559704532226,\n",
              "  0.09276430947271486,\n",
              "  0.11347808601753787,\n",
              "  0.10788735196576454,\n",
              "  0.14000715057342314,\n",
              "  0.12088651228509843]}"
            ]
          },
          "metadata": {
            "tags": []
          },
          "execution_count": 72
        }
      ]
    },
    {
      "cell_type": "code",
      "metadata": {
        "id": "Obb-rzJnRZlT",
        "colab_type": "code",
        "colab": {
          "base_uri": "https://localhost:8080/",
          "height": 34
        },
        "outputId": "4706b260-cf94-464c-9b67-762098cf1f94"
      },
      "source": [
        "history.history.keys()"
      ],
      "execution_count": null,
      "outputs": [
        {
          "output_type": "execute_result",
          "data": {
            "text/plain": [
              "dict_keys(['val_loss', 'val_accuracy', 'loss', 'accuracy'])"
            ]
          },
          "metadata": {
            "tags": []
          },
          "execution_count": 73
        }
      ]
    },
    {
      "cell_type": "code",
      "metadata": {
        "id": "liflI8V-RcCf",
        "colab_type": "code",
        "colab": {
          "base_uri": "https://localhost:8080/",
          "height": 282
        },
        "outputId": "9450a5da-cc36-47e4-859a-b03e4aecb4b9"
      },
      "source": [
        " plt.plot(range(1,11),history.history['accuracy'])\n",
        " plt.plot(range(1,11),history.history['val_accuracy'])"
      ],
      "execution_count": null,
      "outputs": [
        {
          "output_type": "execute_result",
          "data": {
            "text/plain": [
              "[<matplotlib.lines.Line2D at 0x7f8cf0fcb7b8>]"
            ]
          },
          "metadata": {
            "tags": []
          },
          "execution_count": 75
        },
        {
          "output_type": "display_data",
          "data": {
            "image/png": "[encoded data removed]",
            "text/plain": [
              "<Figure size 432x288 with 1 Axes>"
            ]
          },
          "metadata": {
            "tags": [],
            "needs_background": "light"
          }
        }
      ]
    },
    {
      "cell_type": "code",
      "metadata": {
        "id": "INjABe1WR4h1",
        "colab_type": "code",
        "colab": {}
      },
      "source": [
        ""
      ],
      "execution_count": null,
      "outputs": []
    }
  ]
}