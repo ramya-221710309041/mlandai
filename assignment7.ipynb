{
 "cells": [
  {
   "cell_type": "code",
   "execution_count": 1,
   "metadata": {},
   "outputs": [],
   "source": [
    "#1. Reverse\n",
    "f = open(\"file.txt\",\"w+\")"
   ]
  },
  {
   "cell_type": "code",
   "execution_count": 2,
   "metadata": {},
   "outputs": [],
   "source": [
    "f1 = open(\"output1.txt\",\"w\")\n",
    "with open(\"file.txt\",\"r\") as myfile:\n",
    "    data = myfile.read()\n",
    "data1 = data[::-1]\n",
    "f1.write(data1)\n",
    "f1.close()"
   ]
  },
  {
   "cell_type": "code",
   "execution_count": 3,
   "metadata": {},
   "outputs": [],
   "source": [
    "#2. Number lines\n",
    "with open('file.txt', 'r') as f:\n",
    "    for i, line in enumerate(f, start=1):\n",
    "        print('{} = {}'.format(i, line.strip()))"
   ]
  },
  {
   "cell_type": "code",
   "execution_count": 4,
   "metadata": {},
   "outputs": [
    {
     "name": "stdout",
     "output_type": "stream",
     "text": [
      "True\n"
     ]
    }
   ],
   "source": [
    "#3.Avoiding duplicates\n",
    "\n",
    "def Duplicates(listOfElems):\n",
    "    if len(list1) == len(set(list1)):\n",
    "        return False\n",
    "    else:\n",
    "        return True\n",
    "list1=[1,2,3,4,2]    \n",
    "result=Duplicates(list1)\n",
    "print(result)"
   ]
  },
  {
   "cell_type": "code",
   "execution_count": 2,
   "metadata": {},
   "outputs": [
    {
     "name": "stdout",
     "output_type": "stream",
     "text": [
      "(1, 3, <class 'int'>)\n"
     ]
    }
   ],
   "source": [
    "#5. permutations\n",
    "L1 = [1, 'b', 1, 'c', 'c', 1]\n",
    "L2 = ['c', 1, 'b', 1, 1, 'c']\n",
    "\n",
    "\n",
    "def isPermutation(list1,list2):\n",
    " if len(list1) != len(list2):\n",
    "   return False;  #two list does not have same length so impossible being permutation of each other\n",
    " for i in range(0, len(list1)):\n",
    "   if list1.count(list1[i]) != list2.count(list1[i]):\n",
    "     return False\n",
    "\n",
    "def is_list_permutation(list1,list2):\n",
    "  if (isPermutation(list1,list2) == False): #use the above method isPermutation to check if they are permutation of each other\n",
    "    return False #if not return false\n",
    "  elif not list1:\n",
    "    return (None, None, None)\n",
    "  else:\n",
    "    mostOccurItem = max(set(list1), key=list1.count)  \n",
    "    numberOfTimes = list1.count(mostOccurItem)\n",
    "    theType = type(mostOccurItem)\n",
    "    return (mostOccurItem, numberOfTimes, theType)\n",
    "\n",
    "print(is_list_permutation(L1,L2))"
   ]
  },
  {
   "cell_type": "code",
   "execution_count": null,
   "metadata": {},
   "outputs": [],
   "source": []
  }
 ],
 "metadata": {
  "kernelspec": {
   "display_name": "Python 3",
   "language": "python",
   "name": "python3"
  },
  "language_info": {
   "codemirror_mode": {
    "name": "ipython",
    "version": 3
   },
   "file_extension": ".py",
   "mimetype": "text/x-python",
   "name": "python",
   "nbconvert_exporter": "python",
   "pygments_lexer": "ipython3",
   "version": "3.7.6"
  }
 },
 "nbformat": 4,
 "nbformat_minor": 4
}
