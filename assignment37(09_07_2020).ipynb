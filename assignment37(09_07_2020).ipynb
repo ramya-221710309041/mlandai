{
  "nbformat": 4,
  "nbformat_minor": 0,
  "metadata": {
    "colab": {
      "name": "assignment37(09-07-2020).ipynb",
      "provenance": [],
      "collapsed_sections": []
    },
    "kernelspec": {
      "name": "python3",
      "display_name": "Python 3"
    }
  },
  "cells": [
    {
      "cell_type": "code",
      "metadata": {
        "id": "0U0D59B1RZeS",
        "colab_type": "code",
        "colab": {}
      },
      "source": [
        "import tensorflow as tf\n",
        "import tensorflow.keras as keras\n",
        "import numpy as np\n",
        "import matplotlib.pyplot as plt\n",
        "%matplotlib inline"
      ],
      "execution_count": 1,
      "outputs": []
    },
    {
      "cell_type": "code",
      "metadata": {
        "id": "lki-S1ohR-MH",
        "colab_type": "code",
        "colab": {
          "base_uri": "https://localhost:8080/",
          "height": 34
        },
        "outputId": "0d067324-beb8-47bd-e909-7cd701fe0d46"
      },
      "source": [
        "from keras.datasets.mnist import load_data"
      ],
      "execution_count": 2,
      "outputs": [
        {
          "output_type": "stream",
          "text": [
            "Using TensorFlow backend.\n"
          ],
          "name": "stderr"
        }
      ]
    },
    {
      "cell_type": "code",
      "metadata": {
        "id": "oPiPc-YCSGHz",
        "colab_type": "code",
        "colab": {
          "base_uri": "https://localhost:8080/",
          "height": 85
        },
        "outputId": "e2b7ba20-9b11-4281-ba99-634c6d5f38d1"
      },
      "source": [
        "(train_digits,train_labels),(test_digits,test_labels)=load_data()\n",
        "print(train_digits.shape)\n",
        "print(test_digits.shape)"
      ],
      "execution_count": 3,
      "outputs": [
        {
          "output_type": "stream",
          "text": [
            "Downloading data from https://s3.amazonaws.com/img-datasets/mnist.npz\n",
            "11493376/11490434 [==============================] - 0s 0us/step\n",
            "(60000, 28, 28)\n",
            "(10000, 28, 28)\n"
          ],
          "name": "stdout"
        }
      ]
    },
    {
      "cell_type": "code",
      "metadata": {
        "id": "Is9vVJVPSIva",
        "colab_type": "code",
        "colab": {
          "base_uri": "https://localhost:8080/",
          "height": 221
        },
        "outputId": "b1a8d411-827e-4aea-e156-289b8b331096"
      },
      "source": [
        "import pandas as pd\n",
        "pd.Series(train_labels).value_counts"
      ],
      "execution_count": 4,
      "outputs": [
        {
          "output_type": "execute_result",
          "data": {
            "text/plain": [
              "<bound method IndexOpsMixin.value_counts of 0        5\n",
              "1        0\n",
              "2        4\n",
              "3        1\n",
              "4        9\n",
              "        ..\n",
              "59995    8\n",
              "59996    3\n",
              "59997    5\n",
              "59998    6\n",
              "59999    8\n",
              "Length: 60000, dtype: uint8>"
            ]
          },
          "metadata": {
            "tags": []
          },
          "execution_count": 4
        }
      ]
    },
    {
      "cell_type": "code",
      "metadata": {
        "id": "h1jkp-c6SLZI",
        "colab_type": "code",
        "colab": {
          "base_uri": "https://localhost:8080/",
          "height": 221
        },
        "outputId": "d74b6d41-6b4b-4fc5-e553-8ac8063d6073"
      },
      "source": [
        "pd.Series(test_labels).value_counts"
      ],
      "execution_count": 5,
      "outputs": [
        {
          "output_type": "execute_result",
          "data": {
            "text/plain": [
              "<bound method IndexOpsMixin.value_counts of 0       7\n",
              "1       2\n",
              "2       1\n",
              "3       0\n",
              "4       4\n",
              "       ..\n",
              "9995    2\n",
              "9996    3\n",
              "9997    4\n",
              "9998    5\n",
              "9999    6\n",
              "Length: 10000, dtype: uint8>"
            ]
          },
          "metadata": {
            "tags": []
          },
          "execution_count": 5
        }
      ]
    },
    {
      "cell_type": "code",
      "metadata": {
        "id": "IJgu0LdJSN4p",
        "colab_type": "code",
        "colab": {
          "base_uri": "https://localhost:8080/",
          "height": 282
        },
        "outputId": "2439c4b7-d380-4108-c1dc-f809c107d7a1"
      },
      "source": [
        "plt.imshow(train_digits[0])"
      ],
      "execution_count": 6,
      "outputs": [
        {
          "output_type": "execute_result",
          "data": {
            "text/plain": [
              "<matplotlib.image.AxesImage at 0x7f371fef1160>"
            ]
          },
          "metadata": {
            "tags": []
          },
          "execution_count": 6
        },
        {
          "output_type": "display_data",
          "data": {
            "image/png": "[encoded data removed]",
            "text/plain": [
              "<Figure size 432x288 with 1 Axes>"
            ]
          },
          "metadata": {
            "tags": [],
            "needs_background": "light"
          }
        }
      ]
    },
    {
      "cell_type": "code",
      "metadata": {
        "id": "evgZWIsqSQof",
        "colab_type": "code",
        "colab": {
          "base_uri": "https://localhost:8080/",
          "height": 298
        },
        "outputId": "2d06d5fa-84a1-4341-90e5-a25876b5539f"
      },
      "source": [
        "plt.title(\"Digit:\"+str(train_labels[0]))\n",
        "plt.imshow(train_digits[0],cmap=\"gray\")"
      ],
      "execution_count": 7,
      "outputs": [
        {
          "output_type": "execute_result",
          "data": {
            "text/plain": [
              "<matplotlib.image.AxesImage at 0x7f371fe71278>"
            ]
          },
          "metadata": {
            "tags": []
          },
          "execution_count": 7
        },
        {
          "output_type": "display_data",
          "data": {
            "image/png": "[encoded data removed]",
            "text/plain": [
              "<Figure size 432x288 with 1 Axes>"
            ]
          },
          "metadata": {
            "tags": [],
            "needs_background": "light"
          }
        }
      ]
    },
    {
      "cell_type": "code",
      "metadata": {
        "id": "QLwGlcB-ST51",
        "colab_type": "code",
        "colab": {
          "base_uri": "https://localhost:8080/",
          "height": 265
        },
        "outputId": "2bd53292-0094-47ea-c9a9-25933678fdbd"
      },
      "source": [
        "plt.hist(train_digits[0])\n",
        "plt.show()"
      ],
      "execution_count": 8,
      "outputs": [
        {
          "output_type": "display_data",
          "data": {
            "image/png": "[encoded data removed]",
            "text/plain": [
              "<Figure size 432x288 with 1 Axes>"
            ]
          },
          "metadata": {
            "tags": [],
            "needs_background": "light"
          }
        }
      ]
    },
    {
      "cell_type": "code",
      "metadata": {
        "id": "DdWhKNcVSW9O",
        "colab_type": "code",
        "colab": {
          "base_uri": "https://localhost:8080/",
          "height": 51
        },
        "outputId": "8f60b84e-fa9d-4108-9318-4df443ab18b1"
      },
      "source": [
        "samp=np.random.randint(train_digits.shape[0],size=16)\n",
        "samp"
      ],
      "execution_count": 9,
      "outputs": [
        {
          "output_type": "execute_result",
          "data": {
            "text/plain": [
              "array([33964, 20724, 43003, 35908,  8242, 12056, 42107, 52389, 48049,\n",
              "       38495, 26850, 27229, 25469, 23107, 23949, 35630])"
            ]
          },
          "metadata": {
            "tags": []
          },
          "execution_count": 9
        }
      ]
    },
    {
      "cell_type": "code",
      "metadata": {
        "id": "zgtcBY0VSact",
        "colab_type": "code",
        "colab": {
          "base_uri": "https://localhost:8080/",
          "height": 917
        },
        "outputId": "532a36aa-29dd-4253-a902-ea2903e6c0d5"
      },
      "source": [
        "plt.figure(figsize=(16,16))\n",
        "j=1\n",
        "for i in samp:\n",
        "  plt.subplot(4,4,j)\n",
        "  plt.imshow(train_digits[i])\n",
        "  plt.title(\"Digit:\"+str(train_labels[i]))\n",
        "  plt.axis(\"off\")\n",
        "  j=j+1"
      ],
      "execution_count": 10,
      "outputs": [
        {
          "output_type": "display_data",
          "data": {
            "image/png": "[encoded data removed]",
            "text/plain": [
              "<Figure size 1152x1152 with 16 Axes>"
            ]
          },
          "metadata": {
            "tags": [],
            "needs_background": "light"
          }
        }
      ]
    },
    {
      "cell_type": "code",
      "metadata": {
        "id": "lSgF0i7nSd1n",
        "colab_type": "code",
        "colab": {}
      },
      "source": [
        "train_digits_sc=train_digits/255.0\n",
        "test_digits_sc=test_digits/255.0"
      ],
      "execution_count": 11,
      "outputs": []
    },
    {
      "cell_type": "code",
      "metadata": {
        "id": "XW9cQ1dGSh1S",
        "colab_type": "code",
        "colab": {}
      },
      "source": [
        "from keras.utils import to_categorical"
      ],
      "execution_count": 12,
      "outputs": []
    },
    {
      "cell_type": "code",
      "metadata": {
        "id": "N80bf3grSjuO",
        "colab_type": "code",
        "colab": {}
      },
      "source": [
        "train_labels_cat=to_categorical(train_labels)"
      ],
      "execution_count": 13,
      "outputs": []
    },
    {
      "cell_type": "code",
      "metadata": {
        "id": "QQTNIoA0SmKl",
        "colab_type": "code",
        "colab": {}
      },
      "source": [
        "test_labels_cat=to_categorical(test_labels)"
      ],
      "execution_count": 14,
      "outputs": []
    },
    {
      "cell_type": "code",
      "metadata": {
        "id": "4atI5yffSps9",
        "colab_type": "code",
        "colab": {
          "base_uri": "https://localhost:8080/",
          "height": 85
        },
        "outputId": "d3accf76-6ddc-47b0-80b1-fc30b1e2ba2b"
      },
      "source": [
        "from sklearn.model_selection import train_test_split\n",
        "x_train,x_val,y_train,y_val=train_test_split(train_digits_sc,train_labels_cat,test_size=0.1,random_state=32)\n",
        "print(x_train.shape)\n",
        "print(x_val.shape)\n",
        "print(y_train.shape)\n",
        "print(y_val.shape)"
      ],
      "execution_count": 15,
      "outputs": [
        {
          "output_type": "stream",
          "text": [
            "(54000, 28, 28)\n",
            "(6000, 28, 28)\n",
            "(54000, 10)\n",
            "(6000, 10)\n"
          ],
          "name": "stdout"
        }
      ]
    },
    {
      "cell_type": "code",
      "metadata": {
        "id": "fIXdfoEeStDN",
        "colab_type": "code",
        "colab": {
          "base_uri": "https://localhost:8080/",
          "height": 357
        },
        "outputId": "b46aecb1-46e3-4357-b1a2-b4f1e1822485"
      },
      "source": [
        "from keras.models import Sequential\n",
        "from keras.layers import Dense,Flatten\n",
        "\n",
        "model = Sequential()\n",
        "# first layer we need to mention the input shape\n",
        "\n",
        "model.add(Flatten(input_shape=(28,28)))\n",
        "## 784 pixel values as input to this Dense. 128 Neurons in the layers\n",
        "model.add(Dense(128,activation='relu'))# 784 * 128+128\n",
        "model.add(Dense(128,activation='relu'))# \n",
        "model.add(Dense(64,activation='relu'))\n",
        "model.add(Dense(256,activation='relu'))\n",
        "#Final layer\n",
        "model.add(Dense(10,activation='softmax'))\n",
        "model.summary()"
      ],
      "execution_count": 16,
      "outputs": [
        {
          "output_type": "stream",
          "text": [
            "Model: \"sequential_1\"\n",
            "_________________________________________________________________\n",
            "Layer (type)                 Output Shape              Param #   \n",
            "=================================================================\n",
            "flatten_1 (Flatten)          (None, 784)               0         \n",
            "_________________________________________________________________\n",
            "dense_1 (Dense)              (None, 128)               100480    \n",
            "_________________________________________________________________\n",
            "dense_2 (Dense)              (None, 128)               16512     \n",
            "_________________________________________________________________\n",
            "dense_3 (Dense)              (None, 64)                8256      \n",
            "_________________________________________________________________\n",
            "dense_4 (Dense)              (None, 256)               16640     \n",
            "_________________________________________________________________\n",
            "dense_5 (Dense)              (None, 10)                2570      \n",
            "=================================================================\n",
            "Total params: 144,458\n",
            "Trainable params: 144,458\n",
            "Non-trainable params: 0\n",
            "_________________________________________________________________\n"
          ],
          "name": "stdout"
        }
      ]
    },
    {
      "cell_type": "code",
      "metadata": {
        "id": "ixpw8N8-Sw68",
        "colab_type": "code",
        "colab": {}
      },
      "source": [
        "model.compile(optimizer='adam',loss=tf.keras.losses.CategoricalCrossentropy(),metrics=['accuracy'])"
      ],
      "execution_count": 17,
      "outputs": []
    },
    {
      "cell_type": "code",
      "metadata": {
        "id": "JxbsGuHrS0w2",
        "colab_type": "code",
        "colab": {
          "base_uri": "https://localhost:8080/",
          "height": 204
        },
        "outputId": "80dab46f-2fec-4827-cf6d-b3755d2f5c50"
      },
      "source": [
        "history=model.fit(x=x_train,y=y_train,epochs=5,validation_data=(x_val,y_val),batch_size=32)"
      ],
      "execution_count": 18,
      "outputs": [
        {
          "output_type": "stream",
          "text": [
            "Train on 54000 samples, validate on 6000 samples\n",
            "Epoch 1/5\n",
            "54000/54000 [==============================] - 6s 111us/step - loss: 0.2466 - accuracy: 0.9270 - val_loss: 0.1359 - val_accuracy: 0.9602\n",
            "Epoch 2/5\n",
            "54000/54000 [==============================] - 6s 104us/step - loss: 0.1091 - accuracy: 0.9664 - val_loss: 0.1139 - val_accuracy: 0.9670\n",
            "Epoch 3/5\n",
            "54000/54000 [==============================] - 6s 105us/step - loss: 0.0818 - accuracy: 0.9754 - val_loss: 0.0879 - val_accuracy: 0.9762\n",
            "Epoch 4/5\n",
            "54000/54000 [==============================] - 6s 103us/step - loss: 0.0674 - accuracy: 0.9801 - val_loss: 0.1020 - val_accuracy: 0.9720\n",
            "Epoch 5/5\n",
            "54000/54000 [==============================] - 6s 104us/step - loss: 0.0543 - accuracy: 0.9827 - val_loss: 0.1017 - val_accuracy: 0.9713\n"
          ],
          "name": "stdout"
        }
      ]
    },
    {
      "cell_type": "code",
      "metadata": {
        "id": "jTnW_DOnS2-n",
        "colab_type": "code",
        "colab": {
          "base_uri": "https://localhost:8080/",
          "height": 51
        },
        "outputId": "303763b1-1653-48aa-fb33-1cd41b440c2f"
      },
      "source": [
        "model.evaluate(test_digits_sc,test_labels_cat)"
      ],
      "execution_count": 19,
      "outputs": [
        {
          "output_type": "stream",
          "text": [
            "10000/10000 [==============================] - 0s 29us/step\n"
          ],
          "name": "stdout"
        },
        {
          "output_type": "execute_result",
          "data": {
            "text/plain": [
              "[0.10123616563688556, 0.9724000096321106]"
            ]
          },
          "metadata": {
            "tags": []
          },
          "execution_count": 19
        }
      ]
    },
    {
      "cell_type": "code",
      "metadata": {
        "id": "Noeed_5RS_XQ",
        "colab_type": "code",
        "colab": {
          "base_uri": "https://localhost:8080/",
          "height": 68
        },
        "outputId": "70b020ef-2c63-4ab8-c294-5de00a739e79"
      },
      "source": [
        "print(test_digits_sc.shape)\n",
        "print(test_digits_sc[0].shape)\n",
        "print(np.expand_dims(test_digits_sc[0],axis=0).shape)"
      ],
      "execution_count": 20,
      "outputs": [
        {
          "output_type": "stream",
          "text": [
            "(10000, 28, 28)\n",
            "(28, 28)\n",
            "(1, 28, 28)\n"
          ],
          "name": "stdout"
        }
      ]
    },
    {
      "cell_type": "code",
      "metadata": {
        "id": "m9lp4N-ITDeo",
        "colab_type": "code",
        "colab": {
          "base_uri": "https://localhost:8080/",
          "height": 68
        },
        "outputId": "18c4c4a2-f162-43a0-8523-1d1f123998e5"
      },
      "source": [
        "model.predict(np.expand_dims(test_digits_sc[0],axis=0))"
      ],
      "execution_count": 21,
      "outputs": [
        {
          "output_type": "execute_result",
          "data": {
            "text/plain": [
              "array([[3.76154212e-11, 1.05548956e-07, 5.79486368e-06, 3.51341178e-08,\n",
              "        2.27156037e-11, 7.32990058e-12, 4.28683883e-14, 9.99994040e-01,\n",
              "        1.49486964e-10, 1.16385159e-08]], dtype=float32)"
            ]
          },
          "metadata": {
            "tags": []
          },
          "execution_count": 21
        }
      ]
    },
    {
      "cell_type": "code",
      "metadata": {
        "id": "n57GrmrdTGYN",
        "colab_type": "code",
        "colab": {
          "base_uri": "https://localhost:8080/",
          "height": 527
        },
        "outputId": "1decd233-da02-4fc4-8155-35c14fe3b5a6"
      },
      "source": [
        "model.predict(test_digits_sc[:10])"
      ],
      "execution_count": 22,
      "outputs": [
        {
          "output_type": "execute_result",
          "data": {
            "text/plain": [
              "array([[3.76154212e-11, 1.05549155e-07, 5.79486914e-06, 3.51341818e-08,\n",
              "        2.27156453e-11, 7.32990058e-12, 4.28683883e-14, 9.99994040e-01,\n",
              "        1.49487256e-10, 1.16385381e-08],\n",
              "       [9.76382974e-10, 2.93829942e-07, 9.99999404e-01, 1.18019940e-07,\n",
              "        2.23959371e-12, 2.78497975e-10, 1.35310332e-10, 1.43522300e-07,\n",
              "        1.50676888e-10, 5.17878926e-14],\n",
              "       [2.38599739e-07, 9.99923229e-01, 6.48197101e-06, 1.07951017e-07,\n",
              "        2.47255912e-06, 1.62058299e-07, 2.87979356e-06, 3.91164212e-05,\n",
              "        2.52710961e-05, 7.60582708e-08],\n",
              "       [9.99772727e-01, 6.02430461e-09, 4.02044934e-05, 1.19743527e-06,\n",
              "        1.68467488e-06, 5.69393633e-05, 7.23014182e-06, 2.98610921e-05,\n",
              "        3.54736414e-07, 8.98903818e-05],\n",
              "       [2.33637948e-07, 4.98690262e-08, 1.03097113e-06, 1.18197914e-08,\n",
              "        9.14747119e-01, 6.99998691e-06, 1.64517814e-07, 2.66090683e-06,\n",
              "        1.70814951e-06, 8.52400661e-02],\n",
              "       [1.43027545e-09, 9.99995708e-01, 2.40565612e-07, 1.42049350e-09,\n",
              "        7.17785085e-08, 1.22819810e-09, 4.84841856e-08, 3.39527514e-06,\n",
              "        5.44587465e-07, 4.90260055e-10],\n",
              "       [2.36687953e-07, 1.01200260e-06, 2.53086682e-06, 5.67367273e-08,\n",
              "        9.96763587e-01, 7.69721100e-06, 1.56819033e-06, 1.80192910e-05,\n",
              "        8.51584045e-05, 3.12024984e-03],\n",
              "       [4.98194959e-06, 5.85444968e-06, 1.67973238e-04, 5.62778034e-04,\n",
              "        5.75433718e-04, 2.40416281e-04, 3.41617152e-07, 2.19173700e-04,\n",
              "        1.08813656e-04, 9.98114228e-01],\n",
              "       [1.87338017e-07, 2.61123621e-08, 2.90580306e-06, 5.20434287e-06,\n",
              "        1.52490775e-05, 9.67735469e-01, 3.11782472e-02, 8.96296903e-09,\n",
              "        9.74925992e-04, 8.78448991e-05],\n",
              "       [1.24307886e-09, 1.14954168e-09, 5.61609148e-10, 7.13363757e-10,\n",
              "        1.72493110e-05, 1.80482329e-09, 8.51090845e-13, 1.11371399e-07,\n",
              "        1.39194334e-09, 9.99982595e-01]], dtype=float32)"
            ]
          },
          "metadata": {
            "tags": []
          },
          "execution_count": 22
        }
      ]
    },
    {
      "cell_type": "code",
      "metadata": {
        "id": "LbY6k0okTIRD",
        "colab_type": "code",
        "colab": {
          "base_uri": "https://localhost:8080/",
          "height": 34
        },
        "outputId": "056ce6d6-bf76-4787-b572-19971ea9d405"
      },
      "source": [
        "model.predict_classes(np.expand_dims(test_digits_sc[0],axis=0))"
      ],
      "execution_count": 23,
      "outputs": [
        {
          "output_type": "execute_result",
          "data": {
            "text/plain": [
              "array([7])"
            ]
          },
          "metadata": {
            "tags": []
          },
          "execution_count": 23
        }
      ]
    },
    {
      "cell_type": "code",
      "metadata": {
        "id": "2fc0Yri-TLPQ",
        "colab_type": "code",
        "colab": {
          "base_uri": "https://localhost:8080/",
          "height": 68
        },
        "outputId": "5bdd8658-bbd9-4ab3-9577-044fd642f2e1"
      },
      "source": [
        "model.predict_proba(np.expand_dims(test_digits_sc[0],axis=0))"
      ],
      "execution_count": 24,
      "outputs": [
        {
          "output_type": "execute_result",
          "data": {
            "text/plain": [
              "array([[3.76154212e-11, 1.05548956e-07, 5.79486368e-06, 3.51341178e-08,\n",
              "        2.27156037e-11, 7.32990058e-12, 4.28683883e-14, 9.99994040e-01,\n",
              "        1.49486964e-10, 1.16385159e-08]], dtype=float32)"
            ]
          },
          "metadata": {
            "tags": []
          },
          "execution_count": 24
        }
      ]
    },
    {
      "cell_type": "code",
      "metadata": {
        "id": "awoNE2gcTNr6",
        "colab_type": "code",
        "colab": {
          "base_uri": "https://localhost:8080/",
          "height": 289
        },
        "outputId": "1dba2785-c463-41ff-fedc-b057e7d8773c"
      },
      "source": [
        "history.history"
      ],
      "execution_count": 25,
      "outputs": [
        {
          "output_type": "execute_result",
          "data": {
            "text/plain": [
              "{'accuracy': [0.9270185, 0.9663889, 0.97535187, 0.98007405, 0.9826852],\n",
              " 'loss': [0.24663899047465787,\n",
              "  0.10913361402359549,\n",
              "  0.08184948975287584,\n",
              "  0.06739607145999454,\n",
              "  0.054340534914112476],\n",
              " 'val_accuracy': [0.9601666927337646,\n",
              "  0.9670000076293945,\n",
              "  0.9761666655540466,\n",
              "  0.972000002861023,\n",
              "  0.9713333249092102],\n",
              " 'val_loss': [0.13591732425491015,\n",
              "  0.11387967252358794,\n",
              "  0.08791806682633857,\n",
              "  0.10204213542180757,\n",
              "  0.10166600266859556]}"
            ]
          },
          "metadata": {
            "tags": []
          },
          "execution_count": 25
        }
      ]
    },
    {
      "cell_type": "code",
      "metadata": {
        "id": "QAvRcs8qTRzE",
        "colab_type": "code",
        "colab": {
          "base_uri": "https://localhost:8080/",
          "height": 282
        },
        "outputId": "a44a78b6-8d82-44d8-d11b-c46c423b523a"
      },
      "source": [
        "plt.plot(history.history['accuracy'])\n",
        "plt.plot(history.history['val_accuracy'])"
      ],
      "execution_count": 26,
      "outputs": [
        {
          "output_type": "execute_result",
          "data": {
            "text/plain": [
              "[<matplotlib.lines.Line2D at 0x7f3711441a90>]"
            ]
          },
          "metadata": {
            "tags": []
          },
          "execution_count": 26
        },
        {
          "output_type": "display_data",
          "data": {
            "image/png": "[encoded data removed]",
            "text/plain": [
              "<Figure size 432x288 with 1 Axes>"
            ]
          },
          "metadata": {
            "tags": [],
            "needs_background": "light"
          }
        }
      ]
    },
    {
      "cell_type": "code",
      "metadata": {
        "id": "0ACM2pOOTVIZ",
        "colab_type": "code",
        "colab": {
          "base_uri": "https://localhost:8080/",
          "height": 357
        },
        "outputId": "afa4a91f-7ed9-486e-e8dd-9fc1e3631e92"
      },
      "source": [
        "model1 = Sequential()\n",
        "# first layer we need to mention the input shape\n",
        "\n",
        "model1.add(Flatten(input_shape=(28,28)))\n",
        "## 784 pixel values as input to this Dense. 128 Neurons in the layers\n",
        "model1.add(Dense(128,activation='relu'))# 784 * 128+128\n",
        "model1.add(Dense(256,activation='relu'))# \n",
        "model1.add(Dense(64,activation='relu'))\n",
        "model1.add(Dense(256,activation='relu'))\n",
        "#Final layer\n",
        "model1.add(Dense(10,activation='sigmoid'))\n",
        "model1.summary()"
      ],
      "execution_count": 27,
      "outputs": [
        {
          "output_type": "stream",
          "text": [
            "Model: \"sequential_2\"\n",
            "_________________________________________________________________\n",
            "Layer (type)                 Output Shape              Param #   \n",
            "=================================================================\n",
            "flatten_2 (Flatten)          (None, 784)               0         \n",
            "_________________________________________________________________\n",
            "dense_6 (Dense)              (None, 128)               100480    \n",
            "_________________________________________________________________\n",
            "dense_7 (Dense)              (None, 256)               33024     \n",
            "_________________________________________________________________\n",
            "dense_8 (Dense)              (None, 64)                16448     \n",
            "_________________________________________________________________\n",
            "dense_9 (Dense)              (None, 256)               16640     \n",
            "_________________________________________________________________\n",
            "dense_10 (Dense)             (None, 10)                2570      \n",
            "=================================================================\n",
            "Total params: 169,162\n",
            "Trainable params: 169,162\n",
            "Non-trainable params: 0\n",
            "_________________________________________________________________\n"
          ],
          "name": "stdout"
        }
      ]
    },
    {
      "cell_type": "code",
      "metadata": {
        "id": "rxZ0wbIvTYLV",
        "colab_type": "code",
        "colab": {}
      },
      "source": [
        "model1.compile(optimizer='adam',loss=tf.keras.losses.CategoricalCrossentropy(),metrics=['accuracy'])"
      ],
      "execution_count": 28,
      "outputs": []
    },
    {
      "cell_type": "code",
      "metadata": {
        "id": "tcVpOjMPThXk",
        "colab_type": "code",
        "colab": {
          "base_uri": "https://localhost:8080/",
          "height": 204
        },
        "outputId": "ec792059-36e8-4435-e5d8-a42ab0490172"
      },
      "source": [
        "history=model1.fit(x=x_train,y=y_train,epochs=5,validation_data=(x_val,y_val),batch_size=32)"
      ],
      "execution_count": 29,
      "outputs": [
        {
          "output_type": "stream",
          "text": [
            "Train on 54000 samples, validate on 6000 samples\n",
            "Epoch 1/5\n",
            "54000/54000 [==============================] - 6s 117us/step - loss: 0.2633 - accuracy: 0.9198 - val_loss: 0.1529 - val_accuracy: 0.9563\n",
            "Epoch 2/5\n",
            "54000/54000 [==============================] - 6s 114us/step - loss: 0.1105 - accuracy: 0.9675 - val_loss: 0.1194 - val_accuracy: 0.9677\n",
            "Epoch 3/5\n",
            "54000/54000 [==============================] - 6s 120us/step - loss: 0.0817 - accuracy: 0.9752 - val_loss: 0.1120 - val_accuracy: 0.9692\n",
            "Epoch 4/5\n",
            "54000/54000 [==============================] - 6s 117us/step - loss: 0.0626 - accuracy: 0.9810 - val_loss: 0.1019 - val_accuracy: 0.9742\n",
            "Epoch 5/5\n",
            "54000/54000 [==============================] - 6s 115us/step - loss: 0.0538 - accuracy: 0.9839 - val_loss: 0.0903 - val_accuracy: 0.9768\n"
          ],
          "name": "stdout"
        }
      ]
    },
    {
      "cell_type": "code",
      "metadata": {
        "id": "WLBINkjJTjmc",
        "colab_type": "code",
        "colab": {
          "base_uri": "https://localhost:8080/",
          "height": 51
        },
        "outputId": "28cc1c6b-2d0b-49d9-ee26-d8f68501838d"
      },
      "source": [
        "model1.evaluate(test_digits_sc,test_labels_cat)"
      ],
      "execution_count": 30,
      "outputs": [
        {
          "output_type": "stream",
          "text": [
            "10000/10000 [==============================] - 0s 30us/step\n"
          ],
          "name": "stdout"
        },
        {
          "output_type": "execute_result",
          "data": {
            "text/plain": [
              "[0.08221090408244636, 0.9775999784469604]"
            ]
          },
          "metadata": {
            "tags": []
          },
          "execution_count": 30
        }
      ]
    },
    {
      "cell_type": "code",
      "metadata": {
        "id": "HfCZSjYDTsgx",
        "colab_type": "code",
        "colab": {
          "base_uri": "https://localhost:8080/",
          "height": 68
        },
        "outputId": "fa0cd8b6-f9e1-43c1-9542-df14185ce18d"
      },
      "source": [
        "print(test_digits_sc.shape)\n",
        "print(test_digits_sc[0].shape)\n",
        "print(np.expand_dims(test_digits_sc[0],axis=0).shape)"
      ],
      "execution_count": 31,
      "outputs": [
        {
          "output_type": "stream",
          "text": [
            "(10000, 28, 28)\n",
            "(28, 28)\n",
            "(1, 28, 28)\n"
          ],
          "name": "stdout"
        }
      ]
    },
    {
      "cell_type": "code",
      "metadata": {
        "id": "ab6IcT2WTuh1",
        "colab_type": "code",
        "colab": {
          "base_uri": "https://localhost:8080/",
          "height": 68
        },
        "outputId": "10700806-108c-4eb6-d90f-2c2b1c9b4a0e"
      },
      "source": [
        "model.predict(np.expand_dims(test_digits_sc[0],axis=0))"
      ],
      "execution_count": 32,
      "outputs": [
        {
          "output_type": "execute_result",
          "data": {
            "text/plain": [
              "array([[3.76154212e-11, 1.05548956e-07, 5.79486368e-06, 3.51341178e-08,\n",
              "        2.27156037e-11, 7.32990058e-12, 4.28683883e-14, 9.99994040e-01,\n",
              "        1.49486964e-10, 1.16385159e-08]], dtype=float32)"
            ]
          },
          "metadata": {
            "tags": []
          },
          "execution_count": 32
        }
      ]
    },
    {
      "cell_type": "code",
      "metadata": {
        "id": "THzdNLe6TyTj",
        "colab_type": "code",
        "colab": {
          "base_uri": "https://localhost:8080/",
          "height": 527
        },
        "outputId": "2521d8f7-6c1d-4f4b-a7e1-3bcf266ff8f1"
      },
      "source": [
        "model.predict(test_digits_sc[:10])\n"
      ],
      "execution_count": 33,
      "outputs": [
        {
          "output_type": "execute_result",
          "data": {
            "text/plain": [
              "array([[3.76154212e-11, 1.05549155e-07, 5.79486914e-06, 3.51341818e-08,\n",
              "        2.27156453e-11, 7.32990058e-12, 4.28683883e-14, 9.99994040e-01,\n",
              "        1.49487256e-10, 1.16385381e-08],\n",
              "       [9.76382974e-10, 2.93829942e-07, 9.99999404e-01, 1.18019940e-07,\n",
              "        2.23959371e-12, 2.78497975e-10, 1.35310332e-10, 1.43522300e-07,\n",
              "        1.50676888e-10, 5.17878926e-14],\n",
              "       [2.38599739e-07, 9.99923229e-01, 6.48197101e-06, 1.07951017e-07,\n",
              "        2.47255912e-06, 1.62058299e-07, 2.87979356e-06, 3.91164212e-05,\n",
              "        2.52710961e-05, 7.60582708e-08],\n",
              "       [9.99772727e-01, 6.02430461e-09, 4.02044934e-05, 1.19743527e-06,\n",
              "        1.68467488e-06, 5.69393633e-05, 7.23014182e-06, 2.98610921e-05,\n",
              "        3.54736414e-07, 8.98903818e-05],\n",
              "       [2.33637948e-07, 4.98690262e-08, 1.03097113e-06, 1.18197914e-08,\n",
              "        9.14747119e-01, 6.99998691e-06, 1.64517814e-07, 2.66090683e-06,\n",
              "        1.70814951e-06, 8.52400661e-02],\n",
              "       [1.43027545e-09, 9.99995708e-01, 2.40565612e-07, 1.42049350e-09,\n",
              "        7.17785085e-08, 1.22819810e-09, 4.84841856e-08, 3.39527514e-06,\n",
              "        5.44587465e-07, 4.90260055e-10],\n",
              "       [2.36687953e-07, 1.01200260e-06, 2.53086682e-06, 5.67367273e-08,\n",
              "        9.96763587e-01, 7.69721100e-06, 1.56819033e-06, 1.80192910e-05,\n",
              "        8.51584045e-05, 3.12024984e-03],\n",
              "       [4.98194959e-06, 5.85444968e-06, 1.67973238e-04, 5.62778034e-04,\n",
              "        5.75433718e-04, 2.40416281e-04, 3.41617152e-07, 2.19173700e-04,\n",
              "        1.08813656e-04, 9.98114228e-01],\n",
              "       [1.87338017e-07, 2.61123621e-08, 2.90580306e-06, 5.20434287e-06,\n",
              "        1.52490775e-05, 9.67735469e-01, 3.11782472e-02, 8.96296903e-09,\n",
              "        9.74925992e-04, 8.78448991e-05],\n",
              "       [1.24307886e-09, 1.14954168e-09, 5.61609148e-10, 7.13363757e-10,\n",
              "        1.72493110e-05, 1.80482329e-09, 8.51090845e-13, 1.11371399e-07,\n",
              "        1.39194334e-09, 9.99982595e-01]], dtype=float32)"
            ]
          },
          "metadata": {
            "tags": []
          },
          "execution_count": 33
        }
      ]
    },
    {
      "cell_type": "code",
      "metadata": {
        "id": "b51wTygOT41p",
        "colab_type": "code",
        "colab": {
          "base_uri": "https://localhost:8080/",
          "height": 34
        },
        "outputId": "bade0697-2d79-496d-c90b-9f516b0c227f"
      },
      "source": [
        "model.predict_classes(np.expand_dims(test_digits_sc[0],axis=0))"
      ],
      "execution_count": 34,
      "outputs": [
        {
          "output_type": "execute_result",
          "data": {
            "text/plain": [
              "array([7])"
            ]
          },
          "metadata": {
            "tags": []
          },
          "execution_count": 34
        }
      ]
    },
    {
      "cell_type": "code",
      "metadata": {
        "id": "t2yvyCrgT9WR",
        "colab_type": "code",
        "colab": {
          "base_uri": "https://localhost:8080/",
          "height": 68
        },
        "outputId": "3a3ed681-141b-424c-fe2c-6345a805d511"
      },
      "source": [
        "model.predict_proba(np.expand_dims(test_digits_sc[0],axis=0))"
      ],
      "execution_count": 35,
      "outputs": [
        {
          "output_type": "execute_result",
          "data": {
            "text/plain": [
              "array([[3.76154212e-11, 1.05548956e-07, 5.79486368e-06, 3.51341178e-08,\n",
              "        2.27156037e-11, 7.32990058e-12, 4.28683883e-14, 9.99994040e-01,\n",
              "        1.49486964e-10, 1.16385159e-08]], dtype=float32)"
            ]
          },
          "metadata": {
            "tags": []
          },
          "execution_count": 35
        }
      ]
    },
    {
      "cell_type": "code",
      "metadata": {
        "id": "F9lrZB6YUET-",
        "colab_type": "code",
        "colab": {
          "base_uri": "https://localhost:8080/",
          "height": 289
        },
        "outputId": "a510790f-3e5a-46e7-c945-595bcba00607"
      },
      "source": [
        "history.history"
      ],
      "execution_count": 36,
      "outputs": [
        {
          "output_type": "execute_result",
          "data": {
            "text/plain": [
              "{'accuracy': [0.91983336, 0.9675185, 0.97518516, 0.981, 0.9839444],\n",
              " 'loss': [0.263279491311974,\n",
              "  0.11047874170307208,\n",
              "  0.08171538550072108,\n",
              "  0.0625821150612362,\n",
              "  0.0537701440099713],\n",
              " 'val_accuracy': [0.956333339214325,\n",
              "  0.9676666855812073,\n",
              "  0.9691666960716248,\n",
              "  0.9741666913032532,\n",
              "  0.9768333435058594],\n",
              " 'val_loss': [0.15290596607824167,\n",
              "  0.11941888653238615,\n",
              "  0.11201634951680899,\n",
              "  0.10186511615167061,\n",
              "  0.09026123433792964]}"
            ]
          },
          "metadata": {
            "tags": []
          },
          "execution_count": 36
        }
      ]
    },
    {
      "cell_type": "code",
      "metadata": {
        "id": "5ZUoZ_yeUHmn",
        "colab_type": "code",
        "colab": {
          "base_uri": "https://localhost:8080/",
          "height": 282
        },
        "outputId": "914bd6e2-4ecf-4a62-aaa2-c48512b13c81"
      },
      "source": [
        "plt.plot(history.history['accuracy'])\n",
        "plt.plot(history.history['val_accuracy'])"
      ],
      "execution_count": 37,
      "outputs": [
        {
          "output_type": "execute_result",
          "data": {
            "text/plain": [
              "[<matplotlib.lines.Line2D at 0x7f37105f98d0>]"
            ]
          },
          "metadata": {
            "tags": []
          },
          "execution_count": 37
        },
        {
          "output_type": "display_data",
          "data": {
            "image/png": "[encoded data removed]",
            "text/plain": [
              "<Figure size 432x288 with 1 Axes>"
            ]
          },
          "metadata": {
            "tags": [],
            "needs_background": "light"
          }
        }
      ]
    },
    {
      "cell_type": "code",
      "metadata": {
        "id": "Vs5B6YVDULa0",
        "colab_type": "code",
        "colab": {}
      },
      "source": [
        ""
      ],
      "execution_count": null,
      "outputs": []
    }
  ]
}