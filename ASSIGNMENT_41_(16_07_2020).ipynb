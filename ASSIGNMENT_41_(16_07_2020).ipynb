{
  "nbformat": 4,
  "nbformat_minor": 0,
  "metadata": {
    "colab": {
      "name": "ASSIGNMENT 41 (16.07.2020).ipynb",
      "provenance": []
    },
    "kernelspec": {
      "name": "python3",
      "display_name": "Python 3"
    }
  },
  "cells": [
    {
      "cell_type": "markdown",
      "metadata": {
        "id": "z1AhG_LdZ93i",
        "colab_type": "text"
      },
      "source": [
        "### Get the data\n",
        "### what is the target\n",
        "### Take the target and observe downtrend or uptrend\n",
        "### Create input(features) and ouputs(target)\n",
        "### Train_test_split\n",
        "### Reshape the inputs\n",
        "### Create a Model\n",
        "### Compile the model with the proper optimizer and loss\n",
        "### Evaluate the model with test data\n",
        "\n"
      ]
    },
    {
      "cell_type": "code",
      "metadata": {
        "id": "wXS4xRng7ZXx",
        "colab_type": "code",
        "colab": {
          "base_uri": "https://localhost:8080/",
          "height": 139
        },
        "outputId": "a74455f5-5a29-4871-f48c-ff261debe060"
      },
      "source": [
        "from google.colab import drive\n",
        "drive.mount('/gdrive')\n",
        "%cd /gdrive"
      ],
      "execution_count": 1,
      "outputs": [
        {
          "output_type": "stream",
          "text": [
            "Go to this URL in a browser: https://accounts.google.com/o/oauth2/auth?client_id=947318989803-6bn6qk8qdgf4n4g3pfee6491hc0brc4i.apps.googleusercontent.com&redirect_uri=urn%3aietf%3awg%3aoauth%3a2.0%3aoob&response_type=code&scope=email%20https%3a%2f%2fwww.googleapis.com%2fauth%2fdocs.test%20https%3a%2f%2fwww.googleapis.com%2fauth%2fdrive%20https%3a%2f%2fwww.googleapis.com%2fauth%2fdrive.photos.readonly%20https%3a%2f%2fwww.googleapis.com%2fauth%2fpeopleapi.readonly\n",
            "\n",
            "Enter your authorization code:\n",
            "··········\n",
            "Mounted at /gdrive\n",
            "/gdrive\n"
          ],
          "name": "stdout"
        }
      ]
    },
    {
      "cell_type": "code",
      "metadata": {
        "id": "0zv41pAp7-vS",
        "colab_type": "code",
        "colab": {
          "base_uri": "https://localhost:8080/",
          "height": 51
        },
        "outputId": "3825d259-d571-4dae-fdd3-4fe7172281a8"
      },
      "source": [
        "!ls 'My Drive/Summer internship'"
      ],
      "execution_count": 2,
      "outputs": [
        {
          "output_type": "stream",
          "text": [
            "1908_17155_bundle_archive.zip  all_stocks_5yr.csv\n",
            "20-06-2020.ipynb\t       titanic.csv\n"
          ],
          "name": "stdout"
        }
      ]
    },
    {
      "cell_type": "code",
      "metadata": {
        "id": "sgiRydfk8KzO",
        "colab_type": "code",
        "colab": {
          "base_uri": "https://localhost:8080/",
          "height": 34
        },
        "outputId": "f5afba37-0f33-435b-c919-59624163b7c1"
      },
      "source": [
        "#all_stocks_5yr.csv\n",
        "import pandas as pd\n",
        "data = pd.read_csv('My Drive/Summer internship/all_stocks_5yr.csv')\n",
        "data.shape"
      ],
      "execution_count": 3,
      "outputs": [
        {
          "output_type": "execute_result",
          "data": {
            "text/plain": [
              "(619040, 7)"
            ]
          },
          "metadata": {
            "tags": []
          },
          "execution_count": 3
        }
      ]
    },
    {
      "cell_type": "code",
      "metadata": {
        "id": "mO2HVsdg8_uO",
        "colab_type": "code",
        "colab": {
          "base_uri": "https://localhost:8080/",
          "height": 204
        },
        "outputId": "eb21bdbe-afc5-4469-8508-7387821034cd"
      },
      "source": [
        "# Top Five rows\n",
        "data.head()"
      ],
      "execution_count": 4,
      "outputs": [
        {
          "output_type": "execute_result",
          "data": {
            "text/html": [
              "<div>\n",
              "<style scoped>\n",
              "    .dataframe tbody tr th:only-of-type {\n",
              "        vertical-align: middle;\n",
              "    }\n",
              "\n",
              "    .dataframe tbody tr th {\n",
              "        vertical-align: top;\n",
              "    }\n",
              "\n",
              "    .dataframe thead th {\n",
              "        text-align: right;\n",
              "    }\n",
              "</style>\n",
              "<table border=\"1\" class=\"dataframe\">\n",
              "  <thead>\n",
              "    <tr style=\"text-align: right;\">\n",
              "      <th></th>\n",
              "      <th>date</th>\n",
              "      <th>open</th>\n",
              "      <th>high</th>\n",
              "      <th>low</th>\n",
              "      <th>close</th>\n",
              "      <th>volume</th>\n",
              "      <th>Name</th>\n",
              "    </tr>\n",
              "  </thead>\n",
              "  <tbody>\n",
              "    <tr>\n",
              "      <th>0</th>\n",
              "      <td>2013-02-08</td>\n",
              "      <td>15.07</td>\n",
              "      <td>15.12</td>\n",
              "      <td>14.63</td>\n",
              "      <td>14.75</td>\n",
              "      <td>8407500</td>\n",
              "      <td>AAL</td>\n",
              "    </tr>\n",
              "    <tr>\n",
              "      <th>1</th>\n",
              "      <td>2013-02-11</td>\n",
              "      <td>14.89</td>\n",
              "      <td>15.01</td>\n",
              "      <td>14.26</td>\n",
              "      <td>14.46</td>\n",
              "      <td>8882000</td>\n",
              "      <td>AAL</td>\n",
              "    </tr>\n",
              "    <tr>\n",
              "      <th>2</th>\n",
              "      <td>2013-02-12</td>\n",
              "      <td>14.45</td>\n",
              "      <td>14.51</td>\n",
              "      <td>14.10</td>\n",
              "      <td>14.27</td>\n",
              "      <td>8126000</td>\n",
              "      <td>AAL</td>\n",
              "    </tr>\n",
              "    <tr>\n",
              "      <th>3</th>\n",
              "      <td>2013-02-13</td>\n",
              "      <td>14.30</td>\n",
              "      <td>14.94</td>\n",
              "      <td>14.25</td>\n",
              "      <td>14.66</td>\n",
              "      <td>10259500</td>\n",
              "      <td>AAL</td>\n",
              "    </tr>\n",
              "    <tr>\n",
              "      <th>4</th>\n",
              "      <td>2013-02-14</td>\n",
              "      <td>14.94</td>\n",
              "      <td>14.96</td>\n",
              "      <td>13.16</td>\n",
              "      <td>13.99</td>\n",
              "      <td>31879900</td>\n",
              "      <td>AAL</td>\n",
              "    </tr>\n",
              "  </tbody>\n",
              "</table>\n",
              "</div>"
            ],
            "text/plain": [
              "         date   open   high    low  close    volume Name\n",
              "0  2013-02-08  15.07  15.12  14.63  14.75   8407500  AAL\n",
              "1  2013-02-11  14.89  15.01  14.26  14.46   8882000  AAL\n",
              "2  2013-02-12  14.45  14.51  14.10  14.27   8126000  AAL\n",
              "3  2013-02-13  14.30  14.94  14.25  14.66  10259500  AAL\n",
              "4  2013-02-14  14.94  14.96  13.16  13.99  31879900  AAL"
            ]
          },
          "metadata": {
            "tags": []
          },
          "execution_count": 4
        }
      ]
    },
    {
      "cell_type": "code",
      "metadata": {
        "id": "xfdlWA-9-F8y",
        "colab_type": "code",
        "colab": {
          "base_uri": "https://localhost:8080/",
          "height": 34
        },
        "outputId": "244602fb-59e6-4543-d2c1-691fe8652acd"
      },
      "source": [
        "data.columns"
      ],
      "execution_count": 5,
      "outputs": [
        {
          "output_type": "execute_result",
          "data": {
            "text/plain": [
              "Index(['date', 'open', 'high', 'low', 'close', 'volume', 'Name'], dtype='object')"
            ]
          },
          "metadata": {
            "tags": []
          },
          "execution_count": 5
        }
      ]
    },
    {
      "cell_type": "code",
      "metadata": {
        "id": "O9fu2z0MXGd_",
        "colab_type": "code",
        "colab": {
          "base_uri": "https://localhost:8080/",
          "height": 221
        },
        "outputId": "b113bdb0-b0ca-4cb6-89b7-f39a17143945"
      },
      "source": [
        "data['Name'].value_counts()"
      ],
      "execution_count": 6,
      "outputs": [
        {
          "output_type": "execute_result",
          "data": {
            "text/plain": [
              "IT      1259\n",
              "LKQ     1259\n",
              "MU      1259\n",
              "GE      1259\n",
              "KLAC    1259\n",
              "        ... \n",
              "DXC      215\n",
              "BHGE     152\n",
              "BHF      143\n",
              "DWDP     109\n",
              "APTV      44\n",
              "Name: Name, Length: 505, dtype: int64"
            ]
          },
          "metadata": {
            "tags": []
          },
          "execution_count": 6
        }
      ]
    },
    {
      "cell_type": "code",
      "metadata": {
        "id": "3vKfEXxi-NwP",
        "colab_type": "code",
        "colab": {
          "base_uri": "https://localhost:8080/",
          "height": 34
        },
        "outputId": "9c9a156b-a9ff-4392-eee2-47994688cffc"
      },
      "source": [
        "### How many company's data we have here?\n",
        "data.Name.nunique()"
      ],
      "execution_count": 7,
      "outputs": [
        {
          "output_type": "execute_result",
          "data": {
            "text/plain": [
              "505"
            ]
          },
          "metadata": {
            "tags": []
          },
          "execution_count": 7
        }
      ]
    },
    {
      "cell_type": "code",
      "metadata": {
        "id": "au3mWKlM-U6Q",
        "colab_type": "code",
        "colab": {
          "base_uri": "https://localhost:8080/",
          "height": 34
        },
        "outputId": "4489534c-363a-4ccd-8723-843d2a88c4de"
      },
      "source": [
        "## Selecting the data \n",
        "df = data[data['Name']=='IT']\n",
        "df.shape"
      ],
      "execution_count": 8,
      "outputs": [
        {
          "output_type": "execute_result",
          "data": {
            "text/plain": [
              "(1259, 7)"
            ]
          },
          "metadata": {
            "tags": []
          },
          "execution_count": 8
        }
      ]
    },
    {
      "cell_type": "code",
      "metadata": {
        "id": "ptcOqm5w-vtp",
        "colab_type": "code",
        "colab": {
          "base_uri": "https://localhost:8080/",
          "height": 34
        },
        "outputId": "f869a0d2-d0d7-4882-f2df-30acd1495f62"
      },
      "source": [
        "df.columns"
      ],
      "execution_count": 9,
      "outputs": [
        {
          "output_type": "execute_result",
          "data": {
            "text/plain": [
              "Index(['date', 'open', 'high', 'low', 'close', 'volume', 'Name'], dtype='object')"
            ]
          },
          "metadata": {
            "tags": []
          },
          "execution_count": 9
        }
      ]
    },
    {
      "cell_type": "code",
      "metadata": {
        "id": "7PLWQr5P-ymJ",
        "colab_type": "code",
        "colab": {
          "base_uri": "https://localhost:8080/",
          "height": 419
        },
        "outputId": "49990a4d-f18a-46f3-bf18-2de54791cd17"
      },
      "source": [
        "#select the columns data and close price\n",
        "df = df[['date','close']]\n",
        "df"
      ],
      "execution_count": 10,
      "outputs": [
        {
          "output_type": "execute_result",
          "data": {
            "text/html": [
              "<div>\n",
              "<style scoped>\n",
              "    .dataframe tbody tr th:only-of-type {\n",
              "        vertical-align: middle;\n",
              "    }\n",
              "\n",
              "    .dataframe tbody tr th {\n",
              "        vertical-align: top;\n",
              "    }\n",
              "\n",
              "    .dataframe thead th {\n",
              "        text-align: right;\n",
              "    }\n",
              "</style>\n",
              "<table border=\"1\" class=\"dataframe\">\n",
              "  <thead>\n",
              "    <tr style=\"text-align: right;\">\n",
              "      <th></th>\n",
              "      <th>date</th>\n",
              "      <th>close</th>\n",
              "    </tr>\n",
              "  </thead>\n",
              "  <tbody>\n",
              "    <tr>\n",
              "      <th>310226</th>\n",
              "      <td>2013-02-08</td>\n",
              "      <td>49.75</td>\n",
              "    </tr>\n",
              "    <tr>\n",
              "      <th>310227</th>\n",
              "      <td>2013-02-11</td>\n",
              "      <td>49.49</td>\n",
              "    </tr>\n",
              "    <tr>\n",
              "      <th>310228</th>\n",
              "      <td>2013-02-12</td>\n",
              "      <td>49.37</td>\n",
              "    </tr>\n",
              "    <tr>\n",
              "      <th>310229</th>\n",
              "      <td>2013-02-13</td>\n",
              "      <td>48.90</td>\n",
              "    </tr>\n",
              "    <tr>\n",
              "      <th>310230</th>\n",
              "      <td>2013-02-14</td>\n",
              "      <td>48.53</td>\n",
              "    </tr>\n",
              "    <tr>\n",
              "      <th>...</th>\n",
              "      <td>...</td>\n",
              "      <td>...</td>\n",
              "    </tr>\n",
              "    <tr>\n",
              "      <th>311480</th>\n",
              "      <td>2018-02-01</td>\n",
              "      <td>138.83</td>\n",
              "    </tr>\n",
              "    <tr>\n",
              "      <th>311481</th>\n",
              "      <td>2018-02-02</td>\n",
              "      <td>135.19</td>\n",
              "    </tr>\n",
              "    <tr>\n",
              "      <th>311482</th>\n",
              "      <td>2018-02-05</td>\n",
              "      <td>128.25</td>\n",
              "    </tr>\n",
              "    <tr>\n",
              "      <th>311483</th>\n",
              "      <td>2018-02-06</td>\n",
              "      <td>124.02</td>\n",
              "    </tr>\n",
              "    <tr>\n",
              "      <th>311484</th>\n",
              "      <td>2018-02-07</td>\n",
              "      <td>119.45</td>\n",
              "    </tr>\n",
              "  </tbody>\n",
              "</table>\n",
              "<p>1259 rows × 2 columns</p>\n",
              "</div>"
            ],
            "text/plain": [
              "              date   close\n",
              "310226  2013-02-08   49.75\n",
              "310227  2013-02-11   49.49\n",
              "310228  2013-02-12   49.37\n",
              "310229  2013-02-13   48.90\n",
              "310230  2013-02-14   48.53\n",
              "...            ...     ...\n",
              "311480  2018-02-01  138.83\n",
              "311481  2018-02-02  135.19\n",
              "311482  2018-02-05  128.25\n",
              "311483  2018-02-06  124.02\n",
              "311484  2018-02-07  119.45\n",
              "\n",
              "[1259 rows x 2 columns]"
            ]
          },
          "metadata": {
            "tags": []
          },
          "execution_count": 10
        }
      ]
    },
    {
      "cell_type": "code",
      "metadata": {
        "id": "MpbU4HfJ_B3b",
        "colab_type": "code",
        "colab": {
          "base_uri": "https://localhost:8080/",
          "height": 282
        },
        "outputId": "baa16e0e-d2bb-49e3-dc26-32269d027919"
      },
      "source": [
        "#line plot\n",
        "import matplotlib.pyplot as plt\n",
        "plt.plot(df['date'],df['close'])"
      ],
      "execution_count": 11,
      "outputs": [
        {
          "output_type": "execute_result",
          "data": {
            "text/plain": [
              "[<matplotlib.lines.Line2D at 0x7f9e688be5f8>]"
            ]
          },
          "metadata": {
            "tags": []
          },
          "execution_count": 11
        },
        {
          "output_type": "display_data",
          "data": {
            "image/png": "[encoded data removed]",
            "text/plain": [
              "<Figure size 432x288 with 1 Axes>"
            ]
          },
          "metadata": {
            "tags": [],
            "needs_background": "light"
          }
        }
      ]
    },
    {
      "cell_type": "code",
      "metadata": {
        "id": "TPjGRa3t_On2",
        "colab_type": "code",
        "colab": {
          "base_uri": "https://localhost:8080/",
          "height": 204
        },
        "outputId": "8daa1e1e-1f41-4150-84fe-128f0146f9e6"
      },
      "source": [
        "df.date[:10]"
      ],
      "execution_count": 12,
      "outputs": [
        {
          "output_type": "execute_result",
          "data": {
            "text/plain": [
              "310226    2013-02-08\n",
              "310227    2013-02-11\n",
              "310228    2013-02-12\n",
              "310229    2013-02-13\n",
              "310230    2013-02-14\n",
              "310231    2013-02-15\n",
              "310232    2013-02-19\n",
              "310233    2013-02-20\n",
              "310234    2013-02-21\n",
              "310235    2013-02-22\n",
              "Name: date, dtype: object"
            ]
          },
          "metadata": {
            "tags": []
          },
          "execution_count": 12
        }
      ]
    },
    {
      "cell_type": "code",
      "metadata": {
        "id": "6OVvsbkeDPdr",
        "colab_type": "code",
        "colab": {
          "base_uri": "https://localhost:8080/",
          "height": 68
        },
        "outputId": "af44eb2f-e7bc-45c7-e699-e8bff91f0e4e"
      },
      "source": [
        "### Missing values in the data\n",
        "df.isnull().sum()"
      ],
      "execution_count": 13,
      "outputs": [
        {
          "output_type": "execute_result",
          "data": {
            "text/plain": [
              "date     0\n",
              "close    0\n",
              "dtype: int64"
            ]
          },
          "metadata": {
            "tags": []
          },
          "execution_count": 13
        }
      ]
    },
    {
      "cell_type": "code",
      "metadata": {
        "id": "YrSs780TshQn",
        "colab_type": "code",
        "colab": {
          "base_uri": "https://localhost:8080/",
          "height": 34
        },
        "outputId": "3d0f4831-56a7-4ca6-edbe-9a5b51cfc24d"
      },
      "source": [
        "df.shape"
      ],
      "execution_count": 14,
      "outputs": [
        {
          "output_type": "execute_result",
          "data": {
            "text/plain": [
              "(1259, 2)"
            ]
          },
          "metadata": {
            "tags": []
          },
          "execution_count": 14
        }
      ]
    },
    {
      "cell_type": "code",
      "metadata": {
        "id": "FoPY-SnRDTry",
        "colab_type": "code",
        "colab": {
          "base_uri": "https://localhost:8080/",
          "height": 272
        },
        "outputId": "df014a10-8404-4744-fece-a257f4e014c4"
      },
      "source": [
        "## Preparing the data\n",
        "## Features and target\n",
        "## Input and output\n",
        "## last 7 days data as input\n",
        "## X -- [[d1-d7],[d9,d15],[d17,23]....]\n",
        "## y -- [d8,d16,d24,...]\n",
        "\n",
        "## X = [[d1-d7],[d2-d8],]\n",
        "## y = [d8,d9]\n",
        "\n",
        "X = [] ## input\n",
        "y = [] ## ouput\n",
        "for i  in range(df.shape[0]-7-1):   \n",
        "  X.append(df['close'][i:i+7])# 0 -->[0:7], 1-->[1:8]\n",
        "  y.append(df['close'][i+310232])# 7,8,9\n",
        "print(X[:2])"
      ],
      "execution_count": 15,
      "outputs": [
        {
          "output_type": "stream",
          "text": [
            "[310226    49.75\n",
            "310227    49.49\n",
            "310228    49.37\n",
            "310229    48.90\n",
            "310230    48.53\n",
            "310231    48.91\n",
            "310232    49.24\n",
            "Name: close, dtype: float64, 310227    49.49\n",
            "310228    49.37\n",
            "310229    48.90\n",
            "310230    48.53\n",
            "310231    48.91\n",
            "310232    49.24\n",
            "310233    48.86\n",
            "Name: close, dtype: float64]\n"
          ],
          "name": "stdout"
        }
      ]
    },
    {
      "cell_type": "code",
      "metadata": {
        "id": "g8Us1e0xGtls",
        "colab_type": "code",
        "colab": {}
      },
      "source": [
        "import numpy as np\n",
        "X = np.array(X)"
      ],
      "execution_count": 16,
      "outputs": []
    },
    {
      "cell_type": "code",
      "metadata": {
        "id": "R2hTTPimGww0",
        "colab_type": "code",
        "colab": {
          "base_uri": "https://localhost:8080/",
          "height": 204
        },
        "outputId": "fde35495-02fc-44a2-ae36-5d41231c3c9f"
      },
      "source": [
        "df1 = pd.DataFrame(X,columns=['d1','d2','d3','d4','d5','d6','d7'])\n",
        "df1.head()"
      ],
      "execution_count": 17,
      "outputs": [
        {
          "output_type": "execute_result",
          "data": {
            "text/html": [
              "<div>\n",
              "<style scoped>\n",
              "    .dataframe tbody tr th:only-of-type {\n",
              "        vertical-align: middle;\n",
              "    }\n",
              "\n",
              "    .dataframe tbody tr th {\n",
              "        vertical-align: top;\n",
              "    }\n",
              "\n",
              "    .dataframe thead th {\n",
              "        text-align: right;\n",
              "    }\n",
              "</style>\n",
              "<table border=\"1\" class=\"dataframe\">\n",
              "  <thead>\n",
              "    <tr style=\"text-align: right;\">\n",
              "      <th></th>\n",
              "      <th>d1</th>\n",
              "      <th>d2</th>\n",
              "      <th>d3</th>\n",
              "      <th>d4</th>\n",
              "      <th>d5</th>\n",
              "      <th>d6</th>\n",
              "      <th>d7</th>\n",
              "    </tr>\n",
              "  </thead>\n",
              "  <tbody>\n",
              "    <tr>\n",
              "      <th>0</th>\n",
              "      <td>49.75</td>\n",
              "      <td>49.49</td>\n",
              "      <td>49.37</td>\n",
              "      <td>48.90</td>\n",
              "      <td>48.53</td>\n",
              "      <td>48.91</td>\n",
              "      <td>49.24</td>\n",
              "    </tr>\n",
              "    <tr>\n",
              "      <th>1</th>\n",
              "      <td>49.49</td>\n",
              "      <td>49.37</td>\n",
              "      <td>48.90</td>\n",
              "      <td>48.53</td>\n",
              "      <td>48.91</td>\n",
              "      <td>49.24</td>\n",
              "      <td>48.86</td>\n",
              "    </tr>\n",
              "    <tr>\n",
              "      <th>2</th>\n",
              "      <td>49.37</td>\n",
              "      <td>48.90</td>\n",
              "      <td>48.53</td>\n",
              "      <td>48.91</td>\n",
              "      <td>49.24</td>\n",
              "      <td>48.86</td>\n",
              "      <td>48.10</td>\n",
              "    </tr>\n",
              "    <tr>\n",
              "      <th>3</th>\n",
              "      <td>48.90</td>\n",
              "      <td>48.53</td>\n",
              "      <td>48.91</td>\n",
              "      <td>49.24</td>\n",
              "      <td>48.86</td>\n",
              "      <td>48.10</td>\n",
              "      <td>48.61</td>\n",
              "    </tr>\n",
              "    <tr>\n",
              "      <th>4</th>\n",
              "      <td>48.53</td>\n",
              "      <td>48.91</td>\n",
              "      <td>49.24</td>\n",
              "      <td>48.86</td>\n",
              "      <td>48.10</td>\n",
              "      <td>48.61</td>\n",
              "      <td>48.55</td>\n",
              "    </tr>\n",
              "  </tbody>\n",
              "</table>\n",
              "</div>"
            ],
            "text/plain": [
              "      d1     d2     d3     d4     d5     d6     d7\n",
              "0  49.75  49.49  49.37  48.90  48.53  48.91  49.24\n",
              "1  49.49  49.37  48.90  48.53  48.91  49.24  48.86\n",
              "2  49.37  48.90  48.53  48.91  49.24  48.86  48.10\n",
              "3  48.90  48.53  48.91  49.24  48.86  48.10  48.61\n",
              "4  48.53  48.91  49.24  48.86  48.10  48.61  48.55"
            ]
          },
          "metadata": {
            "tags": []
          },
          "execution_count": 17
        }
      ]
    },
    {
      "cell_type": "code",
      "metadata": {
        "id": "yHANsBFsG0N9",
        "colab_type": "code",
        "colab": {
          "base_uri": "https://localhost:8080/",
          "height": 204
        },
        "outputId": "a8412ec4-58a8-45b2-ecd9-5d64fc52077a"
      },
      "source": [
        "df1['d8'] = y\n",
        "df1.head()"
      ],
      "execution_count": 18,
      "outputs": [
        {
          "output_type": "execute_result",
          "data": {
            "text/html": [
              "<div>\n",
              "<style scoped>\n",
              "    .dataframe tbody tr th:only-of-type {\n",
              "        vertical-align: middle;\n",
              "    }\n",
              "\n",
              "    .dataframe tbody tr th {\n",
              "        vertical-align: top;\n",
              "    }\n",
              "\n",
              "    .dataframe thead th {\n",
              "        text-align: right;\n",
              "    }\n",
              "</style>\n",
              "<table border=\"1\" class=\"dataframe\">\n",
              "  <thead>\n",
              "    <tr style=\"text-align: right;\">\n",
              "      <th></th>\n",
              "      <th>d1</th>\n",
              "      <th>d2</th>\n",
              "      <th>d3</th>\n",
              "      <th>d4</th>\n",
              "      <th>d5</th>\n",
              "      <th>d6</th>\n",
              "      <th>d7</th>\n",
              "      <th>d8</th>\n",
              "    </tr>\n",
              "  </thead>\n",
              "  <tbody>\n",
              "    <tr>\n",
              "      <th>0</th>\n",
              "      <td>49.75</td>\n",
              "      <td>49.49</td>\n",
              "      <td>49.37</td>\n",
              "      <td>48.90</td>\n",
              "      <td>48.53</td>\n",
              "      <td>48.91</td>\n",
              "      <td>49.24</td>\n",
              "      <td>49.24</td>\n",
              "    </tr>\n",
              "    <tr>\n",
              "      <th>1</th>\n",
              "      <td>49.49</td>\n",
              "      <td>49.37</td>\n",
              "      <td>48.90</td>\n",
              "      <td>48.53</td>\n",
              "      <td>48.91</td>\n",
              "      <td>49.24</td>\n",
              "      <td>48.86</td>\n",
              "      <td>48.86</td>\n",
              "    </tr>\n",
              "    <tr>\n",
              "      <th>2</th>\n",
              "      <td>49.37</td>\n",
              "      <td>48.90</td>\n",
              "      <td>48.53</td>\n",
              "      <td>48.91</td>\n",
              "      <td>49.24</td>\n",
              "      <td>48.86</td>\n",
              "      <td>48.10</td>\n",
              "      <td>48.10</td>\n",
              "    </tr>\n",
              "    <tr>\n",
              "      <th>3</th>\n",
              "      <td>48.90</td>\n",
              "      <td>48.53</td>\n",
              "      <td>48.91</td>\n",
              "      <td>49.24</td>\n",
              "      <td>48.86</td>\n",
              "      <td>48.10</td>\n",
              "      <td>48.61</td>\n",
              "      <td>48.61</td>\n",
              "    </tr>\n",
              "    <tr>\n",
              "      <th>4</th>\n",
              "      <td>48.53</td>\n",
              "      <td>48.91</td>\n",
              "      <td>49.24</td>\n",
              "      <td>48.86</td>\n",
              "      <td>48.10</td>\n",
              "      <td>48.61</td>\n",
              "      <td>48.55</td>\n",
              "      <td>48.55</td>\n",
              "    </tr>\n",
              "  </tbody>\n",
              "</table>\n",
              "</div>"
            ],
            "text/plain": [
              "      d1     d2     d3     d4     d5     d6     d7     d8\n",
              "0  49.75  49.49  49.37  48.90  48.53  48.91  49.24  49.24\n",
              "1  49.49  49.37  48.90  48.53  48.91  49.24  48.86  48.86\n",
              "2  49.37  48.90  48.53  48.91  49.24  48.86  48.10  48.10\n",
              "3  48.90  48.53  48.91  49.24  48.86  48.10  48.61  48.61\n",
              "4  48.53  48.91  49.24  48.86  48.10  48.61  48.55  48.55"
            ]
          },
          "metadata": {
            "tags": []
          },
          "execution_count": 18
        }
      ]
    },
    {
      "cell_type": "code",
      "metadata": {
        "id": "_ouP22FRG3eM",
        "colab_type": "code",
        "colab": {
          "base_uri": "https://localhost:8080/",
          "height": 34
        },
        "outputId": "cbe595e9-a475-4300-fed0-a0fe2cdad593"
      },
      "source": [
        "df1.shape"
      ],
      "execution_count": 19,
      "outputs": [
        {
          "output_type": "execute_result",
          "data": {
            "text/plain": [
              "(1251, 8)"
            ]
          },
          "metadata": {
            "tags": []
          },
          "execution_count": 19
        }
      ]
    },
    {
      "cell_type": "code",
      "metadata": {
        "id": "LXg27Hw5MJ7z",
        "colab_type": "code",
        "colab": {
          "base_uri": "https://localhost:8080/",
          "height": 34
        },
        "outputId": "1246899c-c9b5-4d1f-9935-7ef7b0161531"
      },
      "source": [
        "1251 * 0.8"
      ],
      "execution_count": 20,
      "outputs": [
        {
          "output_type": "execute_result",
          "data": {
            "text/plain": [
              "1000.8000000000001"
            ]
          },
          "metadata": {
            "tags": []
          },
          "execution_count": 20
        }
      ]
    },
    {
      "cell_type": "code",
      "metadata": {
        "id": "zcmbLgjMMLB3",
        "colab_type": "code",
        "colab": {
          "base_uri": "https://localhost:8080/",
          "height": 85
        },
        "outputId": "4ea55999-ba9d-4dd7-d06b-71de8ec82a28"
      },
      "source": [
        "## Train test split\n",
        "X_train = df1.iloc[0:1000,0:7]\n",
        "X_test = df1.iloc[1000:,0:7]\n",
        "y_train =  df1['d8'][:1000]\n",
        "y_test  = df1['d8'][1000:]\n",
        "print(X_train.shape)\n",
        "print(y_train.shape)\n",
        "print(X_test.shape)\n",
        "print(y_test.shape)"
      ],
      "execution_count": 21,
      "outputs": [
        {
          "output_type": "stream",
          "text": [
            "(1000, 7)\n",
            "(1000,)\n",
            "(251, 7)\n",
            "(251,)\n"
          ],
          "name": "stdout"
        }
      ]
    },
    {
      "cell_type": "code",
      "metadata": {
        "id": "DbQmRFehMOyA",
        "colab_type": "code",
        "colab": {
          "base_uri": "https://localhost:8080/",
          "height": 297
        },
        "outputId": "255920a4-09ac-41c0-b334-f0643921e671"
      },
      "source": [
        "## Scaling the data\n",
        "from sklearn.preprocessing import StandardScaler\n",
        "sc = StandardScaler()\n",
        "sc.fit(X_train)\n",
        "X_train_sc = pd.DataFrame(sc.transform(X_train),columns = X_train.columns)\n",
        "X_test_sc = pd.DataFrame(sc.transform(X_test),columns = X_train.columns)\n",
        "X_train_sc.describe()"
      ],
      "execution_count": 22,
      "outputs": [
        {
          "output_type": "execute_result",
          "data": {
            "text/html": [
              "<div>\n",
              "<style scoped>\n",
              "    .dataframe tbody tr th:only-of-type {\n",
              "        vertical-align: middle;\n",
              "    }\n",
              "\n",
              "    .dataframe tbody tr th {\n",
              "        vertical-align: top;\n",
              "    }\n",
              "\n",
              "    .dataframe thead th {\n",
              "        text-align: right;\n",
              "    }\n",
              "</style>\n",
              "<table border=\"1\" class=\"dataframe\">\n",
              "  <thead>\n",
              "    <tr style=\"text-align: right;\">\n",
              "      <th></th>\n",
              "      <th>d1</th>\n",
              "      <th>d2</th>\n",
              "      <th>d3</th>\n",
              "      <th>d4</th>\n",
              "      <th>d5</th>\n",
              "      <th>d6</th>\n",
              "      <th>d7</th>\n",
              "    </tr>\n",
              "  </thead>\n",
              "  <tbody>\n",
              "    <tr>\n",
              "      <th>count</th>\n",
              "      <td>1.000000e+03</td>\n",
              "      <td>1.000000e+03</td>\n",
              "      <td>1.000000e+03</td>\n",
              "      <td>1.000000e+03</td>\n",
              "      <td>1.000000e+03</td>\n",
              "      <td>1.000000e+03</td>\n",
              "      <td>1.000000e+03</td>\n",
              "    </tr>\n",
              "    <tr>\n",
              "      <th>mean</th>\n",
              "      <td>-5.968559e-16</td>\n",
              "      <td>-1.175504e-15</td>\n",
              "      <td>1.058709e-15</td>\n",
              "      <td>-2.959855e-16</td>\n",
              "      <td>1.021405e-17</td>\n",
              "      <td>-5.686562e-16</td>\n",
              "      <td>-1.377343e-15</td>\n",
              "    </tr>\n",
              "    <tr>\n",
              "      <th>std</th>\n",
              "      <td>1.000500e+00</td>\n",
              "      <td>1.000500e+00</td>\n",
              "      <td>1.000500e+00</td>\n",
              "      <td>1.000500e+00</td>\n",
              "      <td>1.000500e+00</td>\n",
              "      <td>1.000500e+00</td>\n",
              "      <td>1.000500e+00</td>\n",
              "    </tr>\n",
              "    <tr>\n",
              "      <th>min</th>\n",
              "      <td>-2.150998e+00</td>\n",
              "      <td>-2.156544e+00</td>\n",
              "      <td>-2.162303e+00</td>\n",
              "      <td>-2.168235e+00</td>\n",
              "      <td>-2.174344e+00</td>\n",
              "      <td>-2.180577e+00</td>\n",
              "      <td>-2.186786e+00</td>\n",
              "    </tr>\n",
              "    <tr>\n",
              "      <th>25%</th>\n",
              "      <td>-7.504945e-01</td>\n",
              "      <td>-7.451615e-01</td>\n",
              "      <td>-7.404116e-01</td>\n",
              "      <td>-7.401319e-01</td>\n",
              "      <td>-7.324680e-01</td>\n",
              "      <td>-7.321696e-01</td>\n",
              "      <td>-7.330637e-01</td>\n",
              "    </tr>\n",
              "    <tr>\n",
              "      <th>50%</th>\n",
              "      <td>3.319703e-01</td>\n",
              "      <td>3.290788e-01</td>\n",
              "      <td>3.262289e-01</td>\n",
              "      <td>3.237880e-01</td>\n",
              "      <td>3.259284e-01</td>\n",
              "      <td>3.276665e-01</td>\n",
              "      <td>3.244810e-01</td>\n",
              "    </tr>\n",
              "    <tr>\n",
              "      <th>75%</th>\n",
              "      <td>6.819188e-01</td>\n",
              "      <td>6.797063e-01</td>\n",
              "      <td>6.791706e-01</td>\n",
              "      <td>6.769461e-01</td>\n",
              "      <td>6.741578e-01</td>\n",
              "      <td>6.718548e-01</td>\n",
              "      <td>6.706903e-01</td>\n",
              "    </tr>\n",
              "    <tr>\n",
              "      <th>max</th>\n",
              "      <td>1.878906e+00</td>\n",
              "      <td>1.877092e+00</td>\n",
              "      <td>1.875478e+00</td>\n",
              "      <td>1.874056e+00</td>\n",
              "      <td>1.872665e+00</td>\n",
              "      <td>1.871256e+00</td>\n",
              "      <td>1.869931e+00</td>\n",
              "    </tr>\n",
              "  </tbody>\n",
              "</table>\n",
              "</div>"
            ],
            "text/plain": [
              "                 d1            d2  ...            d6            d7\n",
              "count  1.000000e+03  1.000000e+03  ...  1.000000e+03  1.000000e+03\n",
              "mean  -5.968559e-16 -1.175504e-15  ... -5.686562e-16 -1.377343e-15\n",
              "std    1.000500e+00  1.000500e+00  ...  1.000500e+00  1.000500e+00\n",
              "min   -2.150998e+00 -2.156544e+00  ... -2.180577e+00 -2.186786e+00\n",
              "25%   -7.504945e-01 -7.451615e-01  ... -7.321696e-01 -7.330637e-01\n",
              "50%    3.319703e-01  3.290788e-01  ...  3.276665e-01  3.244810e-01\n",
              "75%    6.819188e-01  6.797063e-01  ...  6.718548e-01  6.706903e-01\n",
              "max    1.878906e+00  1.877092e+00  ...  1.871256e+00  1.869931e+00\n",
              "\n",
              "[8 rows x 7 columns]"
            ]
          },
          "metadata": {
            "tags": []
          },
          "execution_count": 22
        }
      ]
    },
    {
      "cell_type": "code",
      "metadata": {
        "id": "GM23gcpxMS2C",
        "colab_type": "code",
        "colab": {
          "base_uri": "https://localhost:8080/",
          "height": 238
        },
        "outputId": "c2473b23-1ce5-4edc-c892-82dfd8742e1d"
      },
      "source": [
        "from keras.models import Sequential\n",
        "from keras.layers import Dense,Dropout,LSTM\n",
        "model = Sequential()\n",
        "model.add(LSTM(256,input_shape=(7,1)))\n",
        "model.add(Dense(1))\n",
        "model.summary()"
      ],
      "execution_count": 23,
      "outputs": [
        {
          "output_type": "stream",
          "text": [
            "Using TensorFlow backend.\n"
          ],
          "name": "stderr"
        },
        {
          "output_type": "stream",
          "text": [
            "Model: \"sequential_1\"\n",
            "_________________________________________________________________\n",
            "Layer (type)                 Output Shape              Param #   \n",
            "=================================================================\n",
            "lstm_1 (LSTM)                (None, 256)               264192    \n",
            "_________________________________________________________________\n",
            "dense_1 (Dense)              (None, 1)                 257       \n",
            "=================================================================\n",
            "Total params: 264,449\n",
            "Trainable params: 264,449\n",
            "Non-trainable params: 0\n",
            "_________________________________________________________________\n"
          ],
          "name": "stdout"
        }
      ]
    },
    {
      "cell_type": "code",
      "metadata": {
        "id": "m8m2OsZKMXF6",
        "colab_type": "code",
        "colab": {}
      },
      "source": [
        "model.compile(optimizer='adam',loss='mse')"
      ],
      "execution_count": 24,
      "outputs": []
    },
    {
      "cell_type": "code",
      "metadata": {
        "id": "wYrN77PCYVT5",
        "colab_type": "code",
        "colab": {
          "base_uri": "https://localhost:8080/",
          "height": 34
        },
        "outputId": "72342477-a9bc-46a4-9a29-68a3d396832a"
      },
      "source": [
        "X_test.shape"
      ],
      "execution_count": 25,
      "outputs": [
        {
          "output_type": "execute_result",
          "data": {
            "text/plain": [
              "(251, 7)"
            ]
          },
          "metadata": {
            "tags": []
          },
          "execution_count": 25
        }
      ]
    },
    {
      "cell_type": "code",
      "metadata": {
        "id": "YN8stxEeYhco",
        "colab_type": "code",
        "colab": {}
      },
      "source": [
        "# number of records , time steps,Features\n",
        "X_train_sc = X_train_sc.values.reshape(1000,7,1)\n",
        "X_test_sc = X_test_sc.values.reshape(251,7,1)"
      ],
      "execution_count": 26,
      "outputs": []
    },
    {
      "cell_type": "code",
      "metadata": {
        "id": "JYYsWNZ1MfDE",
        "colab_type": "code",
        "colab": {
          "base_uri": "https://localhost:8080/",
          "height": 1000
        },
        "outputId": "8f47f617-4e46-4b2d-c418-c9bb056b05b5"
      },
      "source": [
        "history = model.fit(X_train_sc,y_train,epochs=100,validation_data=(X_test_sc,y_test))"
      ],
      "execution_count": 27,
      "outputs": [
        {
          "output_type": "stream",
          "text": [
            "Train on 1000 samples, validate on 251 samples\n",
            "Epoch 1/100\n",
            "1000/1000 [==============================] - 2s 2ms/step - loss: 5442.5378 - val_loss: 9065.2280\n",
            "Epoch 2/100\n",
            "1000/1000 [==============================] - 1s 977us/step - loss: 2709.0970 - val_loss: 7256.9568\n",
            "Epoch 3/100\n",
            "1000/1000 [==============================] - 1s 960us/step - loss: 1803.6557 - val_loss: 5909.1202\n",
            "Epoch 4/100\n",
            "1000/1000 [==============================] - 1s 984us/step - loss: 1246.2969 - val_loss: 4890.4413\n",
            "Epoch 5/100\n",
            "1000/1000 [==============================] - 1s 972us/step - loss: 870.3859 - val_loss: 4107.5437\n",
            "Epoch 6/100\n",
            "1000/1000 [==============================] - 1s 970us/step - loss: 615.8718 - val_loss: 3504.5285\n",
            "Epoch 7/100\n",
            "1000/1000 [==============================] - 1s 971us/step - loss: 449.2394 - val_loss: 3032.0953\n",
            "Epoch 8/100\n",
            "1000/1000 [==============================] - 1s 955us/step - loss: 342.3824 - val_loss: 2672.2719\n",
            "Epoch 9/100\n",
            "1000/1000 [==============================] - 1s 985us/step - loss: 277.0952 - val_loss: 2398.1801\n",
            "Epoch 10/100\n",
            "1000/1000 [==============================] - 1s 985us/step - loss: 238.1555 - val_loss: 2194.0830\n",
            "Epoch 11/100\n",
            "1000/1000 [==============================] - 1s 965us/step - loss: 217.0217 - val_loss: 2045.3328\n",
            "Epoch 12/100\n",
            "1000/1000 [==============================] - 1s 1ms/step - loss: 206.6041 - val_loss: 1942.9958\n",
            "Epoch 13/100\n",
            "1000/1000 [==============================] - 1s 1000us/step - loss: 200.6435 - val_loss: 1869.0659\n",
            "Epoch 14/100\n",
            "1000/1000 [==============================] - 1s 981us/step - loss: 196.6335 - val_loss: 1814.7363\n",
            "Epoch 15/100\n",
            "1000/1000 [==============================] - 1s 979us/step - loss: 194.0881 - val_loss: 1777.2502\n",
            "Epoch 16/100\n",
            "1000/1000 [==============================] - 1s 1ms/step - loss: 192.2241 - val_loss: 1744.7701\n",
            "Epoch 17/100\n",
            "1000/1000 [==============================] - 1s 1ms/step - loss: 189.0027 - val_loss: 1727.3407\n",
            "Epoch 18/100\n",
            "1000/1000 [==============================] - 1s 967us/step - loss: 185.3216 - val_loss: 1707.9491\n",
            "Epoch 19/100\n",
            "1000/1000 [==============================] - 1s 975us/step - loss: 181.0841 - val_loss: 1692.8554\n",
            "Epoch 20/100\n",
            "1000/1000 [==============================] - 1s 971us/step - loss: 168.6393 - val_loss: 1660.1380\n",
            "Epoch 21/100\n",
            "1000/1000 [==============================] - 1s 989us/step - loss: 158.8192 - val_loss: 1633.2217\n",
            "Epoch 22/100\n",
            "1000/1000 [==============================] - 1s 989us/step - loss: 138.9394 - val_loss: 1591.6638\n",
            "Epoch 23/100\n",
            "1000/1000 [==============================] - 1s 1ms/step - loss: 80.1815 - val_loss: 1453.9883\n",
            "Epoch 24/100\n",
            "1000/1000 [==============================] - 1s 971us/step - loss: 47.5726 - val_loss: 1314.0191\n",
            "Epoch 25/100\n",
            "1000/1000 [==============================] - 1s 992us/step - loss: 36.4356 - val_loss: 1212.2931\n",
            "Epoch 26/100\n",
            "1000/1000 [==============================] - 1s 990us/step - loss: 29.7717 - val_loss: 1127.2046\n",
            "Epoch 27/100\n",
            "1000/1000 [==============================] - 1s 970us/step - loss: 25.4049 - val_loss: 1060.4234\n",
            "Epoch 28/100\n",
            "1000/1000 [==============================] - 1s 973us/step - loss: 22.2404 - val_loss: 1009.4893\n",
            "Epoch 29/100\n",
            "1000/1000 [==============================] - 1s 974us/step - loss: 19.8902 - val_loss: 959.8192\n",
            "Epoch 30/100\n",
            "1000/1000 [==============================] - 1s 965us/step - loss: 17.6607 - val_loss: 916.3191\n",
            "Epoch 31/100\n",
            "1000/1000 [==============================] - 1s 966us/step - loss: 15.8347 - val_loss: 880.2565\n",
            "Epoch 32/100\n",
            "1000/1000 [==============================] - 1s 976us/step - loss: 14.3936 - val_loss: 841.6297\n",
            "Epoch 33/100\n",
            "1000/1000 [==============================] - 1s 983us/step - loss: 13.2049 - val_loss: 807.9344\n",
            "Epoch 34/100\n",
            "1000/1000 [==============================] - 1s 995us/step - loss: 12.3942 - val_loss: 778.4624\n",
            "Epoch 35/100\n",
            "1000/1000 [==============================] - 1s 1ms/step - loss: 11.2999 - val_loss: 751.3296\n",
            "Epoch 36/100\n",
            "1000/1000 [==============================] - 1s 1ms/step - loss: 10.6517 - val_loss: 726.2413\n",
            "Epoch 37/100\n",
            "1000/1000 [==============================] - 1s 972us/step - loss: 9.6978 - val_loss: 703.0570\n",
            "Epoch 38/100\n",
            "1000/1000 [==============================] - 1s 971us/step - loss: 9.5504 - val_loss: 681.2308\n",
            "Epoch 39/100\n",
            "1000/1000 [==============================] - 1s 965us/step - loss: 8.5047 - val_loss: 659.9070\n",
            "Epoch 40/100\n",
            "1000/1000 [==============================] - 1s 964us/step - loss: 7.9402 - val_loss: 641.3210\n",
            "Epoch 41/100\n",
            "1000/1000 [==============================] - 1s 974us/step - loss: 7.6657 - val_loss: 622.4367\n",
            "Epoch 42/100\n",
            "1000/1000 [==============================] - 1s 974us/step - loss: 7.2545 - val_loss: 606.2975\n",
            "Epoch 43/100\n",
            "1000/1000 [==============================] - 1s 960us/step - loss: 6.5412 - val_loss: 590.2752\n",
            "Epoch 44/100\n",
            "1000/1000 [==============================] - 1s 973us/step - loss: 6.4002 - val_loss: 576.7442\n",
            "Epoch 45/100\n",
            "1000/1000 [==============================] - 1s 1ms/step - loss: 6.1618 - val_loss: 560.8838\n",
            "Epoch 46/100\n",
            "1000/1000 [==============================] - 1s 992us/step - loss: 5.9188 - val_loss: 548.7521\n",
            "Epoch 47/100\n",
            "1000/1000 [==============================] - 1s 956us/step - loss: 5.7986 - val_loss: 539.0206\n",
            "Epoch 48/100\n",
            "1000/1000 [==============================] - 1s 978us/step - loss: 6.0113 - val_loss: 528.8488\n",
            "Epoch 49/100\n",
            "1000/1000 [==============================] - 1s 988us/step - loss: 5.5967 - val_loss: 518.7502\n",
            "Epoch 50/100\n",
            "1000/1000 [==============================] - 1s 963us/step - loss: 6.6646 - val_loss: 510.4299\n",
            "Epoch 51/100\n",
            "1000/1000 [==============================] - 1s 998us/step - loss: 5.1891 - val_loss: 501.8210\n",
            "Epoch 52/100\n",
            "1000/1000 [==============================] - 1s 966us/step - loss: 5.1670 - val_loss: 496.0730\n",
            "Epoch 53/100\n",
            "1000/1000 [==============================] - 1s 976us/step - loss: 5.3200 - val_loss: 490.0341\n",
            "Epoch 54/100\n",
            "1000/1000 [==============================] - 1s 977us/step - loss: 5.2689 - val_loss: 482.3833\n",
            "Epoch 55/100\n",
            "1000/1000 [==============================] - 1s 985us/step - loss: 4.9485 - val_loss: 476.8853\n",
            "Epoch 56/100\n",
            "1000/1000 [==============================] - 1s 1ms/step - loss: 5.0194 - val_loss: 473.0302\n",
            "Epoch 57/100\n",
            "1000/1000 [==============================] - 1s 1ms/step - loss: 4.8706 - val_loss: 467.9380\n",
            "Epoch 58/100\n",
            "1000/1000 [==============================] - 1s 986us/step - loss: 4.7371 - val_loss: 462.7718\n",
            "Epoch 59/100\n",
            "1000/1000 [==============================] - 1s 967us/step - loss: 4.6748 - val_loss: 458.4446\n",
            "Epoch 60/100\n",
            "1000/1000 [==============================] - 1s 995us/step - loss: 4.5475 - val_loss: 456.0162\n",
            "Epoch 61/100\n",
            "1000/1000 [==============================] - 1s 981us/step - loss: 4.4611 - val_loss: 453.1229\n",
            "Epoch 62/100\n",
            "1000/1000 [==============================] - 1s 962us/step - loss: 4.5510 - val_loss: 449.4903\n",
            "Epoch 63/100\n",
            "1000/1000 [==============================] - 1s 978us/step - loss: 4.4058 - val_loss: 443.9191\n",
            "Epoch 64/100\n",
            "1000/1000 [==============================] - 1s 961us/step - loss: 4.6797 - val_loss: 440.6118\n",
            "Epoch 65/100\n",
            "1000/1000 [==============================] - 1s 979us/step - loss: 4.1919 - val_loss: 437.3973\n",
            "Epoch 66/100\n",
            "1000/1000 [==============================] - 1s 977us/step - loss: 4.2529 - val_loss: 433.1857\n",
            "Epoch 67/100\n",
            "1000/1000 [==============================] - 1s 1ms/step - loss: 4.2529 - val_loss: 431.3093\n",
            "Epoch 68/100\n",
            "1000/1000 [==============================] - 1s 974us/step - loss: 4.3042 - val_loss: 428.4134\n",
            "Epoch 69/100\n",
            "1000/1000 [==============================] - 1s 983us/step - loss: 4.3141 - val_loss: 425.2542\n",
            "Epoch 70/100\n",
            "1000/1000 [==============================] - 1s 999us/step - loss: 3.9609 - val_loss: 423.4016\n",
            "Epoch 71/100\n",
            "1000/1000 [==============================] - 1s 1ms/step - loss: 3.8816 - val_loss: 418.2771\n",
            "Epoch 72/100\n",
            "1000/1000 [==============================] - 1s 981us/step - loss: 4.0136 - val_loss: 415.7067\n",
            "Epoch 73/100\n",
            "1000/1000 [==============================] - 1s 1ms/step - loss: 3.7321 - val_loss: 414.6373\n",
            "Epoch 74/100\n",
            "1000/1000 [==============================] - 1s 1ms/step - loss: 3.8697 - val_loss: 409.4075\n",
            "Epoch 75/100\n",
            "1000/1000 [==============================] - 1s 1000us/step - loss: 3.5301 - val_loss: 404.7121\n",
            "Epoch 76/100\n",
            "1000/1000 [==============================] - 1s 982us/step - loss: 4.5100 - val_loss: 402.6509\n",
            "Epoch 77/100\n",
            "1000/1000 [==============================] - 1s 1ms/step - loss: 3.5533 - val_loss: 401.0451\n",
            "Epoch 78/100\n",
            "1000/1000 [==============================] - 1s 979us/step - loss: 3.3172 - val_loss: 399.9337\n",
            "Epoch 79/100\n",
            "1000/1000 [==============================] - 1s 979us/step - loss: 3.5539 - val_loss: 399.8217\n",
            "Epoch 80/100\n",
            "1000/1000 [==============================] - 1s 996us/step - loss: 3.1949 - val_loss: 397.7671\n",
            "Epoch 81/100\n",
            "1000/1000 [==============================] - 1s 990us/step - loss: 2.9855 - val_loss: 395.0030\n",
            "Epoch 82/100\n",
            "1000/1000 [==============================] - 1s 980us/step - loss: 3.7018 - val_loss: 390.6812\n",
            "Epoch 83/100\n",
            "1000/1000 [==============================] - 1s 983us/step - loss: 3.0561 - val_loss: 389.3057\n",
            "Epoch 84/100\n",
            "1000/1000 [==============================] - 1s 964us/step - loss: 3.0807 - val_loss: 386.8975\n",
            "Epoch 85/100\n",
            "1000/1000 [==============================] - 1s 963us/step - loss: 2.8654 - val_loss: 384.5702\n",
            "Epoch 86/100\n",
            "1000/1000 [==============================] - 1s 985us/step - loss: 3.0950 - val_loss: 382.0786\n",
            "Epoch 87/100\n",
            "1000/1000 [==============================] - 1s 983us/step - loss: 2.7557 - val_loss: 378.7575\n",
            "Epoch 88/100\n",
            "1000/1000 [==============================] - 1s 1ms/step - loss: 2.9275 - val_loss: 375.3600\n",
            "Epoch 89/100\n",
            "1000/1000 [==============================] - 1s 960us/step - loss: 2.4227 - val_loss: 371.0302\n",
            "Epoch 90/100\n",
            "1000/1000 [==============================] - 1s 981us/step - loss: 2.3479 - val_loss: 371.6002\n",
            "Epoch 91/100\n",
            "1000/1000 [==============================] - 1s 977us/step - loss: 2.3916 - val_loss: 364.6707\n",
            "Epoch 92/100\n",
            "1000/1000 [==============================] - 1s 975us/step - loss: 2.2238 - val_loss: 364.5901\n",
            "Epoch 93/100\n",
            "1000/1000 [==============================] - 1s 970us/step - loss: 2.6230 - val_loss: 356.8372\n",
            "Epoch 94/100\n",
            "1000/1000 [==============================] - 1s 982us/step - loss: 2.2086 - val_loss: 356.2811\n",
            "Epoch 95/100\n",
            "1000/1000 [==============================] - 1s 985us/step - loss: 2.1278 - val_loss: 351.1674\n",
            "Epoch 96/100\n",
            "1000/1000 [==============================] - 1s 1ms/step - loss: 2.1539 - val_loss: 348.9767\n",
            "Epoch 97/100\n",
            "1000/1000 [==============================] - 1s 989us/step - loss: 1.9478 - val_loss: 346.4762\n",
            "Epoch 98/100\n",
            "1000/1000 [==============================] - 1s 992us/step - loss: 1.8410 - val_loss: 343.2978\n",
            "Epoch 99/100\n",
            "1000/1000 [==============================] - 1s 1ms/step - loss: 2.1419 - val_loss: 338.4529\n",
            "Epoch 100/100\n",
            "1000/1000 [==============================] - 1s 974us/step - loss: 1.9605 - val_loss: 335.2012\n"
          ],
          "name": "stdout"
        }
      ]
    },
    {
      "cell_type": "code",
      "metadata": {
        "id": "rNF-KH9HYdip",
        "colab_type": "code",
        "colab": {
          "base_uri": "https://localhost:8080/",
          "height": 282
        },
        "outputId": "7b3b7a9b-d9ea-4d62-8576-97ddb719aca9"
      },
      "source": [
        "tr_loss = history.history['loss']\n",
        "val_loss = history.history['val_loss']\n",
        "ep = list(range(1,101))\n",
        "plt.plot(ep,tr_loss,color='r')\n",
        "plt.plot(ep,val_loss,color='b')"
      ],
      "execution_count": 28,
      "outputs": [
        {
          "output_type": "execute_result",
          "data": {
            "text/plain": [
              "[<matplotlib.lines.Line2D at 0x7f9e154d0eb8>]"
            ]
          },
          "metadata": {
            "tags": []
          },
          "execution_count": 28
        },
        {
          "output_type": "display_data",
          "data": {
            "image/png": "[encoded data removed]",
            "text/plain": [
              "<Figure size 432x288 with 1 Axes>"
            ]
          },
          "metadata": {
            "tags": [],
            "needs_background": "light"
          }
        }
      ]
    },
    {
      "cell_type": "code",
      "metadata": {
        "id": "3OOZvEjrZFYq",
        "colab_type": "code",
        "colab": {
          "base_uri": "https://localhost:8080/",
          "height": 1000
        },
        "outputId": "b8d5fe40-c6bf-46d2-c1af-1beda1893d05"
      },
      "source": [
        "model.predict(X_test_sc)"
      ],
      "execution_count": 29,
      "outputs": [
        {
          "output_type": "execute_result",
          "data": {
            "text/plain": [
              "array([[ 99.71454 ],\n",
              "       [ 99.713776],\n",
              "       [ 99.69281 ],\n",
              "       [ 99.79927 ],\n",
              "       [100.11501 ],\n",
              "       [100.4655  ],\n",
              "       [100.75096 ],\n",
              "       [100.95598 ],\n",
              "       [101.14183 ],\n",
              "       [101.33679 ],\n",
              "       [101.40676 ],\n",
              "       [101.3929  ],\n",
              "       [101.43146 ],\n",
              "       [101.4631  ],\n",
              "       [101.493   ],\n",
              "       [101.6087  ],\n",
              "       [101.64146 ],\n",
              "       [101.61713 ],\n",
              "       [101.6342  ],\n",
              "       [101.629166],\n",
              "       [101.580536],\n",
              "       [101.620705],\n",
              "       [101.723495],\n",
              "       [101.91182 ],\n",
              "       [102.07898 ],\n",
              "       [102.30104 ],\n",
              "       [102.46623 ],\n",
              "       [102.559296],\n",
              "       [102.645065],\n",
              "       [102.67749 ],\n",
              "       [102.67937 ],\n",
              "       [102.68031 ],\n",
              "       [102.63477 ],\n",
              "       [102.61753 ],\n",
              "       [102.5962  ],\n",
              "       [102.54506 ],\n",
              "       [102.55892 ],\n",
              "       [102.51468 ],\n",
              "       [102.50466 ],\n",
              "       [102.497444],\n",
              "       [102.50217 ],\n",
              "       [102.52217 ],\n",
              "       [102.54751 ],\n",
              "       [102.56262 ],\n",
              "       [102.59653 ],\n",
              "       [102.58803 ],\n",
              "       [102.5818  ],\n",
              "       [102.61075 ],\n",
              "       [102.60616 ],\n",
              "       [102.63872 ],\n",
              "       [102.69204 ],\n",
              "       [102.72133 ],\n",
              "       [102.76613 ],\n",
              "       [102.81442 ],\n",
              "       [102.83281 ],\n",
              "       [102.868614],\n",
              "       [102.88873 ],\n",
              "       [102.89756 ],\n",
              "       [102.91429 ],\n",
              "       [102.909805],\n",
              "       [102.90962 ],\n",
              "       [102.90457 ],\n",
              "       [102.89583 ],\n",
              "       [102.89413 ],\n",
              "       [102.88849 ],\n",
              "       [102.873245],\n",
              "       [102.87021 ],\n",
              "       [102.87791 ],\n",
              "       [102.881294],\n",
              "       [102.866844],\n",
              "       [102.86066 ],\n",
              "       [102.85544 ],\n",
              "       [102.857864],\n",
              "       [102.87306 ],\n",
              "       [102.90576 ],\n",
              "       [102.922325],\n",
              "       [102.96789 ],\n",
              "       [103.016365],\n",
              "       [103.0533  ],\n",
              "       [103.07988 ],\n",
              "       [103.12024 ],\n",
              "       [103.144806],\n",
              "       [103.15167 ],\n",
              "       [103.1585  ],\n",
              "       [103.16881 ],\n",
              "       [103.164825],\n",
              "       [103.16426 ],\n",
              "       [103.166534],\n",
              "       [103.169754],\n",
              "       [103.1783  ],\n",
              "       [103.19069 ],\n",
              "       [103.19702 ],\n",
              "       [103.20911 ],\n",
              "       [103.22305 ],\n",
              "       [103.23159 ],\n",
              "       [103.24124 ],\n",
              "       [103.24086 ],\n",
              "       [103.2455  ],\n",
              "       [103.249466],\n",
              "       [103.24855 ],\n",
              "       [103.24786 ],\n",
              "       [103.2559  ],\n",
              "       [103.25866 ],\n",
              "       [103.25568 ],\n",
              "       [103.269226],\n",
              "       [103.27116 ],\n",
              "       [103.274506],\n",
              "       [103.284775],\n",
              "       [103.290344],\n",
              "       [103.29144 ],\n",
              "       [103.2984  ],\n",
              "       [103.303635],\n",
              "       [103.310486],\n",
              "       [103.3124  ],\n",
              "       [103.31369 ],\n",
              "       [103.31949 ],\n",
              "       [103.32088 ],\n",
              "       [103.32716 ],\n",
              "       [103.33063 ],\n",
              "       [103.32564 ],\n",
              "       [103.32948 ],\n",
              "       [103.32907 ],\n",
              "       [103.32406 ],\n",
              "       [103.32744 ],\n",
              "       [103.31953 ],\n",
              "       [103.31439 ],\n",
              "       [103.29846 ],\n",
              "       [103.279175],\n",
              "       [103.24391 ],\n",
              "       [103.22038 ],\n",
              "       [103.194374],\n",
              "       [103.162605],\n",
              "       [103.13187 ],\n",
              "       [103.12398 ],\n",
              "       [103.10741 ],\n",
              "       [103.11446 ],\n",
              "       [103.12909 ],\n",
              "       [103.12399 ],\n",
              "       [103.1357  ],\n",
              "       [103.14109 ],\n",
              "       [103.1328  ],\n",
              "       [103.12221 ],\n",
              "       [103.13602 ],\n",
              "       [103.13873 ],\n",
              "       [103.14665 ],\n",
              "       [103.15373 ],\n",
              "       [103.16518 ],\n",
              "       [103.17441 ],\n",
              "       [103.20386 ],\n",
              "       [103.22156 ],\n",
              "       [103.23787 ],\n",
              "       [103.247116],\n",
              "       [103.24727 ],\n",
              "       [103.2478  ],\n",
              "       [103.255005],\n",
              "       [103.25539 ],\n",
              "       [103.257706],\n",
              "       [103.25314 ],\n",
              "       [103.24117 ],\n",
              "       [103.23951 ],\n",
              "       [103.24979 ],\n",
              "       [103.25252 ],\n",
              "       [103.2556  ],\n",
              "       [103.2543  ],\n",
              "       [103.25926 ],\n",
              "       [103.2587  ],\n",
              "       [103.255936],\n",
              "       [103.25029 ],\n",
              "       [103.24634 ],\n",
              "       [103.25113 ],\n",
              "       [103.25098 ],\n",
              "       [103.25133 ],\n",
              "       [103.244156],\n",
              "       [103.248   ],\n",
              "       [103.24817 ],\n",
              "       [103.24693 ],\n",
              "       [103.24571 ],\n",
              "       [103.246994],\n",
              "       [103.25119 ],\n",
              "       [103.25556 ],\n",
              "       [103.25065 ],\n",
              "       [103.24861 ],\n",
              "       [103.2537  ],\n",
              "       [103.2617  ],\n",
              "       [103.26993 ],\n",
              "       [103.27168 ],\n",
              "       [103.26778 ],\n",
              "       [103.25314 ],\n",
              "       [103.23953 ],\n",
              "       [103.22529 ],\n",
              "       [103.1963  ],\n",
              "       [103.18564 ],\n",
              "       [103.16426 ],\n",
              "       [103.11798 ],\n",
              "       [103.09314 ],\n",
              "       [103.09021 ],\n",
              "       [103.0791  ],\n",
              "       [103.09403 ],\n",
              "       [103.07692 ],\n",
              "       [103.075386],\n",
              "       [103.07024 ],\n",
              "       [103.066666],\n",
              "       [103.05899 ],\n",
              "       [103.07933 ],\n",
              "       [103.07332 ],\n",
              "       [103.0844  ],\n",
              "       [103.11348 ],\n",
              "       [103.11693 ],\n",
              "       [103.13859 ],\n",
              "       [103.16449 ],\n",
              "       [103.166794],\n",
              "       [103.170876],\n",
              "       [103.18189 ],\n",
              "       [103.170784],\n",
              "       [103.18084 ],\n",
              "       [103.18561 ],\n",
              "       [103.16902 ],\n",
              "       [103.18742 ],\n",
              "       [103.20529 ],\n",
              "       [103.206795],\n",
              "       [103.22185 ],\n",
              "       [103.22977 ],\n",
              "       [103.22895 ],\n",
              "       [103.24234 ],\n",
              "       [103.25372 ],\n",
              "       [103.249626],\n",
              "       [103.24814 ],\n",
              "       [103.25263 ],\n",
              "       [103.25936 ],\n",
              "       [103.26863 ],\n",
              "       [103.28753 ],\n",
              "       [103.299706],\n",
              "       [103.3038  ],\n",
              "       [103.314804],\n",
              "       [103.324036],\n",
              "       [103.335205],\n",
              "       [103.342804],\n",
              "       [103.35252 ],\n",
              "       [103.356476],\n",
              "       [103.36746 ],\n",
              "       [103.38138 ],\n",
              "       [103.39101 ],\n",
              "       [103.39929 ],\n",
              "       [103.40872 ],\n",
              "       [103.41938 ],\n",
              "       [103.42354 ],\n",
              "       [103.424774],\n",
              "       [103.42554 ],\n",
              "       [103.4264  ],\n",
              "       [103.418304],\n",
              "       [103.403   ]], dtype=float32)"
            ]
          },
          "metadata": {
            "tags": []
          },
          "execution_count": 29
        }
      ]
    },
    {
      "cell_type": "code",
      "metadata": {
        "id": "cZazbwoqZfgU",
        "colab_type": "code",
        "colab": {
          "base_uri": "https://localhost:8080/",
          "height": 282
        },
        "outputId": "cf943080-c032-4fb6-8d5d-37810dabf260"
      },
      "source": [
        "plt.plot(range(len(X_test_sc)),model.predict(X_test_sc).flat)\n",
        "plt.plot(range(len(X_test_sc)),y_test)"
      ],
      "execution_count": 30,
      "outputs": [
        {
          "output_type": "execute_result",
          "data": {
            "text/plain": [
              "[<matplotlib.lines.Line2D at 0x7f9e146ef978>]"
            ]
          },
          "metadata": {
            "tags": []
          },
          "execution_count": 30
        },
        {
          "output_type": "display_data",
          "data": {
            "image/png": "[encoded data removed]",
            "text/plain": [
              "<Figure size 432x288 with 1 Axes>"
            ]
          },
          "metadata": {
            "tags": [],
            "needs_background": "light"
          }
        }
      ]
    },
    {
      "cell_type": "markdown",
      "metadata": {
        "id": "1RTmBZ7sx1-y",
        "colab_type": "text"
      },
      "source": [
        "### Reshape the inputs"
      ]
    },
    {
      "cell_type": "code",
      "metadata": {
        "id": "h74LtriKZhhp",
        "colab_type": "code",
        "colab": {
          "base_uri": "https://localhost:8080/",
          "height": 136
        },
        "outputId": "603825bb-c471-43e8-fa57-08ff875478e6"
      },
      "source": [
        "X_test_sc[0].reshape(1,7,1)"
      ],
      "execution_count": 31,
      "outputs": [
        {
          "output_type": "execute_result",
          "data": {
            "text/plain": [
              "array([[[1.51654775],\n",
              "        [1.48174902],\n",
              "        [1.44065066],\n",
              "        [1.46292731],\n",
              "        [1.49310207],\n",
              "        [1.45345281],\n",
              "        [1.42378485]]])"
            ]
          },
          "metadata": {
            "tags": []
          },
          "execution_count": 31
        }
      ]
    },
    {
      "cell_type": "code",
      "metadata": {
        "id": "3VolYQoFZmBh",
        "colab_type": "code",
        "colab": {
          "base_uri": "https://localhost:8080/",
          "height": 34
        },
        "outputId": "ed6d1ed8-fefc-4828-8dd3-2100545d0f2f"
      },
      "source": [
        "model.predict(X_test_sc[0].reshape(1,7,1))"
      ],
      "execution_count": 32,
      "outputs": [
        {
          "output_type": "execute_result",
          "data": {
            "text/plain": [
              "array([[99.714554]], dtype=float32)"
            ]
          },
          "metadata": {
            "tags": []
          },
          "execution_count": 32
        }
      ]
    },
    {
      "cell_type": "code",
      "metadata": {
        "id": "BhrM6fY-ZpVD",
        "colab_type": "code",
        "colab": {
          "base_uri": "https://localhost:8080/",
          "height": 34
        },
        "outputId": "1ea90539-5402-46da-dcde-54cf69417de6"
      },
      "source": [
        "y_test[1000]"
      ],
      "execution_count": 33,
      "outputs": [
        {
          "output_type": "execute_result",
          "data": {
            "text/plain": [
              "98.68"
            ]
          },
          "metadata": {
            "tags": []
          },
          "execution_count": 33
        }
      ]
    },
    {
      "cell_type": "markdown",
      "metadata": {
        "id": "hwAnnF18x9BC",
        "colab_type": "text"
      },
      "source": [
        "### Create a Model"
      ]
    },
    {
      "cell_type": "code",
      "metadata": {
        "id": "xbK0gEL-ZraI",
        "colab_type": "code",
        "colab": {
          "base_uri": "https://localhost:8080/",
          "height": 255
        },
        "outputId": "56d61236-1c4d-46e7-f8a2-c2b2145350a5"
      },
      "source": [
        "from keras.models import Sequential\n",
        "from keras.layers import Dense,Dropout,LSTM\n",
        "model2 = Sequential()\n",
        "# 256 cels\n",
        "model2.add(LSTM(256,input_shape=(7,1)))\n",
        "model2.add(Dropout(0.3))\n",
        "# single neuron\n",
        "model2.add(Dense(1))\n",
        "model2.summary()"
      ],
      "execution_count": 34,
      "outputs": [
        {
          "output_type": "stream",
          "text": [
            "Model: \"sequential_2\"\n",
            "_________________________________________________________________\n",
            "Layer (type)                 Output Shape              Param #   \n",
            "=================================================================\n",
            "lstm_2 (LSTM)                (None, 256)               264192    \n",
            "_________________________________________________________________\n",
            "dropout_1 (Dropout)          (None, 256)               0         \n",
            "_________________________________________________________________\n",
            "dense_2 (Dense)              (None, 1)                 257       \n",
            "=================================================================\n",
            "Total params: 264,449\n",
            "Trainable params: 264,449\n",
            "Non-trainable params: 0\n",
            "_________________________________________________________________\n"
          ],
          "name": "stdout"
        }
      ]
    },
    {
      "cell_type": "markdown",
      "metadata": {
        "id": "aFYV_BGqyFyK",
        "colab_type": "text"
      },
      "source": [
        "### Compile the model with the proper optimizer and loss"
      ]
    },
    {
      "cell_type": "code",
      "metadata": {
        "id": "k7NhUqXPZwOH",
        "colab_type": "code",
        "colab": {}
      },
      "source": [
        "model2.compile(optimizer='adam',loss='mse')"
      ],
      "execution_count": 35,
      "outputs": []
    },
    {
      "cell_type": "code",
      "metadata": {
        "id": "lp7YT_TBZzUO",
        "colab_type": "code",
        "colab": {
          "base_uri": "https://localhost:8080/",
          "height": 1000
        },
        "outputId": "fa14dcf5-9775-44bc-8341-4ac0cdb49367"
      },
      "source": [
        "history2 = model2.fit(X_train_sc,y_train,epochs=100,validation_data=(X_test_sc,y_test))"
      ],
      "execution_count": null,
      "outputs": [
        {
          "output_type": "stream",
          "text": [
            "Train on 1000 samples, validate on 251 samples\n",
            "Epoch 1/100\n",
            "1000/1000 [==============================] - 1s 1ms/step - loss: 1284.0422 - val_loss: 268.0355\n",
            "Epoch 2/100\n",
            "1000/1000 [==============================] - 1s 1ms/step - loss: 146.4213 - val_loss: 34.3401\n",
            "Epoch 3/100\n",
            "1000/1000 [==============================] - 1s 993us/step - loss: 37.5032 - val_loss: 4.8909\n",
            "Epoch 4/100\n",
            "1000/1000 [==============================] - 1s 1ms/step - loss: 24.0812 - val_loss: 3.8241\n",
            "Epoch 5/100\n",
            "1000/1000 [==============================] - 1s 1ms/step - loss: 22.9888 - val_loss: 4.0413\n",
            "Epoch 6/100\n",
            "1000/1000 [==============================] - 1s 1ms/step - loss: 22.8510 - val_loss: 3.8844\n",
            "Epoch 7/100\n",
            "1000/1000 [==============================] - 1s 985us/step - loss: 22.9497 - val_loss: 3.8632\n",
            "Epoch 8/100\n",
            "1000/1000 [==============================] - 1s 1ms/step - loss: 22.4205 - val_loss: 3.6622\n",
            "Epoch 9/100\n",
            "1000/1000 [==============================] - 1s 1ms/step - loss: 21.0133 - val_loss: 3.3875\n",
            "Epoch 10/100\n",
            "1000/1000 [==============================] - 1s 1ms/step - loss: 18.9963 - val_loss: 2.9747\n",
            "Epoch 11/100\n",
            "1000/1000 [==============================] - 1s 1ms/step - loss: 19.1256 - val_loss: 2.5155\n",
            "Epoch 12/100\n",
            "1000/1000 [==============================] - 1s 1ms/step - loss: 16.7854 - val_loss: 2.0500\n",
            "Epoch 13/100\n",
            "1000/1000 [==============================] - 1s 990us/step - loss: 14.8103 - val_loss: 1.9173\n",
            "Epoch 14/100\n",
            "1000/1000 [==============================] - 1s 1ms/step - loss: 12.8825 - val_loss: 1.8551\n",
            "Epoch 15/100\n",
            "1000/1000 [==============================] - 1s 1ms/step - loss: 9.4791 - val_loss: 2.0975\n",
            "Epoch 16/100\n",
            "1000/1000 [==============================] - 1s 997us/step - loss: 7.4784 - val_loss: 2.3188\n",
            "Epoch 17/100\n",
            "1000/1000 [==============================] - 1s 994us/step - loss: 5.9419 - val_loss: 2.5511\n",
            "Epoch 18/100\n",
            "1000/1000 [==============================] - 1s 977us/step - loss: 5.4764 - val_loss: 2.7385\n",
            "Epoch 19/100\n",
            "1000/1000 [==============================] - 1s 1ms/step - loss: 5.0194 - val_loss: 2.4665\n",
            "Epoch 20/100\n",
            "1000/1000 [==============================] - 1s 1ms/step - loss: 5.2611 - val_loss: 2.3255\n",
            "Epoch 21/100\n",
            "1000/1000 [==============================] - 1s 1ms/step - loss: 5.2174 - val_loss: 2.1100\n",
            "Epoch 22/100\n",
            "1000/1000 [==============================] - 1s 999us/step - loss: 5.2045 - val_loss: 2.0642\n",
            "Epoch 23/100\n",
            "1000/1000 [==============================] - 1s 1ms/step - loss: 5.0126 - val_loss: 2.4620\n",
            "Epoch 24/100\n",
            "1000/1000 [==============================] - 1s 1ms/step - loss: 5.4907 - val_loss: 1.5191\n",
            "Epoch 25/100\n",
            "1000/1000 [==============================] - 1s 1ms/step - loss: 4.2643 - val_loss: 1.6938\n",
            "Epoch 26/100\n",
            "1000/1000 [==============================] - 1s 1ms/step - loss: 4.9282 - val_loss: 1.8219\n",
            "Epoch 27/100\n",
            "1000/1000 [==============================] - 1s 1ms/step - loss: 4.5255 - val_loss: 1.4649\n",
            "Epoch 28/100\n",
            "1000/1000 [==============================] - 1s 1ms/step - loss: 4.7345 - val_loss: 2.2330\n",
            "Epoch 29/100\n",
            "1000/1000 [==============================] - 1s 1ms/step - loss: 4.9926 - val_loss: 1.9981\n",
            "Epoch 30/100\n",
            "1000/1000 [==============================] - 1s 1ms/step - loss: 5.4332 - val_loss: 1.6920\n",
            "Epoch 31/100\n",
            "1000/1000 [==============================] - 1s 988us/step - loss: 4.6993 - val_loss: 1.7059\n",
            "Epoch 32/100\n",
            "1000/1000 [==============================] - 1s 1ms/step - loss: 4.7335 - val_loss: 1.6500\n",
            "Epoch 33/100\n",
            "1000/1000 [==============================] - 1s 1ms/step - loss: 4.8724 - val_loss: 1.8153\n",
            "Epoch 34/100\n",
            "1000/1000 [==============================] - 1s 1ms/step - loss: 4.8654 - val_loss: 1.7295\n",
            "Epoch 35/100\n",
            "1000/1000 [==============================] - 1s 991us/step - loss: 4.7700 - val_loss: 1.6698\n",
            "Epoch 36/100\n",
            "1000/1000 [==============================] - 1s 1ms/step - loss: 4.9945 - val_loss: 1.5468\n",
            "Epoch 37/100\n",
            "1000/1000 [==============================] - 1s 1ms/step - loss: 4.3328 - val_loss: 1.6057\n",
            "Epoch 38/100\n",
            "1000/1000 [==============================] - 1s 1ms/step - loss: 4.9612 - val_loss: 1.9656\n",
            "Epoch 39/100\n",
            "1000/1000 [==============================] - 1s 1ms/step - loss: 5.0108 - val_loss: 1.7346\n",
            "Epoch 40/100\n",
            "1000/1000 [==============================] - 1s 1ms/step - loss: 4.5746 - val_loss: 1.5316\n",
            "Epoch 41/100\n",
            "1000/1000 [==============================] - 1s 1ms/step - loss: 5.0782 - val_loss: 1.6166\n",
            "Epoch 42/100\n",
            "1000/1000 [==============================] - 1s 1ms/step - loss: 5.3458 - val_loss: 1.7579\n",
            "Epoch 43/100\n",
            "1000/1000 [==============================] - 1s 1ms/step - loss: 4.9323 - val_loss: 2.1767\n",
            "Epoch 44/100\n",
            "1000/1000 [==============================] - 1s 1ms/step - loss: 4.3468 - val_loss: 1.9879\n",
            "Epoch 45/100\n",
            "1000/1000 [==============================] - 1s 1ms/step - loss: 5.2115 - val_loss: 1.7342\n",
            "Epoch 46/100\n",
            "1000/1000 [==============================] - 1s 994us/step - loss: 4.3576 - val_loss: 1.5462\n",
            "Epoch 47/100\n",
            "1000/1000 [==============================] - 1s 1ms/step - loss: 5.0549 - val_loss: 2.1606\n",
            "Epoch 48/100\n",
            "1000/1000 [==============================] - 1s 1ms/step - loss: 5.0574 - val_loss: 1.4966\n",
            "Epoch 49/100\n",
            "1000/1000 [==============================] - 1s 1ms/step - loss: 4.6687 - val_loss: 1.5243\n",
            "Epoch 50/100\n",
            "1000/1000 [==============================] - 1s 1ms/step - loss: 4.6448 - val_loss: 1.9497\n",
            "Epoch 51/100\n",
            "1000/1000 [==============================] - 1s 1ms/step - loss: 4.6030 - val_loss: 2.1365\n",
            "Epoch 52/100\n",
            "1000/1000 [==============================] - 1s 1ms/step - loss: 4.8956 - val_loss: 1.8315\n",
            "Epoch 53/100\n",
            "1000/1000 [==============================] - 1s 1ms/step - loss: 4.7252 - val_loss: 1.5541\n",
            "Epoch 54/100\n",
            "1000/1000 [==============================] - 1s 1ms/step - loss: 4.4862 - val_loss: 1.8304\n",
            "Epoch 55/100\n",
            "1000/1000 [==============================] - 1s 1ms/step - loss: 4.6879 - val_loss: 1.4262\n",
            "Epoch 56/100\n",
            "1000/1000 [==============================] - 1s 1ms/step - loss: 4.3931 - val_loss: 1.4438\n",
            "Epoch 57/100\n",
            "1000/1000 [==============================] - 1s 1ms/step - loss: 4.7481 - val_loss: 1.4133\n",
            "Epoch 58/100\n",
            "1000/1000 [==============================] - 1s 1ms/step - loss: 4.5207 - val_loss: 1.4322\n",
            "Epoch 59/100\n",
            "1000/1000 [==============================] - 1s 1ms/step - loss: 4.7431 - val_loss: 1.5340\n",
            "Epoch 60/100\n",
            "1000/1000 [==============================] - 1s 992us/step - loss: 4.5107 - val_loss: 1.3813\n",
            "Epoch 61/100\n",
            "1000/1000 [==============================] - 1s 1ms/step - loss: 4.8179 - val_loss: 1.5193\n",
            "Epoch 62/100\n",
            "1000/1000 [==============================] - 1s 1ms/step - loss: 4.6022 - val_loss: 1.4644\n",
            "Epoch 63/100\n",
            "1000/1000 [==============================] - 1s 1ms/step - loss: 4.2319 - val_loss: 1.6150\n",
            "Epoch 64/100\n",
            "1000/1000 [==============================] - 1s 1ms/step - loss: 4.3364 - val_loss: 1.6103\n",
            "Epoch 65/100\n",
            "1000/1000 [==============================] - 1s 1ms/step - loss: 4.1000 - val_loss: 1.8613\n",
            "Epoch 66/100\n",
            "1000/1000 [==============================] - 1s 1ms/step - loss: 4.5521 - val_loss: 1.8141\n",
            "Epoch 67/100\n",
            "1000/1000 [==============================] - 1s 1ms/step - loss: 4.7993 - val_loss: 1.6853\n",
            "Epoch 68/100\n",
            "1000/1000 [==============================] - 1s 1ms/step - loss: 4.2369 - val_loss: 1.5012\n",
            "Epoch 69/100\n",
            "1000/1000 [==============================] - 1s 1ms/step - loss: 4.3329 - val_loss: 1.2112\n",
            "Epoch 70/100\n",
            "1000/1000 [==============================] - 1s 1ms/step - loss: 4.4012 - val_loss: 1.2968\n",
            "Epoch 71/100\n",
            "1000/1000 [==============================] - 1s 1ms/step - loss: 4.1220 - val_loss: 1.8567\n",
            "Epoch 72/100\n",
            "1000/1000 [==============================] - 1s 1ms/step - loss: 4.3065 - val_loss: 1.3666\n",
            "Epoch 73/100\n",
            "1000/1000 [==============================] - 1s 1ms/step - loss: 4.5082 - val_loss: 1.2537\n",
            "Epoch 74/100\n",
            "1000/1000 [==============================] - 1s 1ms/step - loss: 4.3683 - val_loss: 1.4126\n",
            "Epoch 75/100\n",
            "1000/1000 [==============================] - 1s 1ms/step - loss: 4.3190 - val_loss: 1.1263\n",
            "Epoch 76/100\n",
            "1000/1000 [==============================] - 1s 1ms/step - loss: 4.4280 - val_loss: 1.1722\n",
            "Epoch 77/100\n",
            "1000/1000 [==============================] - 1s 1ms/step - loss: 4.0071 - val_loss: 1.5114\n",
            "Epoch 78/100\n",
            "1000/1000 [==============================] - 1s 1ms/step - loss: 4.2928 - val_loss: 1.2882\n",
            "Epoch 79/100\n",
            "1000/1000 [==============================] - 1s 1ms/step - loss: 4.3312 - val_loss: 1.1126\n",
            "Epoch 80/100\n",
            "1000/1000 [==============================] - 1s 1ms/step - loss: 4.0101 - val_loss: 1.2681\n",
            "Epoch 81/100\n",
            "1000/1000 [==============================] - 1s 1ms/step - loss: 4.2215 - val_loss: 1.1023\n",
            "Epoch 82/100\n",
            "1000/1000 [==============================] - 1s 1ms/step - loss: 3.9130 - val_loss: 1.9925\n",
            "Epoch 83/100\n",
            "1000/1000 [==============================] - 1s 1ms/step - loss: 4.5422 - val_loss: 1.3975\n",
            "Epoch 84/100\n",
            "1000/1000 [==============================] - 1s 1ms/step - loss: 4.2430 - val_loss: 0.9450\n",
            "Epoch 85/100\n",
            "1000/1000 [==============================] - 1s 1ms/step - loss: 3.8060 - val_loss: 1.1848\n",
            "Epoch 86/100\n",
            "1000/1000 [==============================] - 1s 1ms/step - loss: 4.4306 - val_loss: 1.2314\n",
            "Epoch 87/100\n",
            "1000/1000 [==============================] - 1s 1ms/step - loss: 4.0789 - val_loss: 0.9342\n",
            "Epoch 88/100\n",
            "1000/1000 [==============================] - 1s 1ms/step - loss: 4.2448 - val_loss: 1.0730\n",
            "Epoch 89/100\n",
            "1000/1000 [==============================] - 1s 1ms/step - loss: 3.9133 - val_loss: 1.0855\n",
            "Epoch 90/100\n",
            "1000/1000 [==============================] - 1s 1ms/step - loss: 3.8402 - val_loss: 1.4045\n",
            "Epoch 91/100\n",
            "1000/1000 [==============================] - 1s 996us/step - loss: 3.6910 - val_loss: 1.0613\n",
            "Epoch 92/100\n",
            "1000/1000 [==============================] - 1s 1ms/step - loss: 3.7675 - val_loss: 1.2350\n",
            "Epoch 93/100\n",
            "1000/1000 [==============================] - 1s 1ms/step - loss: 4.3115 - val_loss: 1.1320\n",
            "Epoch 94/100\n",
            "1000/1000 [==============================] - 1s 1ms/step - loss: 3.9138 - val_loss: 1.4515\n",
            "Epoch 95/100\n",
            "1000/1000 [==============================] - 1s 1ms/step - loss: 4.0597 - val_loss: 0.7735\n",
            "Epoch 96/100\n",
            "1000/1000 [==============================] - 1s 1ms/step - loss: 3.7650 - val_loss: 1.4349\n",
            "Epoch 97/100\n",
            "1000/1000 [==============================] - 1s 1ms/step - loss: 4.0820 - val_loss: 1.0406\n",
            "Epoch 98/100\n",
            "1000/1000 [==============================] - 1s 1ms/step - loss: 3.6977 - val_loss: 0.8463\n",
            "Epoch 99/100\n",
            "1000/1000 [==============================] - 1s 1ms/step - loss: 3.7275 - val_loss: 1.0859\n",
            "Epoch 100/100\n",
            "1000/1000 [==============================] - 1s 1ms/step - loss: 4.1214 - val_loss: 0.7136\n"
          ],
          "name": "stdout"
        }
      ]
    },
    {
      "cell_type": "code",
      "metadata": {
        "id": "WeGG3zNJZ1c2",
        "colab_type": "code",
        "colab": {
          "base_uri": "https://localhost:8080/",
          "height": 231
        },
        "outputId": "41ddcf76-eda5-460b-b236-06ac559682bf"
      },
      "source": [
        "tr_loss = history2.history['loss']\n",
        "val_loss = history2.history['val_loss']\n",
        "ep = list(range(1,101))\n",
        "plt.plot(ep,tr_loss,color='r')\n",
        "plt.plot(ep,val_loss,color='b')"
      ],
      "execution_count": 36,
      "outputs": [
        {
          "output_type": "error",
          "ename": "NameError",
          "evalue": "ignored",
          "traceback": [
            "\u001b[0;31m---------------------------------------------------------------------------\u001b[0m",
            "\u001b[0;31mNameError\u001b[0m                                 Traceback (most recent call last)",
            "\u001b[0;32m<ipython-input-36-5e7a2a888e35>\u001b[0m in \u001b[0;36m<module>\u001b[0;34m()\u001b[0m\n\u001b[0;32m----> 1\u001b[0;31m \u001b[0mtr_loss\u001b[0m \u001b[0;34m=\u001b[0m \u001b[0mhistory2\u001b[0m\u001b[0;34m.\u001b[0m\u001b[0mhistory\u001b[0m\u001b[0;34m[\u001b[0m\u001b[0;34m'loss'\u001b[0m\u001b[0;34m]\u001b[0m\u001b[0;34m\u001b[0m\u001b[0;34m\u001b[0m\u001b[0m\n\u001b[0m\u001b[1;32m      2\u001b[0m \u001b[0mval_loss\u001b[0m \u001b[0;34m=\u001b[0m \u001b[0mhistory2\u001b[0m\u001b[0;34m.\u001b[0m\u001b[0mhistory\u001b[0m\u001b[0;34m[\u001b[0m\u001b[0;34m'val_loss'\u001b[0m\u001b[0;34m]\u001b[0m\u001b[0;34m\u001b[0m\u001b[0;34m\u001b[0m\u001b[0m\n\u001b[1;32m      3\u001b[0m \u001b[0mep\u001b[0m \u001b[0;34m=\u001b[0m \u001b[0mlist\u001b[0m\u001b[0;34m(\u001b[0m\u001b[0mrange\u001b[0m\u001b[0;34m(\u001b[0m\u001b[0;36m1\u001b[0m\u001b[0;34m,\u001b[0m\u001b[0;36m101\u001b[0m\u001b[0;34m)\u001b[0m\u001b[0;34m)\u001b[0m\u001b[0;34m\u001b[0m\u001b[0;34m\u001b[0m\u001b[0m\n\u001b[1;32m      4\u001b[0m \u001b[0mplt\u001b[0m\u001b[0;34m.\u001b[0m\u001b[0mplot\u001b[0m\u001b[0;34m(\u001b[0m\u001b[0mep\u001b[0m\u001b[0;34m,\u001b[0m\u001b[0mtr_loss\u001b[0m\u001b[0;34m,\u001b[0m\u001b[0mcolor\u001b[0m\u001b[0;34m=\u001b[0m\u001b[0;34m'r'\u001b[0m\u001b[0;34m)\u001b[0m\u001b[0;34m\u001b[0m\u001b[0;34m\u001b[0m\u001b[0m\n\u001b[1;32m      5\u001b[0m \u001b[0mplt\u001b[0m\u001b[0;34m.\u001b[0m\u001b[0mplot\u001b[0m\u001b[0;34m(\u001b[0m\u001b[0mep\u001b[0m\u001b[0;34m,\u001b[0m\u001b[0mval_loss\u001b[0m\u001b[0;34m,\u001b[0m\u001b[0mcolor\u001b[0m\u001b[0;34m=\u001b[0m\u001b[0;34m'b'\u001b[0m\u001b[0;34m)\u001b[0m\u001b[0;34m\u001b[0m\u001b[0;34m\u001b[0m\u001b[0m\n",
            "\u001b[0;31mNameError\u001b[0m: name 'history2' is not defined"
          ]
        }
      ]
    },
    {
      "cell_type": "code",
      "metadata": {
        "id": "RblctMDI4ExE",
        "colab_type": "code",
        "colab": {
          "base_uri": "https://localhost:8080/",
          "height": 1000
        },
        "outputId": "60a6ecb8-bf72-43d7-a755-a4a8d375d010"
      },
      "source": [
        "model2.predict(X_test_sc)"
      ],
      "execution_count": 37,
      "outputs": [
        {
          "output_type": "execute_result",
          "data": {
            "text/plain": [
              "array([[0.07892472],\n",
              "       [0.0783652 ],\n",
              "       [0.07827302],\n",
              "       [0.07902794],\n",
              "       [0.08012158],\n",
              "       [0.08129637],\n",
              "       [0.08306773],\n",
              "       [0.08556163],\n",
              "       [0.08820829],\n",
              "       [0.09011133],\n",
              "       [0.09147011],\n",
              "       [0.09228763],\n",
              "       [0.09316456],\n",
              "       [0.0935901 ],\n",
              "       [0.09393113],\n",
              "       [0.09439962],\n",
              "       [0.09488325],\n",
              "       [0.09574876],\n",
              "       [0.09625565],\n",
              "       [0.09596529],\n",
              "       [0.09541275],\n",
              "       [0.09590529],\n",
              "       [0.09634067],\n",
              "       [0.09793434],\n",
              "       [0.10107971],\n",
              "       [0.10531312],\n",
              "       [0.11022566],\n",
              "       [0.11485001],\n",
              "       [0.11914013],\n",
              "       [0.12201472],\n",
              "       [0.12251334],\n",
              "       [0.12272464],\n",
              "       [0.12105037],\n",
              "       [0.11956955],\n",
              "       [0.11826398],\n",
              "       [0.11708438],\n",
              "       [0.11688942],\n",
              "       [0.1158167 ],\n",
              "       [0.11544231],\n",
              "       [0.11513107],\n",
              "       [0.11479148],\n",
              "       [0.11475715],\n",
              "       [0.11567686],\n",
              "       [0.11657318],\n",
              "       [0.11773979],\n",
              "       [0.11818555],\n",
              "       [0.11846912],\n",
              "       [0.11854857],\n",
              "       [0.11842119],\n",
              "       [0.1189629 ],\n",
              "       [0.12035481],\n",
              "       [0.12225033],\n",
              "       [0.12458338],\n",
              "       [0.12717146],\n",
              "       [0.12879944],\n",
              "       [0.13072178],\n",
              "       [0.13186255],\n",
              "       [0.13261732],\n",
              "       [0.13362221],\n",
              "       [0.13404995],\n",
              "       [0.13421705],\n",
              "       [0.13377073],\n",
              "       [0.13322252],\n",
              "       [0.13272168],\n",
              "       [0.13218883],\n",
              "       [0.13152863],\n",
              "       [0.13127065],\n",
              "       [0.13147274],\n",
              "       [0.1317551 ],\n",
              "       [0.13167103],\n",
              "       [0.1308827 ],\n",
              "       [0.13050576],\n",
              "       [0.13070834],\n",
              "       [0.13087212],\n",
              "       [0.13117875],\n",
              "       [0.13267966],\n",
              "       [0.13631862],\n",
              "       [0.13974018],\n",
              "       [0.14303672],\n",
              "       [0.14657357],\n",
              "       [0.15053895],\n",
              "       [0.15328503],\n",
              "       [0.155001  ],\n",
              "       [0.15650311],\n",
              "       [0.1573666 ],\n",
              "       [0.15737513],\n",
              "       [0.1565741 ],\n",
              "       [0.15584905],\n",
              "       [0.15586787],\n",
              "       [0.15672033],\n",
              "       [0.15832606],\n",
              "       [0.1599482 ],\n",
              "       [0.16263324],\n",
              "       [0.16482796],\n",
              "       [0.16621336],\n",
              "       [0.16712868],\n",
              "       [0.16770619],\n",
              "       [0.16832769],\n",
              "       [0.16830729],\n",
              "       [0.1688438 ],\n",
              "       [0.16915363],\n",
              "       [0.16955793],\n",
              "       [0.1697498 ],\n",
              "       [0.17038968],\n",
              "       [0.17146978],\n",
              "       [0.17202653],\n",
              "       [0.17343694],\n",
              "       [0.17508292],\n",
              "       [0.17652711],\n",
              "       [0.17738858],\n",
              "       [0.17872103],\n",
              "       [0.1795752 ],\n",
              "       [0.18033363],\n",
              "       [0.18143936],\n",
              "       [0.18208289],\n",
              "       [0.18326858],\n",
              "       [0.18418142],\n",
              "       [0.18524466],\n",
              "       [0.18620867],\n",
              "       [0.18609616],\n",
              "       [0.18652926],\n",
              "       [0.18648067],\n",
              "       [0.18608326],\n",
              "       [0.18540359],\n",
              "       [0.18413989],\n",
              "       [0.18332154],\n",
              "       [0.18174694],\n",
              "       [0.17850387],\n",
              "       [0.17364061],\n",
              "       [0.16809765],\n",
              "       [0.16175157],\n",
              "       [0.15588793],\n",
              "       [0.15096894],\n",
              "       [0.14910565],\n",
              "       [0.1490886 ],\n",
              "       [0.15060818],\n",
              "       [0.15199791],\n",
              "       [0.15275346],\n",
              "       [0.15358709],\n",
              "       [0.15330619],\n",
              "       [0.15241879],\n",
              "       [0.15190327],\n",
              "       [0.15194228],\n",
              "       [0.15229821],\n",
              "       [0.15336065],\n",
              "       [0.15453967],\n",
              "       [0.15578315],\n",
              "       [0.15737021],\n",
              "       [0.15999687],\n",
              "       [0.16230847],\n",
              "       [0.1651713 ],\n",
              "       [0.16828503],\n",
              "       [0.17111018],\n",
              "       [0.1720419 ],\n",
              "       [0.17156795],\n",
              "       [0.17023684],\n",
              "       [0.16888005],\n",
              "       [0.167654  ],\n",
              "       [0.16679911],\n",
              "       [0.1678873 ],\n",
              "       [0.16937913],\n",
              "       [0.1700257 ],\n",
              "       [0.17004995],\n",
              "       [0.16965571],\n",
              "       [0.17006418],\n",
              "       [0.17025772],\n",
              "       [0.17053294],\n",
              "       [0.17015421],\n",
              "       [0.16977653],\n",
              "       [0.1692955 ],\n",
              "       [0.1685426 ],\n",
              "       [0.1680235 ],\n",
              "       [0.16771023],\n",
              "       [0.16832998],\n",
              "       [0.16910744],\n",
              "       [0.16972223],\n",
              "       [0.1692392 ],\n",
              "       [0.1685145 ],\n",
              "       [0.16816926],\n",
              "       [0.1686664 ],\n",
              "       [0.16883498],\n",
              "       [0.16896094],\n",
              "       [0.17009535],\n",
              "       [0.17136127],\n",
              "       [0.17216557],\n",
              "       [0.17199434],\n",
              "       [0.17235306],\n",
              "       [0.17291628],\n",
              "       [0.17121544],\n",
              "       [0.16791205],\n",
              "       [0.16370311],\n",
              "       [0.15971011],\n",
              "       [0.1553459 ],\n",
              "       [0.15091571],\n",
              "       [0.14910859],\n",
              "       [0.14806925],\n",
              "       [0.14725927],\n",
              "       [0.14719129],\n",
              "       [0.14680047],\n",
              "       [0.14683327],\n",
              "       [0.14659137],\n",
              "       [0.14672604],\n",
              "       [0.14589958],\n",
              "       [0.14552116],\n",
              "       [0.1451013 ],\n",
              "       [0.14643298],\n",
              "       [0.14840291],\n",
              "       [0.15043972],\n",
              "       [0.15318178],\n",
              "       [0.15590027],\n",
              "       [0.15739512],\n",
              "       [0.15785795],\n",
              "       [0.15835327],\n",
              "       [0.15802535],\n",
              "       [0.15814845],\n",
              "       [0.15783873],\n",
              "       [0.15751655],\n",
              "       [0.15840071],\n",
              "       [0.15971375],\n",
              "       [0.16146676],\n",
              "       [0.16371101],\n",
              "       [0.16551827],\n",
              "       [0.16681351],\n",
              "       [0.16858502],\n",
              "       [0.16901167],\n",
              "       [0.168649  ],\n",
              "       [0.16878697],\n",
              "       [0.1689226 ],\n",
              "       [0.16979463],\n",
              "       [0.1709873 ],\n",
              "       [0.1734361 ],\n",
              "       [0.17646883],\n",
              "       [0.17998445],\n",
              "       [0.18352687],\n",
              "       [0.18591112],\n",
              "       [0.18820326],\n",
              "       [0.189536  ],\n",
              "       [0.19023335],\n",
              "       [0.1913659 ],\n",
              "       [0.19446947],\n",
              "       [0.19929788],\n",
              "       [0.20428541],\n",
              "       [0.2095699 ],\n",
              "       [0.21510917],\n",
              "       [0.21977171],\n",
              "       [0.22350535],\n",
              "       [0.22502854],\n",
              "       [0.2254957 ],\n",
              "       [0.2252514 ],\n",
              "       [0.22391638],\n",
              "       [0.2206704 ]], dtype=float32)"
            ]
          },
          "metadata": {
            "tags": []
          },
          "execution_count": 37
        }
      ]
    },
    {
      "cell_type": "code",
      "metadata": {
        "id": "bapz26PD8MCW",
        "colab_type": "code",
        "colab": {
          "base_uri": "https://localhost:8080/",
          "height": 282
        },
        "outputId": "a0d4a659-a8f4-487a-dc2a-a42e951e7d6d"
      },
      "source": [
        "plt.plot(range(len(X_test_sc)),model2.predict(X_test_sc).flat)\n",
        "plt.plot(range(len(X_test_sc)),y_test)"
      ],
      "execution_count": 38,
      "outputs": [
        {
          "output_type": "execute_result",
          "data": {
            "text/plain": [
              "[<matplotlib.lines.Line2D at 0x7f9e145be4e0>]"
            ]
          },
          "metadata": {
            "tags": []
          },
          "execution_count": 38
        },
        {
          "output_type": "display_data",
          "data": {
            "image/png": "[encoded data removed]",
            "text/plain": [
              "<Figure size 432x288 with 1 Axes>"
            ]
          },
          "metadata": {
            "tags": [],
            "needs_background": "light"
          }
        }
      ]
    },
    {
      "cell_type": "code",
      "metadata": {
        "id": "U97YydSL8P8E",
        "colab_type": "code",
        "colab": {}
      },
      "source": [
        ""
      ],
      "execution_count": 38,
      "outputs": []
    }
  ]
}