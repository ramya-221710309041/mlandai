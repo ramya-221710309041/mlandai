{
 "cells": [
  {
   "cell_type": "code",
   "execution_count": 1,
   "metadata": {},
   "outputs": [
    {
     "name": "stdout",
     "output_type": "stream",
     "text": [
      "5\n"
     ]
    },
    {
     "data": {
      "text/plain": [
       "120"
      ]
     },
     "execution_count": 1,
     "metadata": {},
     "output_type": "execute_result"
    }
   ],
   "source": [
    "#1.factorial\n",
    "\n",
    "def fact(n):\n",
    "    if(n<=1):\n",
    "        return 1\n",
    "    else:\n",
    "        return n*fact(n-1)\n",
    "x=int(input())\n",
    "fact(x)"
   ]
  },
  {
   "cell_type": "code",
   "execution_count": 2,
   "metadata": {},
   "outputs": [
    {
     "name": "stdout",
     "output_type": "stream",
     "text": [
      "5\n",
      "0\n",
      "1\n",
      "1\n",
      "2\n",
      "3\n"
     ]
    }
   ],
   "source": [
    "#2.fibonacci\n",
    "\n",
    "def fibo(n):\n",
    "    if n <= 1:\n",
    "        return n\n",
    "    else:\n",
    "        return(fibo(n-1) + fibo(n-2))\n",
    "x=int(input())\n",
    "if x<= 0:\n",
    "    print(\"Plese enter a positive integer\")\n",
    "else:\n",
    "    for i in range(x):\n",
    "        print(fibo(i))"
   ]
  },
  {
   "cell_type": "code",
   "execution_count": 3,
   "metadata": {},
   "outputs": [
    {
     "name": "stdout",
     "output_type": "stream",
     "text": [
      "enter no. of elements in list:4\n",
      "1\n",
      "2\n",
      "3\n",
      "4\n",
      "the list is: [1, 2, 3, 4]\n",
      "sum is: 10\n"
     ]
    }
   ],
   "source": [
    "#3.sum of list elements\n",
    "x=[]\n",
    "n=int(input(\"enter no. of elements in list:\"))\n",
    "for i in range(0,n):\n",
    "    element=int(input())\n",
    "    x.append(element)\n",
    "print(\"the list is:\",x)\n",
    "s=0\n",
    "for i in range(0,len(x)):\n",
    "    s=s+x[i]\n",
    "print(\"sum is:\",s)"
   ]
  },
  {
   "cell_type": "code",
   "execution_count": 4,
   "metadata": {},
   "outputs": [
    {
     "name": "stdout",
     "output_type": "stream",
     "text": [
      "enter no. of elements in list:4\n",
      "1\n",
      "2\n",
      "34\n",
      "5\n",
      "the list is: [1, 2, 34, 5]\n",
      "the even numbers in list are:\n",
      "2\n",
      "34\n"
     ]
    }
   ],
   "source": [
    "#4.even numbers from the list\n",
    "x=[]\n",
    "n=int(input(\"enter no. of elements in list:\"))\n",
    "for i in range(0,n):\n",
    "    element=int(input())\n",
    "    x.append(element)\n",
    "print(\"the list is:\",x)\n",
    "print(\"the even numbers in list are:\")\n",
    "for i in range(0,len(x)):\n",
    "    if(x[i]%2==0):\n",
    "        print(x[i])"
   ]
  },
  {
   "cell_type": "code",
   "execution_count": 5,
   "metadata": {},
   "outputs": [
    {
     "name": "stdout",
     "output_type": "stream",
     "text": [
      "enter no. of elements in list:4\n",
      "12\n",
      "45\n",
      "67\n",
      "11\n",
      "the list is: [12, 45, 67, 11]\n",
      "smallest number in list is  11 at index  3\n"
     ]
    }
   ],
   "source": [
    "#5.smallest number and index of that number in list\n",
    "\n",
    "x=[]\n",
    "n=int(input(\"enter no. of elements in list:\"))\n",
    "for i in range(0,n):\n",
    "    element=int(input())\n",
    "    x.append(element)\n",
    "print(\"the list is:\",x)\n",
    "m=0\n",
    "t=x[0]\n",
    "for i in range(0,len(x)):\n",
    "    if(x[i]<t):\n",
    "        t=x[i]\n",
    "        m=i\n",
    "print(\"smallest number in list is \",t,\"at index \",m)"
   ]
  },
  {
   "cell_type": "code",
   "execution_count": 6,
   "metadata": {},
   "outputs": [
    {
     "name": "stdout",
     "output_type": "stream",
     "text": [
      "madam\n",
      "palindrome\n"
     ]
    }
   ],
   "source": [
    "#6.palindrome or not\n",
    "def palindrome(s): \n",
    "    t = s[::-1] \n",
    "    if(t==s):\n",
    "        print(\"palindrome\")\n",
    "    else:\n",
    "        print(\"not a palindrome\")\n",
    "x=input()\n",
    "palindrome(x)"
   ]
  },
  {
   "cell_type": "code",
   "execution_count": 7,
   "metadata": {},
   "outputs": [
    {
     "name": "stdout",
     "output_type": "stream",
     "text": [
      "enter no. of elements in list:5\n",
      "1\n",
      "2\n",
      "3\n",
      "5\n",
      "6\n",
      "the list is: [1, 2, 3, 5, 6]\n",
      "Number of even numbers:  2\n",
      "Number of odd numbers:  3\n"
     ]
    }
   ],
   "source": [
    "#7.no. of odd and even elements in a list\n",
    "x=[]\n",
    "n=int(input(\"enter no. of elements in list:\"))\n",
    "for i in range(0,n):\n",
    "    element=int(input())\n",
    "    x.append(element)\n",
    "print(\"the list is:\",x)\n",
    "even=0\n",
    "odd=0\n",
    "for i in range(0,len(x)):\n",
    "    if(x[i]%2==0):\n",
    "        even+=1\n",
    "    else:\n",
    "        odd+=1\n",
    "print(\"Number of even numbers: \",even)\n",
    "print(\"Number of odd numbers: \",odd)"
   ]
  },
  {
   "cell_type": "code",
   "execution_count": 8,
   "metadata": {},
   "outputs": [
    {
     "name": "stdout",
     "output_type": "stream",
     "text": [
      "0\n",
      "1\n",
      "2\n",
      "4\n",
      "5\n"
     ]
    }
   ],
   "source": [
    "#8.prints 0 to 6 except 3 and 6\n",
    "\n",
    "for i in range(0,7):\n",
    "    if(i==3 or i==6):\n",
    "        continue\n",
    "    else:\n",
    "        print(i)"
   ]
  },
  {
   "cell_type": "code",
   "execution_count": 9,
   "metadata": {},
   "outputs": [
    {
     "name": "stdout",
     "output_type": "stream",
     "text": [
      "45\n",
      "it is not a prime\n"
     ]
    }
   ],
   "source": [
    "#9.prime or not\n",
    "\n",
    "def prime(n):\n",
    "    c=0\n",
    "    for i in range(1,n+1):\n",
    "        if(n%i==0):\n",
    "            c+=1\n",
    "    if(c==2):\n",
    "        print(\"it is prime\")\n",
    "    else:\n",
    "        print(\"it is not a prime\")\n",
    "x=int(input())\n",
    "prime(x)"
   ]
  },
  {
   "cell_type": "code",
   "execution_count": 10,
   "metadata": {},
   "outputs": [
    {
     "name": "stdout",
     "output_type": "stream",
     "text": [
      "12\n",
      "Adam Number\n"
     ]
    }
   ],
   "source": [
    "#10.adam number\n",
    "\n",
    "def isAdam(num):\n",
    "    n = num\n",
    "    rev = 0\n",
    "    while n != 0:\n",
    "        rev = rev * 10 + n % 10\n",
    "        n = n // 10\n",
    "    sn = num ** 2\n",
    "    sr = rev ** 2\n",
    "    n = sr\n",
    "    rev = 0\n",
    "    while n != 0:\n",
    "        rev = rev * 10 + n % 10\n",
    "        n = n // 10\n",
    "    return sn == rev\n",
    "\n",
    "num = int(input())\n",
    "if isAdam(num):\n",
    "    print(\"Adam Number\")\n",
    "else:\n",
    "    print(\"not an Adam Number\")"
   ]
  }
 ],
 "metadata": {
  "kernelspec": {
   "display_name": "Python 3",
   "language": "python",
   "name": "python3"
  },
  "language_info": {
   "codemirror_mode": {
    "name": "ipython",
    "version": 3
   },
   "file_extension": ".py",
   "mimetype": "text/x-python",
   "name": "python",
   "nbconvert_exporter": "python",
   "pygments_lexer": "ipython3",
   "version": "3.7.4"
  }
 },
 "nbformat": 4,
 "nbformat_minor": 2
}
